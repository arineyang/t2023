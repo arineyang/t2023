{
 "cells": [
  {
   "cell_type": "markdown",
   "id": "1913b190-2b5d-4bad-9a84-fc438253bc55",
   "metadata": {},
   "source": [
    "# 任务描述\n",
    "\n",
    "近年来，随着人工智能的发展，其在语音识别、自然语言处理、图像与视频分析等诸多领域取得了巨大成功。随着政府对环境保护的呼吁，垃圾分类成为一个亟待解决的问题，本次竞赛将聚焦在垃圾图片的分类，利用人工智能技术，对居民生活垃圾图片进行检测，找出图片中有哪些类别的垃圾。 要求参赛者给出一个算法或模型，对于给定的图片，检测出图片中的垃圾类别。给定图片数据，选手据此训练模型，为每张测试数据预测出最正确的类别。"
   ]
  },
  {
   "cell_type": "markdown",
   "id": "127261a6-374e-4220-9f2c-13ba54c67b19",
   "metadata": {},
   "source": [
    "# 数据说明\n",
    "\n",
    "本竞赛所用训练和测试图片均来自生活场景。总共四十个类别，类别和标签对应关系在训练集中的dict文件里。图片中垃圾的类别，格式是“一级类别/二级类别”，二级类别是具体的垃圾物体类别，也就是训练数据中标注的类别，比如一次性快餐盒、果皮果肉、旧衣服等。一级类别有四种类别：可回收物、厨余垃圾、有害垃圾和其他垃圾。 数据文件包括训练集(有标注)和测试集(无标注)，训练集的所有图片分别保存在train文件夹下面的0-39个文件夹中，文件名即类别标签，测试集共有400张待分类的垃圾图片在test文件夹下，testpath.txt保存了所有测试集文件的名称，格式为：name+\\n。\n",
    "![](https://ai-studio-static-online.cdn.bcebos.com/514a5887b4c64fa5bdae491a033bc448eff52ea1a39c4ea2ae79a7373b58d6e9)\n",
    "![](https://ai-studio-static-online.cdn.bcebos.com/6e73a1d506b94362bd26ad99badf91df5a2d3b48d7864c529d022a5bf188d0e8)\n"
   ]
  },
  {
   "cell_type": "markdown",
   "id": "5b754fc5-e49b-4773-b5dd-f4995804b996",
   "metadata": {},
   "source": [
    "# 提交答案\n",
    "\n",
    "考试提交，需要提交模型代码项目版本和结果文件。结果文件为TXT文件格式，命名为result.txt，文件内的字段需要按照指定格式写入。 提交结果的格式如下：\n",
    "\n",
    "每一行为：图像名 标签 test1.jpg 29\n",
    "输出结果应检查是否为400行数据，否则成绩无效。\n",
    ".输出结果文件命名为result.txt，一行一个数据。\n",
    "样例如下：\n",
    "\n",
    "···     \n",
    "test2.jpg 1         \n",
    "test3.jpg 4     \n",
    "test4.jpg 23    \n",
    "test5.jpg 5     \n",
    "test6.jpg 0     \n",
    "test7.jpg 1     \n",
    "test8.jpg 31        \n",
    "test9.jpg 33    \n",
    "test10.jpg 34   \n",
    "test11.jpg 31 \n",
    "\n",
    "···    \n"
   ]
  }
 ],
 "metadata": {
  "kernelspec": {
   "display_name": "Python 3",
   "language": "python",
   "name": "py35-paddle1.2.0"
  },
  "language_info": {
   "codemirror_mode": {
    "name": "ipython",
    "version": 3
   },
   "file_extension": ".py",
   "mimetype": "text/x-python",
   "name": "python",
   "nbconvert_exporter": "python",
   "pygments_lexer": "ipython3",
   "version": "3.7.4"
  }
 },
 "nbformat": 4,
 "nbformat_minor": 5
}

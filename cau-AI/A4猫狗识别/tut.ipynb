{
 "cells": [
  {
   "cell_type": "markdown",
   "metadata": {
    "collapsed": false
   },
   "source": [
    "\n",
    "图像分类是根据图像的语义信息将不同类别图像区分开来，是计算机视觉中重要的基本问题\n",
    "\n",
    "猫狗分类属于图像分类中的粗粒度分类问题\n",
    "\n",
    "![](https://ai-studio-static-online.cdn.bcebos.com/1cd9ef37036647c2afbbc866a7d2c14179f33cf1e2494d1f8f00de556d231452)"
   ]
  },
  {
   "cell_type": "code",
   "execution_count": null,
   "metadata": {
    "collapsed": false
   },
   "outputs": [],
   "source": []
  },
  {
   "cell_type": "markdown",
   "metadata": {
    "collapsed": false
   },
   "source": [
    "\n",
    "**首先导入必要的包**\n",
    "\n",
    "paddle--->PaddlePaddle深度学习框架\n",
    "\n",
    "os------------->python的模块，可使用该模块对操作系统进行操作\n",
    "\n",
    "numpy---------->python第三方库，用于进行科学计算\n",
    "\n",
    "PIL------------> Python Image Library,python第三方图像处理库\n",
    "\n",
    "matplotlib----->python的绘图库 pyplot:matplotlib的绘图框架\n",
    "\n",
    "os------------->提供了丰富的方法来处理文件和目录\n",
    "\n",
    "sys------------->供对解释器使用或维护的一些变量的访问，以及与解释器强烈交互的函数。\n",
    "\n",
    "pickle---------->模块实现了基本的数据序列和反序列化"
   ]
  },
  {
   "cell_type": "code",
   "execution_count": 1,
   "metadata": {
    "collapsed": false
   },
   "outputs": [
    {
     "name": "stderr",
     "output_type": "stream",
     "text": [
      "/opt/conda/envs/python35-paddle120-env/lib/python3.7/site-packages/matplotlib/__init__.py:107: DeprecationWarning: Using or importing the ABCs from 'collections' instead of from 'collections.abc' is deprecated, and in 3.8 it will stop working\n",
      "  from collections import MutableMapping\n",
      "/opt/conda/envs/python35-paddle120-env/lib/python3.7/site-packages/matplotlib/rcsetup.py:20: DeprecationWarning: Using or importing the ABCs from 'collections' instead of from 'collections.abc' is deprecated, and in 3.8 it will stop working\n",
      "  from collections import Iterable, Mapping\n",
      "/opt/conda/envs/python35-paddle120-env/lib/python3.7/site-packages/matplotlib/colors.py:53: DeprecationWarning: Using or importing the ABCs from 'collections' instead of from 'collections.abc' is deprecated, and in 3.8 it will stop working\n",
      "  from collections import Sized\n"
     ]
    },
    {
     "name": "stdout",
     "output_type": "stream",
     "text": [
      "本教程基于Paddle的版本号为：2.2.2\n"
     ]
    }
   ],
   "source": [
    "# \n",
    "# 导入需要的包\n",
    "import paddle\n",
    "import numpy as np\n",
    "from PIL import Image\n",
    "import sys\n",
    "import matplotlib.pyplot as plt\n",
    "import os\n",
    "import sys \n",
    "import pickle\n",
    "print(\"本教程基于Paddle的版本号为：\"+paddle.__version__)\n"
   ]
  },
  {
   "cell_type": "markdown",
   "metadata": {
    "collapsed": false
   },
   "source": [
    "# **Step1:准备数据**\n",
    "**（1）数据集介绍**\n",
    "\n",
    "我们使用CIFAR10数据集。CIFAR10数据集包含60,000张32x32的彩色图片，10个类别，每个类包含6,000张。其中50,000张图片作为训练集，10000张作为验证集。这次我们只对其中的猫和狗两类进行预测。\n",
    "\n",
    "![](https://ai-studio-static-online.cdn.bcebos.com/567016c028714d21bfe690dee70e9ea31512ba3575bd4d7caebbb7ade05c72ac)\n",
    "\n",
    "**(2)train_reader和test_reader**\n",
    "\n",
    "自定义读取器处理训练集和测试集\n",
    "\n",
    "paddle.reader.shuffle()表示每次缓存BUF_SIZE个数据项，并进行打乱\n",
    "\n",
    "paddle.batch()表示每BATCH_SIZE组成一个batch"
   ]
  },
  {
   "cell_type": "code",
   "execution_count": 2,
   "metadata": {
    "collapsed": false
   },
   "outputs": [
    {
     "name": "stdout",
     "output_type": "stream",
     "text": [
      "cifar-10-batches-py/\n",
      "cifar-10-batches-py/data_batch_4\n",
      "cifar-10-batches-py/readme.html\n",
      "cifar-10-batches-py/test_batch\n",
      "cifar-10-batches-py/data_batch_3\n",
      "cifar-10-batches-py/batches.meta\n",
      "cifar-10-batches-py/data_batch_2\n",
      "cifar-10-batches-py/data_batch_5\n",
      "cifar-10-batches-py/data_batch_1\n"
     ]
    }
   ],
   "source": [
    "#解压数据集\r\n",
    "!tar -zxvf /home/aistudio/data/data9154/cifar-10-python.tar.gz"
   ]
  },
  {
   "cell_type": "code",
   "execution_count": 3,
   "metadata": {
    "collapsed": false
   },
   "outputs": [
    {
     "name": "stdout",
     "output_type": "stream",
     "text": [
      "dict_keys([b'batch_label', b'labels', b'data', b'filenames'])\n",
      "dict_keys([b'batch_label', b'labels', b'data', b'filenames'])\n"
     ]
    }
   ],
   "source": [
    "#定义数据序列化函数\r\n",
    "def unpickle(file):\r\n",
    "    with open(file, 'rb') as fo:\r\n",
    "        dict = pickle.load(fo, encoding='bytes')\r\n",
    "    return dict\r\n",
    "\r\n",
    "print(unpickle(\"cifar-10-batches-py/data_batch_1\").keys())\r\n",
    "print(unpickle(\"cifar-10-batches-py/test_batch\").keys())"
   ]
  },
  {
   "cell_type": "code",
   "execution_count": 4,
   "metadata": {
    "collapsed": false
   },
   "outputs": [
    {
     "name": "stdout",
     "output_type": "stream",
     "text": [
      "=============train_dataset =============\n",
      "(3072,) 9\n",
      "50000\n",
      "=============eval_dataset =============\n",
      "(3072,) 3\n",
      "10000\n"
     ]
    }
   ],
   "source": [
    "'''\r\n",
    "自定义数据集\r\n",
    "'''\r\n",
    "from paddle.io import Dataset\r\n",
    "class MyDataset(paddle.io.Dataset):\r\n",
    "    \"\"\"\r\n",
    "    步骤一：继承paddle.io.Dataset类\r\n",
    "    \"\"\"\r\n",
    "    def __init__(self, mode='train'):\r\n",
    "        \"\"\"\r\n",
    "        步骤二：实现构造函数，定义数据集大小\r\n",
    "        \"\"\"\r\n",
    "        super(MyDataset, self).__init__()\r\n",
    "        if mode == 'train':\r\n",
    "            xs=[]\r\n",
    "            ys=[]\r\n",
    "            self.data = []\r\n",
    "            self.label = []\r\n",
    "            #批量读入数据\r\n",
    "            for i in range(1,6):\r\n",
    "                train_dict=unpickle(\"cifar-10-batches-py/data_batch_%d\" % (i,))\r\n",
    "                xs.append(train_dict[b'data'])\r\n",
    "                ys.append(train_dict[b'labels'])\r\n",
    "            #拼接数据\r\n",
    "            Xtr = np.concatenate(xs)\r\n",
    "            Ytr = np.concatenate(ys)\r\n",
    "            #数据归一化处理\r\n",
    "            for (x,y) in zip(Xtr,Ytr):  \r\n",
    "                x= x.flatten().astype('float32')/255.0\r\n",
    "                #将数据同一添加到data和label中\r\n",
    "                self.data.append(x)\r\n",
    "                self.label.append(np.array(y).astype('int64'))\r\n",
    "        else:\r\n",
    "            self.data = []\r\n",
    "            self.label = []\r\n",
    "            #读入数据\r\n",
    "            test_dict=unpickle(\"cifar-10-batches-py/test_batch\")\r\n",
    "            X=test_dict[b'data']\r\n",
    "            Y=test_dict[b'labels']\r\n",
    "            for (x,y) in zip(X,Y):  \r\n",
    "                #数据归一化处理\r\n",
    "                x= x.flatten().astype('float32')/255.0\r\n",
    "                #将数据同一添加到data和label中\r\n",
    "                self.data.append(x)\r\n",
    "                self.label.append(np.array(y).astype('int64'))\r\n",
    "    def __getitem__(self, index):\r\n",
    "        \"\"\"\r\n",
    "        步骤三：实现__getitem__方法，定义指定index时如何获取数据，并返回单条数据（训练数据，对应的标签）\r\n",
    "        \"\"\"\r\n",
    "        #返回单一数据和标签\r\n",
    "        data = self.data[index]\r\n",
    "        label = self.label[index]\r\n",
    "        #注：返回标签数据时必须是int64\r\n",
    "        return data, np.array(label, dtype='int64')\r\n",
    "    def __len__(self):\r\n",
    "        \"\"\"\r\n",
    "        步骤四：实现__len__方法，返回数据集总数目\r\n",
    "        \"\"\"\r\n",
    "        #返回数据总数\r\n",
    "        return len(self.data)\r\n",
    "\r\n",
    "# 测试定义的数据集\r\n",
    "train_dataset = MyDataset(mode='train')\r\n",
    "eval_dataset = MyDataset(mode='val')\r\n",
    "print('=============train_dataset =============')\r\n",
    "#输出数据集的形状和标签\r\n",
    "print(train_dataset.__getitem__(1)[0].shape,train_dataset.__getitem__(1)[1])\r\n",
    "#输出数据集的长度\r\n",
    "print(train_dataset.__len__())\r\n",
    "print('=============eval_dataset =============')\r\n",
    "#输出数据集的形状和标签\r\n",
    "for data, label in eval_dataset:\r\n",
    "    print(data.shape, label)\r\n",
    "    break\r\n",
    "#输出数据集的长度\r\n",
    "print(eval_dataset.__len__())"
   ]
  },
  {
   "cell_type": "markdown",
   "metadata": {
    "collapsed": false
   },
   "source": [
    "# **Step2.网络配置**\n",
    "\n",
    "**（1）网络搭建**\n",
    "\n",
    "*** **CNN网络模型**\n",
    "\n",
    "在CNN模型中，卷积神经网络能够更好的利用图像的结构信息。下面定义了一个较简单的卷积神经网络。显示了其结构：输入的二维图像，先经过三次卷积层、池化层和Batchnorm，再经过全连接层，最后使用softmax分类作为输出层。\n",
    "\n",
    "![](https://ai-studio-static-online.cdn.bcebos.com/98b9b702cce040fb8a874e28eae6d34ace6025a2c9444cdd954ab5f14d69cfdc)\n",
    "\n",
    "**池化**是非线性下采样的一种形式，主要作用是通过减少网络的参数来减小计算量，并且能够在一定程度上控制过拟合。通常在卷积层的后面会加上一个池化层。paddlepaddle池化默认为最大池化。是用不重叠的矩形框将输入层分成不同的区域，对于每个矩形框的数取最大值作为输出\n",
    "\n",
    "**BatchNorm2D**顾名思义是对每batch个数据同时做一个norm。作用就是在深度神经网络训练过程中使得每一层神经网络的输入保持相同分布的。"
   ]
  },
  {
   "cell_type": "code",
   "execution_count": 5,
   "metadata": {
    "collapsed": false
   },
   "outputs": [],
   "source": [
    "#定义CNN网络\r\n",
    "class MyCNN(paddle.nn.Layer):\r\n",
    "    def __init__(self):\r\n",
    "        super(MyCNN,self).__init__()\r\n",
    "        self.conv0 = paddle.nn.Conv2D(in_channels=3, out_channels=20, kernel_size=5, padding=0)\r\n",
    "        self.pool0 = paddle.nn.MaxPool2D(kernel_size =2, stride =2)\r\n",
    "        self._batch_norm_0 = paddle.nn.BatchNorm2D(num_features = 20)\r\n",
    "\r\n",
    "        self.conv1 = paddle.nn.Conv2D(in_channels=20, out_channels=50, kernel_size=5, padding=0)\r\n",
    "        self.pool1 = paddle.nn.MaxPool2D(kernel_size =2, stride =2)\r\n",
    "        self._batch_norm_1 = paddle.nn.BatchNorm2D(num_features = 50)\r\n",
    "\r\n",
    "        self.conv2 = paddle.nn.Conv2D(in_channels=50, out_channels=50, kernel_size=5, padding=0)\r\n",
    "        self.pool2 = paddle.nn.MaxPool2D(kernel_size =2, stride =2)\r\n",
    "        self.fc1 = paddle.nn.Linear(in_features=50, out_features=10)\r\n",
    "    \r\n",
    "    def forward(self,input):\r\n",
    "        #将输入数据的样子该变成[1,3,32,32]\r\n",
    "        input = paddle.reshape(input,shape=[-1,3,32,32])\r\n",
    "        x = self.conv0(input)\r\n",
    "        x = paddle.nn.functional.relu(x)\r\n",
    "        x = self.pool0(x)\r\n",
    "        x = self._batch_norm_0(x)\r\n",
    "\r\n",
    "        x = self.conv1(x)\r\n",
    "        x = paddle.nn.functional.relu(x)\r\n",
    "        x = self.pool1(x)\r\n",
    "        x = self._batch_norm_1(x)\r\n",
    "\r\n",
    "        x = self.conv2(x)\r\n",
    "        x = paddle.nn.functional.relu(x)\r\n",
    "        x = self.pool2(x)\r\n",
    "        x = paddle.reshape(x, [x.shape[0], -1])\r\n",
    "        x = self.fc1(x)\r\n",
    "        y = paddle.nn.functional.softmax(x)\r\n",
    "        return y"
   ]
  },
  {
   "cell_type": "markdown",
   "metadata": {
    "collapsed": false
   },
   "source": [
    "# **Step3.模型训练 and Step4.模型评估**"
   ]
  },
  {
   "cell_type": "code",
   "execution_count": 6,
   "metadata": {
    "collapsed": false
   },
   "outputs": [
    {
     "name": "stdout",
     "output_type": "stream",
     "text": [
      "The loss value printed in the log is the current step, and the metric is the average value of previous steps.\n",
      "Epoch 1/5\n"
     ]
    },
    {
     "name": "stderr",
     "output_type": "stream",
     "text": [
      "/opt/conda/envs/python35-paddle120-env/lib/python3.7/site-packages/paddle/fluid/layers/utils.py:77: DeprecationWarning: Using or importing the ABCs from 'collections' instead of from 'collections.abc' is deprecated, and in 3.8 it will stop working\n",
      "  return (isinstance(seq, collections.Sequence) and\n",
      "/opt/conda/envs/python35-paddle120-env/lib/python3.7/site-packages/paddle/nn/layer/norm.py:653: UserWarning: When training, we now always track global mean and variance.\n",
      "  \"When training, we now always track global mean and variance.\")\n"
     ]
    },
    {
     "name": "stdout",
     "output_type": "stream",
     "text": [
      "step 196/196 [==============================] - loss: 1.9184 - acc_top1: 0.4471 - acc_top5: 0.8701 - 227ms/step         \n",
      "save checkpoint at /home/aistudio/chk_points/0\n",
      "Eval begin...\n",
      "step 40/40 [==============================] - loss: 2.1211 - acc_top1: 0.4971 - acc_top5: 0.8878 - 64ms/step        \n",
      "Eval samples: 10000\n",
      "Epoch 2/5\n",
      "step 196/196 [==============================] - loss: 1.9054 - acc_top1: 0.5787 - acc_top5: 0.9300 - 226ms/step         \n",
      "save checkpoint at /home/aistudio/chk_points/1\n",
      "Eval begin...\n",
      "step 40/40 [==============================] - loss: 1.9921 - acc_top1: 0.5557 - acc_top5: 0.9294 - 62ms/step        \n",
      "Eval samples: 10000\n",
      "Epoch 3/5\n",
      "step 196/196 [==============================] - loss: 1.8879 - acc_top1: 0.6295 - acc_top5: 0.9456 - 225ms/step         \n",
      "save checkpoint at /home/aistudio/chk_points/2\n",
      "Eval begin...\n",
      "step 40/40 [==============================] - loss: 2.1130 - acc_top1: 0.5763 - acc_top5: 0.9267 - 62ms/step        \n",
      "Eval samples: 10000\n",
      "Epoch 4/5\n",
      "step 196/196 [==============================] - loss: 1.8490 - acc_top1: 0.6652 - acc_top5: 0.9518 - 225ms/step         \n",
      "save checkpoint at /home/aistudio/chk_points/3\n",
      "Eval begin...\n",
      "step 40/40 [==============================] - loss: 2.0214 - acc_top1: 0.6206 - acc_top5: 0.9503 - 61ms/step        \n",
      "Eval samples: 10000\n",
      "Epoch 5/5\n",
      "step 196/196 [==============================] - loss: 1.7200 - acc_top1: 0.6899 - acc_top5: 0.9561 - 225ms/step         \n",
      "save checkpoint at /home/aistudio/chk_points/4\n",
      "Eval begin...\n",
      "step 40/40 [==============================] - loss: 1.9548 - acc_top1: 0.6181 - acc_top5: 0.9530 - 61ms/step        \n",
      "Eval samples: 10000\n",
      "save checkpoint at /home/aistudio/chk_points/final\n"
     ]
    }
   ],
   "source": [
    "\r\n",
    "#step3:训练模型\r\n",
    "# 用Model封装模型\r\n",
    "model = paddle.Model(MyCNN())\r\n",
    "# 定义损失函数\r\n",
    "model.prepare(paddle.optimizer.Adam(parameters=model.parameters()),paddle.nn.CrossEntropyLoss(),paddle.metric.Accuracy(topk=(1,5)))\r\n",
    "# 训练可视化VisualDL工具的回调函数\r\n",
    "visualdl = paddle.callbacks.VisualDL(log_dir='visualdl_log')\r\n",
    "# 启动模型全流程训练\r\n",
    "model.fit(train_dataset,            # 训练数据集\r\n",
    "           eval_dataset,            # 评估数据集\r\n",
    "          epochs=5,            # 总的训练轮次\r\n",
    "          batch_size = 256,    # 批次计算的样本量大小\r\n",
    "          shuffle=True,             # 是否打乱样本集\r\n",
    "          verbose=1,                # 日志展示格式\r\n",
    "          save_dir='./chk_points/', # 分阶段的训练模型存储路径\r\n",
    "          callbacks=[visualdl])     # 回调函数使用\r\n",
    "#保存模型\r\n",
    "model.save('model_save_dir')"
   ]
  },
  {
   "cell_type": "code",
   "execution_count": 7,
   "metadata": {
    "collapsed": false
   },
   "outputs": [],
   "source": [
    "def load_image(file):\r\n",
    "        #打开图片\r\n",
    "        im = Image.open(file)\r\n",
    "        #将图片调整为跟训练数据一样的大小  32*32，设定ANTIALIAS，即抗锯齿.resize是缩放\r\n",
    "        im = im.resize((32, 32), Image.ANTIALIAS)\r\n",
    "        #建立图片矩阵 类型为float32\r\n",
    "        im = np.array(im).astype(np.float32)\r\n",
    "        #矩阵转置 \r\n",
    "        im = im.transpose((2, 0, 1))                               \r\n",
    "        #将像素值从【0-255】转换为【0-1】\r\n",
    "        im = im / 255.0\r\n",
    "        #print(im)       \r\n",
    "        im = np.expand_dims(im, axis=0)\r\n",
    "        # 保持和之前输入image维度一致\r\n",
    "        print('im_shape的维度：',im.shape)\r\n",
    "        return im"
   ]
  },
  {
   "cell_type": "code",
   "execution_count": 8,
   "metadata": {
    "collapsed": false
   },
   "outputs": [
    {
     "name": "stderr",
     "output_type": "stream",
     "text": [
      "/opt/conda/envs/python35-paddle120-env/lib/python3.7/site-packages/matplotlib/cbook/__init__.py:2349: DeprecationWarning: Using or importing the ABCs from 'collections' instead of from 'collections.abc' is deprecated, and in 3.8 it will stop working\n",
      "  if isinstance(obj, collections.Iterator):\n",
      "/opt/conda/envs/python35-paddle120-env/lib/python3.7/site-packages/matplotlib/cbook/__init__.py:2366: DeprecationWarning: Using or importing the ABCs from 'collections' instead of from 'collections.abc' is deprecated, and in 3.8 it will stop working\n",
      "  return list(data) if isinstance(data, collections.MappingView) else data\n"
     ]
    },
    {
     "data": {
      "image/png": "[encoded data removed]",
      "text/plain": [
       "<Figure size 640x480 with 1 Axes>"
      ]
     },
     "metadata": {},
     "output_type": "display_data"
    },
    {
     "name": "stdout",
     "output_type": "stream",
     "text": [
      "im_shape的维度： (1, 3, 32, 32)\n",
      "Predict begin...\n",
      "step 1/1 [==============================] - 3ms/step\n",
      "Predict samples: 3\n",
      "results [(array([[1.0379372e-04, 4.1628674e-09, 9.1696584e-01, 2.9961688e-03,\n",
      "        4.3390114e-06, 7.9838350e-02, 1.0598869e-05, 8.0849051e-05,\n",
      "        1.7790647e-08, 1.4289981e-08]], dtype=float32),)]\n",
      "infer results: bird\n"
     ]
    }
   ],
   "source": [
    "#定义标签列表\r\n",
    "label_list = [ \"airplane\", \"automobile\", \"bird\", \"cat\", \"deer\", \"dog\", \"frog\", \"horse\",\"ship\", \"truck\"]\r\n",
    "#读入测试图片并展示\r\n",
    "infer_path='/home/aistudio/data/data7940/dog.png'\r\n",
    "img = Image.open(infer_path)\r\n",
    "plt.imshow(img)   \r\n",
    "plt.show()    \r\n",
    "\r\n",
    "\r\n",
    "\r\n",
    "#载入要预测的图片\r\n",
    "infer_img = load_image(infer_path)\r\n",
    "#将图片变为数组\r\n",
    "infer_img=np.array(infer_img).astype('float32')\r\n",
    "#进行预测\r\n",
    "result = model.predict(infer_img)\r\n",
    "#输出预测结果\r\n",
    "print('results',result)\r\n",
    "print(\"infer results: %s\" % label_list[np.argmax(result[0][0])])  \r\n",
    "\r\n",
    "\r\n",
    "\r\n"
   ]
  },
  {
   "cell_type": "code",
   "execution_count": null,
   "metadata": {
    "collapsed": false
   },
   "outputs": [],
   "source": []
  },
  {
   "cell_type": "code",
   "execution_count": null,
   "metadata": {
    "collapsed": false
   },
   "outputs": [],
   "source": []
  }
 ],
 "metadata": {
  "kernelspec": {
   "display_name": "Python 3",
   "language": "python",
   "name": "py35-paddle1.2.0"
  },
  "language_info": {
   "codemirror_mode": {
    "name": "ipython",
    "version": 3
   },
   "file_extension": ".py",
   "mimetype": "text/x-python",
   "name": "python",
   "nbconvert_exporter": "python",
   "pygments_lexer": "ipython3",
   "version": "3.7.4"
  }
 },
 "nbformat": 4,
 "nbformat_minor": 1
}

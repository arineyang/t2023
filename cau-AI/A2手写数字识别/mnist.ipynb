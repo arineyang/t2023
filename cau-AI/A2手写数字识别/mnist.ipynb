{
 "cells": [
  {
   "cell_type": "markdown",
   "metadata": {
    "collapsed": false
   },
   "source": [
    "**本实践使用多层感知器训练（DNN）模型，用于预测手写数字图片。**\n",
    "\n",
    "![](https://ai-studio-static-online.cdn.bcebos.com/4c7206c4ba444963981b43118627fcbf1e67f94840d144bfb7b00265cf63dcfd)\n"
   ]
  },
  {
   "cell_type": "markdown",
   "metadata": {
    "collapsed": false
   },
   "source": [
    "首先导入必要的包\n",
    "\n",
    "numpy---------->python第三方库，用于进行科学计算\n",
    "\n",
    "PIL------------> Python Image Library,python第三方图像处理库\n",
    "\n",
    "matplotlib----->python的绘图库 pyplot:matplotlib的绘图框架\n",
    "\n",
    "os------------->提供了丰富的方法来处理文件和目录"
   ]
  },
  {
   "cell_type": "code",
   "execution_count": 1,
   "metadata": {
    "collapsed": false
   },
   "outputs": [
    {
     "name": "stderr",
     "output_type": "stream",
     "text": [
      "/opt/conda/envs/python35-paddle120-env/lib/python3.7/site-packages/matplotlib/__init__.py:107: DeprecationWarning: Using or importing the ABCs from 'collections' instead of from 'collections.abc' is deprecated, and in 3.8 it will stop working\n",
      "  from collections import MutableMapping\n",
      "/opt/conda/envs/python35-paddle120-env/lib/python3.7/site-packages/matplotlib/rcsetup.py:20: DeprecationWarning: Using or importing the ABCs from 'collections' instead of from 'collections.abc' is deprecated, and in 3.8 it will stop working\n",
      "  from collections import Iterable, Mapping\n",
      "/opt/conda/envs/python35-paddle120-env/lib/python3.7/site-packages/matplotlib/colors.py:53: DeprecationWarning: Using or importing the ABCs from 'collections' instead of from 'collections.abc' is deprecated, and in 3.8 it will stop working\n",
      "  from collections import Sized\n"
     ]
    },
    {
     "name": "stdout",
     "output_type": "stream",
     "text": [
      "本教程基于Paddle的版本号为：2.2.2\n"
     ]
    },
    {
     "data": {
      "text/plain": [
       "<paddle.fluid.core_avx.Generator at 0x7f3b942c08b0>"
      ]
     },
     "execution_count": 1,
     "metadata": {},
     "output_type": "execute_result"
    }
   ],
   "source": [
    "#导入需要的包\r\n",
    "import numpy as np\r\n",
    "import paddle as paddle\r\n",
    "import paddle.nn as nn\r\n",
    "import paddle.nn.functional as F\r\n",
    "from PIL import Image\r\n",
    "import matplotlib.pyplot as plt\r\n",
    "import os\r\n",
    "print(\"本教程基于Paddle的版本号为：\"+paddle.__version__)\r\n",
    "\r\n",
    "# 设置随机种子\r\n",
    "paddle.seed(2023)"
   ]
  },
  {
   "cell_type": "markdown",
   "metadata": {
    "collapsed": false
   },
   "source": [
    "# **Step1：准备数据。**\n",
    "\n",
    "(1)数据集介绍\n",
    "\n",
    "MNIST数据集包含60000个训练集和10000测试数据集。分为图片和标签，图片是28*28的像素矩阵，标签为0~9共10个数字。\n",
    "\n",
    "![](https://ai-studio-static-online.cdn.bcebos.com/fc73217ae57f451a89badc801a903bb742e42eabd9434ecc8089efe19a66c076)\n",
    "\n",
    "(2)transform函数是定义了一个归一化标准化的标准\n",
    "\n",
    "(3)train_dataset和test_dataset\n",
    "\n",
    "paddle.vision.datasets.MNIST()中的mode='train'和mode='test'分别用于获取mnist训练集和测试集\n",
    "\n",
    "transform=transform参数则为归一化标准\n"
   ]
  },
  {
   "cell_type": "code",
   "execution_count": 2,
   "metadata": {
    "collapsed": false
   },
   "outputs": [
    {
     "name": "stdout",
     "output_type": "stream",
     "text": [
      "下载并加载训练数据\n"
     ]
    },
    {
     "name": "stderr",
     "output_type": "stream",
     "text": [
      "Cache file /home/aistudio/.cache/paddle/dataset/mnist/train-images-idx3-ubyte.gz not found, downloading https://dataset.bj.bcebos.com/mnist/train-images-idx3-ubyte.gz \n",
      "Begin to download\n"
     ]
    },
    {
     "name": "stdout",
     "output_type": "stream",
     "text": [
      "item  302/2421 [==>...........................] - ETA: 2s - 1ms/\n",
      "item 8/8 [============================>.] - ETA: 0s - 2ms/it"
     ]
    },
    {
     "name": "stderr",
     "output_type": "stream",
     "text": [
      "\n",
      "Download finished\n",
      "Cache file /home/aistudio/.cache/paddle/dataset/mnist/train-labels-idx1-ubyte.gz not found, downloading https://dataset.bj.bcebos.com/mnist/train-labels-idx1-ubyte.gz \n",
      "Begin to download\n",
      "\n",
      "Download finished\n"
     ]
    },
    {
     "name": "stdout",
     "output_type": "stream",
     "text": [
      "item  68/403 [====>.........................] - ETA: 1s - 3ms/ite"
     ]
    },
    {
     "name": "stderr",
     "output_type": "stream",
     "text": [
      "Cache file /home/aistudio/.cache/paddle/dataset/mnist/t10k-images-idx3-ubyte.gz not found, downloading https://dataset.bj.bcebos.com/mnist/t10k-images-idx3-ubyte.gz \n",
      "Begin to download\n"
     ]
    },
    {
     "name": "stdout",
     "output_type": "stream",
     "text": [
      "item 190/403 [=============>................] - ETA: 0s - 2ms/itemitem 212/403 [==============>...............] - ETA: 0s - 2ms/\n",
      "item 2/2 [===========================>..] - ETA: 0s - 2ms/item"
     ]
    },
    {
     "name": "stderr",
     "output_type": "stream",
     "text": [
      "\n",
      "Download finished\n",
      "Cache file /home/aistudio/.cache/paddle/dataset/mnist/t10k-labels-idx1-ubyte.gz not found, downloading https://dataset.bj.bcebos.com/mnist/t10k-labels-idx1-ubyte.gz \n",
      "Begin to download\n",
      "\n",
      "Download finished\n"
     ]
    },
    {
     "name": "stdout",
     "output_type": "stream",
     "text": [
      "加载完成\n"
     ]
    }
   ],
   "source": [
    "#导入数据集Compose的作用是将用于数据集预处理的接口以列表的方式进行组合。\r\n",
    "#导入数据集Normalize的作用是图像归一化处理，支持两种方式： 1. 用统一的均值和标准差值对图像的每个通道进行归一化处理； 2. 对每个通道指定不同的均值和标准差值进行归一化处理。\r\n",
    "from paddle.vision.transforms import Compose, Normalize\r\n",
    "transform = Compose([Normalize(mean=[127.5],std=[127.5],data_format='CHW')])\r\n",
    "# 使用transform对数据集做归一化\r\n",
    "print('下载并加载训练数据')\r\n",
    "train_dataset = paddle.vision.datasets.MNIST(mode='train', transform=transform)\r\n",
    "test_dataset = paddle.vision.datasets.MNIST(mode='test', transform=transform)\r\n",
    "print('加载完成')"
   ]
  },
  {
   "cell_type": "code",
   "execution_count": 3,
   "metadata": {
    "collapsed": false
   },
   "outputs": [
    {
     "name": "stdout",
     "output_type": "stream",
     "text": [
      "AxesImage(25,22;155x154)\n",
      "train_data0 的标签为: [5]\n"
     ]
    },
    {
     "name": "stderr",
     "output_type": "stream",
     "text": [
      "/opt/conda/envs/python35-paddle120-env/lib/python3.7/site-packages/matplotlib/cbook/__init__.py:2349: DeprecationWarning: Using or importing the ABCs from 'collections' instead of from 'collections.abc' is deprecated, and in 3.8 it will stop working\n",
      "  if isinstance(obj, collections.Iterator):\n",
      "/opt/conda/envs/python35-paddle120-env/lib/python3.7/site-packages/matplotlib/cbook/__init__.py:2366: DeprecationWarning: Using or importing the ABCs from 'collections' instead of from 'collections.abc' is deprecated, and in 3.8 it will stop working\n",
      "  return list(data) if isinstance(data, collections.MappingView) else data\n",
      "/opt/conda/envs/python35-paddle120-env/lib/python3.7/site-packages/matplotlib/image.py:425: DeprecationWarning: np.asscalar(a) is deprecated since NumPy v1.16, use a.item() instead\n",
      "  a_min = np.asscalar(a_min.astype(scaled_dtype))\n",
      "/opt/conda/envs/python35-paddle120-env/lib/python3.7/site-packages/matplotlib/image.py:426: DeprecationWarning: np.asscalar(a) is deprecated since NumPy v1.16, use a.item() instead\n",
      "  a_max = np.asscalar(a_max.astype(scaled_dtype))\n"
     ]
    },
    {
     "data": {
      "image/png": "[encoded data removed]",
      "text/plain": [
       "<Figure size 200x200 with 1 Axes>"
      ]
     },
     "metadata": {},
     "output_type": "display_data"
    }
   ],
   "source": [
    "#让我们一起看看数据集中的图片是什么样子的\n",
    "train_data0, train_label_0 = train_dataset[0][0],train_dataset[0][1]\n",
    "train_data0 = train_data0.reshape([28,28])\n",
    "plt.figure(figsize=(2,2))\n",
    "print(plt.imshow(train_data0, cmap=plt.cm.binary))\n",
    "print('train_data0 的标签为: ' + str(train_label_0))\n"
   ]
  },
  {
   "cell_type": "code",
   "execution_count": 4,
   "metadata": {
    "collapsed": false
   },
   "outputs": [
    {
     "name": "stdout",
     "output_type": "stream",
     "text": [
      "[[-1.         -1.         -1.         -1.         -1.         -1.\n",
      "  -1.         -1.         -1.         -1.         -1.         -1.\n",
      "  -1.         -1.         -1.         -1.         -1.         -1.\n",
      "  -1.         -1.         -1.         -1.         -1.         -1.\n",
      "  -1.         -1.         -1.         -1.        ]\n",
      " [-1.         -1.         -1.         -1.         -1.         -1.\n",
      "  -1.         -1.         -1.         -1.         -1.         -1.\n",
      "  -1.         -1.         -1.         -1.         -1.         -1.\n",
      "  -1.         -1.         -1.         -1.         -1.         -1.\n",
      "  -1.         -1.         -1.         -1.        ]\n",
      " [-1.         -1.         -1.         -1.         -1.         -1.\n",
      "  -1.         -1.         -1.         -1.         -1.         -1.\n",
      "  -1.         -1.         -1.         -1.         -1.         -1.\n",
      "  -1.         -1.         -1.         -1.         -1.         -1.\n",
      "  -1.         -1.         -1.         -1.        ]\n",
      " [-1.         -1.         -1.         -1.         -1.         -1.\n",
      "  -1.         -1.         -1.         -1.         -1.         -1.\n",
      "  -1.         -1.         -1.         -1.         -1.         -1.\n",
      "  -1.         -1.         -1.         -1.         -1.         -1.\n",
      "  -1.         -1.         -1.         -1.        ]\n",
      " [-1.         -1.         -1.         -1.         -1.         -1.\n",
      "  -1.         -1.         -1.         -1.         -1.         -1.\n",
      "  -1.         -1.         -1.         -1.         -1.         -1.\n",
      "  -1.         -1.         -1.         -1.         -1.         -1.\n",
      "  -1.         -1.         -1.         -1.        ]\n",
      " [-1.         -1.         -1.         -1.         -1.         -1.\n",
      "  -1.         -1.         -1.         -1.         -1.         -1.\n",
      "  -0.9764706  -0.85882354 -0.85882354 -0.85882354 -0.01176471  0.06666667\n",
      "   0.37254903 -0.79607844  0.3019608   1.          0.9372549  -0.00392157\n",
      "  -1.         -1.         -1.         -1.        ]\n",
      " [-1.         -1.         -1.         -1.         -1.         -1.\n",
      "  -1.         -1.         -0.7647059  -0.7176471  -0.2627451   0.20784314\n",
      "   0.33333334  0.9843137   0.9843137   0.9843137   0.9843137   0.9843137\n",
      "   0.7647059   0.34901962  0.9843137   0.8980392   0.5294118  -0.49803922\n",
      "  -1.         -1.         -1.         -1.        ]\n",
      " [-1.         -1.         -1.         -1.         -1.         -1.\n",
      "  -1.         -0.6156863   0.8666667   0.9843137   0.9843137   0.9843137\n",
      "   0.9843137   0.9843137   0.9843137   0.9843137   0.9843137   0.96862745\n",
      "  -0.27058825 -0.35686275 -0.35686275 -0.56078434 -0.69411767 -1.\n",
      "  -1.         -1.         -1.         -1.        ]\n",
      " [-1.         -1.         -1.         -1.         -1.         -1.\n",
      "  -1.         -0.85882354  0.7176471   0.9843137   0.9843137   0.9843137\n",
      "   0.9843137   0.9843137   0.5529412   0.42745098  0.9372549   0.8901961\n",
      "  -1.         -1.         -1.         -1.         -1.         -1.\n",
      "  -1.         -1.         -1.         -1.        ]\n",
      " [-1.         -1.         -1.         -1.         -1.         -1.\n",
      "  -1.         -1.         -0.37254903  0.22352941 -0.16078432  0.9843137\n",
      "   0.9843137   0.60784316 -0.9137255  -1.         -0.6627451   0.20784314\n",
      "  -1.         -1.         -1.         -1.         -1.         -1.\n",
      "  -1.         -1.         -1.         -1.        ]\n",
      " [-1.         -1.         -1.         -1.         -1.         -1.\n",
      "  -1.         -1.         -1.         -0.8901961  -0.99215686  0.20784314\n",
      "   0.9843137  -0.29411766 -1.         -1.         -1.         -1.\n",
      "  -1.         -1.         -1.         -1.         -1.         -1.\n",
      "  -1.         -1.         -1.         -1.        ]\n",
      " [-1.         -1.         -1.         -1.         -1.         -1.\n",
      "  -1.         -1.         -1.         -1.         -1.          0.09019608\n",
      "   0.9843137   0.49019608 -0.9843137  -1.         -1.         -1.\n",
      "  -1.         -1.         -1.         -1.         -1.         -1.\n",
      "  -1.         -1.         -1.         -1.        ]\n",
      " [-1.         -1.         -1.         -1.         -1.         -1.\n",
      "  -1.         -1.         -1.         -1.         -1.         -0.9137255\n",
      "   0.49019608  0.9843137  -0.4509804  -1.         -1.         -1.\n",
      "  -1.         -1.         -1.         -1.         -1.         -1.\n",
      "  -1.         -1.         -1.         -1.        ]\n",
      " [-1.         -1.         -1.         -1.         -1.         -1.\n",
      "  -1.         -1.         -1.         -1.         -1.         -1.\n",
      "  -0.7254902   0.8901961   0.7647059   0.25490198 -0.15294118 -0.99215686\n",
      "  -1.         -1.         -1.         -1.         -1.         -1.\n",
      "  -1.         -1.         -1.         -1.        ]\n",
      " [-1.         -1.         -1.         -1.         -1.         -1.\n",
      "  -1.         -1.         -1.         -1.         -1.         -1.\n",
      "  -1.         -0.3647059   0.88235295  0.9843137   0.9843137  -0.06666667\n",
      "  -0.8039216  -1.         -1.         -1.         -1.         -1.\n",
      "  -1.         -1.         -1.         -1.        ]\n",
      " [-1.         -1.         -1.         -1.         -1.         -1.\n",
      "  -1.         -1.         -1.         -1.         -1.         -1.\n",
      "  -1.         -1.         -0.64705884  0.45882353  0.9843137   0.9843137\n",
      "   0.1764706  -0.7882353  -1.         -1.         -1.         -1.\n",
      "  -1.         -1.         -1.         -1.        ]\n",
      " [-1.         -1.         -1.         -1.         -1.         -1.\n",
      "  -1.         -1.         -1.         -1.         -1.         -1.\n",
      "  -1.         -1.         -1.         -0.8745098  -0.27058825  0.9764706\n",
      "   0.9843137   0.46666667 -1.         -1.         -1.         -1.\n",
      "  -1.         -1.         -1.         -1.        ]\n",
      " [-1.         -1.         -1.         -1.         -1.         -1.\n",
      "  -1.         -1.         -1.         -1.         -1.         -1.\n",
      "  -1.         -1.         -1.         -1.         -1.          0.9529412\n",
      "   0.9843137   0.9529412  -0.49803922 -1.         -1.         -1.\n",
      "  -1.         -1.         -1.         -1.        ]\n",
      " [-1.         -1.         -1.         -1.         -1.         -1.\n",
      "  -1.         -1.         -1.         -1.         -1.         -1.\n",
      "  -1.         -1.         -0.6392157   0.01960784  0.43529412  0.9843137\n",
      "   0.9843137   0.62352943 -0.9843137  -1.         -1.         -1.\n",
      "  -1.         -1.         -1.         -1.        ]\n",
      " [-1.         -1.         -1.         -1.         -1.         -1.\n",
      "  -1.         -1.         -1.         -1.         -1.         -1.\n",
      "  -0.69411767  0.16078432  0.79607844  0.9843137   0.9843137   0.9843137\n",
      "   0.9607843   0.42745098 -1.         -1.         -1.         -1.\n",
      "  -1.         -1.         -1.         -1.        ]\n",
      " [-1.         -1.         -1.         -1.         -1.         -1.\n",
      "  -1.         -1.         -1.         -1.         -0.8117647  -0.10588235\n",
      "   0.73333335  0.9843137   0.9843137   0.9843137   0.9843137   0.5764706\n",
      "  -0.3882353  -1.         -1.         -1.         -1.         -1.\n",
      "  -1.         -1.         -1.         -1.        ]\n",
      " [-1.         -1.         -1.         -1.         -1.         -1.\n",
      "  -1.         -1.         -0.81960785 -0.48235294  0.67058825  0.9843137\n",
      "   0.9843137   0.9843137   0.9843137   0.5529412  -0.3647059  -0.9843137\n",
      "  -1.         -1.         -1.         -1.         -1.         -1.\n",
      "  -1.         -1.         -1.         -1.        ]\n",
      " [-1.         -1.         -1.         -1.         -1.         -1.\n",
      "  -0.85882354  0.34117648  0.7176471   0.9843137   0.9843137   0.9843137\n",
      "   0.9843137   0.5294118  -0.37254903 -0.92941177 -1.         -1.\n",
      "  -1.         -1.         -1.         -1.         -1.         -1.\n",
      "  -1.         -1.         -1.         -1.        ]\n",
      " [-1.         -1.         -1.         -1.         -0.5686275   0.34901962\n",
      "   0.77254903  0.9843137   0.9843137   0.9843137   0.9843137   0.9137255\n",
      "   0.04313726 -0.9137255  -1.         -1.         -1.         -1.\n",
      "  -1.         -1.         -1.         -1.         -1.         -1.\n",
      "  -1.         -1.         -1.         -1.        ]\n",
      " [-1.         -1.         -1.         -1.          0.06666667  0.9843137\n",
      "   0.9843137   0.9843137   0.6627451   0.05882353  0.03529412 -0.8745098\n",
      "  -1.         -1.         -1.         -1.         -1.         -1.\n",
      "  -1.         -1.         -1.         -1.         -1.         -1.\n",
      "  -1.         -1.         -1.         -1.        ]\n",
      " [-1.         -1.         -1.         -1.         -1.         -1.\n",
      "  -1.         -1.         -1.         -1.         -1.         -1.\n",
      "  -1.         -1.         -1.         -1.         -1.         -1.\n",
      "  -1.         -1.         -1.         -1.         -1.         -1.\n",
      "  -1.         -1.         -1.         -1.        ]\n",
      " [-1.         -1.         -1.         -1.         -1.         -1.\n",
      "  -1.         -1.         -1.         -1.         -1.         -1.\n",
      "  -1.         -1.         -1.         -1.         -1.         -1.\n",
      "  -1.         -1.         -1.         -1.         -1.         -1.\n",
      "  -1.         -1.         -1.         -1.        ]\n",
      " [-1.         -1.         -1.         -1.         -1.         -1.\n",
      "  -1.         -1.         -1.         -1.         -1.         -1.\n",
      "  -1.         -1.         -1.         -1.         -1.         -1.\n",
      "  -1.         -1.         -1.         -1.         -1.         -1.\n",
      "  -1.         -1.         -1.         -1.        ]]\n"
     ]
    }
   ],
   "source": [
    "#让我们再来看看数据样子是什么样的吧\r\n",
    "print(train_data0)"
   ]
  },
  {
   "cell_type": "markdown",
   "metadata": {
    "collapsed": false
   },
   "source": [
    "# **Step2.网络配置**\n",
    "以下的代码判断就是定义一个简单的多层感知器，一共有三层，两个大小为100的隐层和一个大小为10的输出层，因为MNIST数据集是手写0到9的灰度图像，类别有10个，所以最后的输出大小是10。最后输出层的激活函数是Softmax，所以最后的输出层相当于一个分类器。加上一个输入层的话，多层感知器的结构是：输入层-->>隐层-->>隐层-->>输出层。\n",
    "\n",
    "![](https://ai-studio-static-online.cdn.bcebos.com/cb69f928778c4299b75814179607a89eea770bdc409d4e08a87e2975cb96b19b)"
   ]
  },
  {
   "cell_type": "code",
   "execution_count": 5,
   "metadata": {
    "collapsed": false
   },
   "outputs": [],
   "source": [
    "# 定义多层感知器 \r\n",
    "#动态图定义多层感知器\r\n",
    "class mnist(paddle.nn.Layer):\r\n",
    "    def __init__(self):\r\n",
    "        super(mnist,self).__init__()\r\n",
    "        self.fc1 = nn.Linear(in_features =28*28, out_features =100)\r\n",
    "        self.fc2 = nn.Linear(in_features =100, out_features =100)\r\n",
    "        self.fc3 = nn.Linear(in_features =100, out_features =10)\r\n",
    "\r\n",
    "    def forward(self, input_):\r\n",
    "        x = paddle.reshape(input_, [input_.shape[0], -1])\r\n",
    "        x = self.fc1(x)\r\n",
    "        x = F.relu(x)\r\n",
    "        x = self.fc2(x)\r\n",
    "        x = F.relu(x)\r\n",
    "        x = self.fc3(x)\r\n",
    "        y = F.softmax(x)\r\n",
    "        return y"
   ]
  },
  {
   "cell_type": "code",
   "execution_count": 6,
   "metadata": {
    "collapsed": false
   },
   "outputs": [],
   "source": [
    "########## edition ii ##########\r\n",
    "\r\n",
    "# 动态图定义LeNet模型\r\n",
    "class LeNet(paddle.nn.Layer):\r\n",
    "    def __init__(self, num_classes=10):\r\n",
    "        super(LeNet, self).__init__()\r\n",
    "        self.conv1 = nn.Conv2D(in_channels=1, out_channels=6, kernel_size=5, stride=1, padding=2)\r\n",
    "        self.max_pool1 = nn.MaxPool2D(kernel_size=2, stride=2)\r\n",
    "        self.conv2 = nn.Conv2D(in_channels=6, out_channels=16, kernel_size=5, stride=1)\r\n",
    "        self.max_pool2 = nn.MaxPool2D(kernel_size=2, stride=2)\r\n",
    "        self.fc1 = nn.Linear(in_features=16 * 5 * 5, out_features=120)\r\n",
    "        self.fc2 = nn.Linear(in_features=120, out_features=84)\r\n",
    "        self.fc3 = nn.Linear(in_features=84, out_features=num_classes)\r\n",
    "\r\n",
    "    def forward(self, x):\r\n",
    "        x = self.conv1(x)\r\n",
    "        x = F.relu(x)\r\n",
    "        x = self.max_pool1(x)\r\n",
    "        x = self.conv2(x)\r\n",
    "        x = F.relu(x)\r\n",
    "        x = self.max_pool2(x)\r\n",
    "        x = paddle.flatten(x, start_axis=1)\r\n",
    "        x = self.fc1(x)\r\n",
    "        x = F.relu(x)\r\n",
    "        x = self.fc2(x)\r\n",
    "        x = F.relu(x)\r\n",
    "        x = self.fc3(x)\r\n",
    "        x = F.softmax(x)\r\n",
    "        return x\r\n",
    "\r\n",
    "# 定义AlexNet模型\r\n",
    "class AlexNet(paddle.nn.Layer):\r\n",
    "    def __init__(self, num_classes=10):\r\n",
    "        super(AlexNet, self).__init__()\r\n",
    "        self.features = nn.Sequential(\r\n",
    "            nn.Conv2D(1, 96, kernel_size=11, stride=4, padding=2),\r\n",
    "            nn.ReLU(),\r\n",
    "            nn.MaxPool2D(kernel_size=3, stride=2),\r\n",
    "            nn.Conv2D(96, 256, kernel_size=5, stride=1, padding=2),\r\n",
    "            nn.ReLU(),\r\n",
    "            nn.MaxPool2D(kernel_size=3, stride=2),\r\n",
    "            nn.Conv2D(256, 384, kernel_size=3, stride=1, padding=1),\r\n",
    "            nn.ReLU(),\r\n",
    "            nn.Conv2D(384, 384, kernel_size=3, stride=1, padding=1),\r\n",
    "            nn.ReLU(),\r\n",
    "            nn.Conv2D(384, 256, kernel_size=3, stride=1, padding=1),\r\n",
    "            nn.ReLU(),\r\n",
    "            nn.MaxPool2D(kernel_size=3, stride=2)\r\n",
    "        )\r\n",
    "        self.fc1 = nn.Linear(256 * 5 * 5, 4096)\r\n",
    "        self.fc2 = nn.Linear(4096, 4096)\r\n",
    "        self.fc3 = nn.Linear(4096, num_classes)\r\n",
    "\r\n",
    "    def forward(self, x):\r\n",
    "        x = self.features(x)\r\n",
    "        x = paddle.flatten(x, start_axis=1)\r\n",
    "        x = self.fc1(x)\r\n",
    "        x = F.relu(x)\r\n",
    "        x = self.fc2(x)\r\n",
    "        x = F.relu(x)\r\n",
    "        x = self.fc3(x)\r\n",
    "        x = F.softmax(x)\r\n",
    "        return x\r\n",
    "\r\n",
    "# 定义VGG模型\r\n",
    "class VGG(paddle.nn.Layer):\r\n",
    "    def __init__(self, num_classes=10):\r\n",
    "        super(VGG, self).__init__()\r\n",
    "        self.conv_layers = nn.Sequential(\r\n",
    "            nn.Conv2D(1, 64, kernel_size=3, padding=1),\r\n",
    "            nn.ReLU(),\r\n",
    "            nn.Conv2D(64, 64, kernel_size=3, padding=1),\r\n",
    "            nn.ReLU(),\r\n",
    "            nn.MaxPool2D(kernel_size=2, stride=2),\r\n",
    "            nn.Conv2D(64, 128, kernel_size=3, padding=1),\r\n",
    "            nn.ReLU(),\r\n",
    "            nn.Conv2D(128, 128, kernel_size=3, padding=1),\r\n",
    "            nn.ReLU(),\r\n",
    "            nn.MaxPool2D(kernel_size=2, stride=2),\r\n",
    "            nn.Conv2D(128, 256, kernel_size=3, padding=1),\r\n",
    "            nn.ReLU(),\r\n",
    "            nn.Conv2D(256, 256, kernel_size=3, padding=1),\r\n",
    "            nn.ReLU(),\r\n",
    "            nn.Conv2D(256, 256, kernel_size=3, padding=1),\r\n",
    "            nn.ReLU(),\r\n",
    "            nn.MaxPool2D(kernel_size=2, stride=2),\r\n",
    "            nn.Conv2D(256, 512, kernel_size=3, padding=1),\r\n",
    "            nn.ReLU(),\r\n",
    "            nn.Conv2D(512, 512, kernel_size=3, padding=1),\r\n",
    "            nn.ReLU(),\r\n",
    "            nn.Conv2D(512, 512, kernel_size=3, padding=1),\r\n",
    "            nn.ReLU(),\r\n",
    "            nn.MaxPool2D(kernel_size=2, stride=2),\r\n",
    "            nn.Conv2D(512, 512, kernel_size=3, padding=1),\r\n",
    "            nn.ReLU(),\r\n",
    "            nn.Conv2D(512, 512, kernel_size=3, padding=1),\r\n",
    "            nn.ReLU(),\r\n",
    "            nn.Conv2D(512, 512, kernel_size=3, padding=1),\r\n",
    "            nn.ReLU(),\r\n",
    "            nn.MaxPool2D(kernel_size=2, stride=2)\r\n",
    "        )\r\n",
    "        self.fc_layers = nn.Sequential(\r\n",
    "            nn.Linear(512 * 1 * 1, 4096),\r\n",
    "            nn.ReLU(),\r\n",
    "            nn.Dropout(p=0.5),\r\n",
    "            nn.Linear(4096, 4096),\r\n",
    "            nn.ReLU(),\r\n",
    "            nn.Dropout(p=0.5),\r\n",
    "            nn.Linear(4096, num_classes)\r\n",
    "        )\r\n",
    "\r\n",
    "    def forward(self, x):\r\n",
    "        x = self.conv_layers(x)\r\n",
    "        x = paddle.flatten(x, start_axis=1)\r\n",
    "        x = self.fc_layers(x)\r\n",
    "        x = F.softmax(x)\r\n",
    "        return x\r\n",
    "\r\n",
    "\r\n"
   ]
  },
  {
   "cell_type": "code",
   "execution_count": 7,
   "metadata": {
    "collapsed": false
   },
   "outputs": [],
   "source": [
    "from paddle.metric import Accuracy\r\n",
    "\r\n",
    "# 用Model封装模型\r\n",
    "model = paddle.Model(mnist())   \r\n",
    "# 定义损失函数\r\n",
    "optim = paddle.optimizer.Adam(learning_rate=0.001, parameters=model.parameters())\r\n",
    "# 配置模型\r\n",
    "model.prepare(optim,paddle.nn.CrossEntropyLoss(),Accuracy())"
   ]
  },
  {
   "cell_type": "code",
   "execution_count": 8,
   "metadata": {
    "collapsed": false
   },
   "outputs": [],
   "source": [
    "# 创建LeNet模型\r\n",
    "model1 = paddle.Model(LeNet())\r\n",
    "# 定义损失函数\r\n",
    "optimizer1 = paddle.optimizer.Adam(learning_rate=0.001, parameters=model1.parameters())\r\n",
    "# 配置模型\r\n",
    "model1.prepare(optimizer1, paddle.nn.CrossEntropyLoss(), Accuracy())"
   ]
  },
  {
   "cell_type": "markdown",
   "metadata": {
    "collapsed": false
   },
   "source": [
    " # **Step3.模型训练及评估**"
   ]
  },
  {
   "cell_type": "code",
   "execution_count": 9,
   "metadata": {
    "collapsed": false
   },
   "outputs": [
    {
     "name": "stdout",
     "output_type": "stream",
     "text": [
      "The loss value printed in the log is the current step, and the metric is the average value of previous steps.\n",
      "Epoch 1/15\n"
     ]
    },
    {
     "name": "stderr",
     "output_type": "stream",
     "text": [
      "/opt/conda/envs/python35-paddle120-env/lib/python3.7/site-packages/paddle/fluid/layers/utils.py:77: DeprecationWarning: Using or importing the ABCs from 'collections' instead of from 'collections.abc' is deprecated, and in 3.8 it will stop working\n",
      "  return (isinstance(seq, collections.Sequence) and\n"
     ]
    },
    {
     "name": "stdout",
     "output_type": "stream",
     "text": [
      "step 235/235 [==============================] - loss: 1.5619 - acc: 0.8071 - 31ms/step        \n",
      "save checkpoint at /home/aistudio/multilayer_perceptron/0\n",
      "Eval begin...\n",
      "step 40/40 [==============================] - loss: 1.5484 - acc: 0.9118 - 26ms/step        \n",
      "Eval samples: 10000\n",
      "Epoch 2/15\n",
      "step 235/235 [==============================] - loss: 1.5612 - acc: 0.9201 - 28ms/step        \n",
      "save checkpoint at /home/aistudio/multilayer_perceptron/1\n",
      "Eval begin...\n",
      "step 40/40 [==============================] - loss: 1.5463 - acc: 0.9218 - 27ms/step        \n",
      "Eval samples: 10000\n",
      "Epoch 3/15\n",
      "step 235/235 [==============================] - loss: 1.4986 - acc: 0.9362 - 29ms/step        \n",
      "save checkpoint at /home/aistudio/multilayer_perceptron/2\n",
      "Eval begin...\n",
      "step 40/40 [==============================] - loss: 1.4705 - acc: 0.9429 - 24ms/step        \n",
      "Eval samples: 10000\n",
      "Epoch 4/15\n",
      "step 235/235 [==============================] - loss: 1.4879 - acc: 0.9450 - 30ms/step        \n",
      "save checkpoint at /home/aistudio/multilayer_perceptron/3\n",
      "Eval begin...\n",
      "step 40/40 [==============================] - loss: 1.4641 - acc: 0.9441 - 25ms/step        \n",
      "Eval samples: 10000\n",
      "Epoch 5/15\n",
      "step 235/235 [==============================] - loss: 1.5370 - acc: 0.9510 - 29ms/step        \n",
      "save checkpoint at /home/aistudio/multilayer_perceptron/4\n",
      "Eval begin...\n",
      "step 40/40 [==============================] - loss: 1.4638 - acc: 0.9562 - 26ms/step        \n",
      "Eval samples: 10000\n",
      "Epoch 6/15\n",
      "step 235/235 [==============================] - loss: 1.5310 - acc: 0.9563 - 29ms/step        \n",
      "save checkpoint at /home/aistudio/multilayer_perceptron/5\n",
      "Eval begin...\n",
      "step 40/40 [==============================] - loss: 1.4848 - acc: 0.9498 - 25ms/step        \n",
      "Eval samples: 10000\n",
      "Epoch 7/15\n",
      "step 235/235 [==============================] - loss: 1.4731 - acc: 0.9599 - 30ms/step        \n",
      "save checkpoint at /home/aistudio/multilayer_perceptron/6\n",
      "Eval begin...\n",
      "step 40/40 [==============================] - loss: 1.4628 - acc: 0.9597 - 26ms/step        \n",
      "Eval samples: 10000\n",
      "Epoch 8/15\n",
      "step 235/235 [==============================] - loss: 1.5063 - acc: 0.9624 - 30ms/step        \n",
      "save checkpoint at /home/aistudio/multilayer_perceptron/7\n",
      "Eval begin...\n",
      "step 40/40 [==============================] - loss: 1.4663 - acc: 0.9593 - 27ms/step        \n",
      "Eval samples: 10000\n",
      "Epoch 9/15\n",
      "step 235/235 [==============================] - loss: 1.4924 - acc: 0.9649 - 32ms/step        \n",
      "save checkpoint at /home/aistudio/multilayer_perceptron/8\n",
      "Eval begin...\n",
      "step 40/40 [==============================] - loss: 1.5024 - acc: 0.9589 - 29ms/step        \n",
      "Eval samples: 10000\n",
      "Epoch 10/15\n",
      "step 235/235 [==============================] - loss: 1.5147 - acc: 0.9672 - 30ms/step        \n",
      "save checkpoint at /home/aistudio/multilayer_perceptron/9\n",
      "Eval begin...\n",
      "step 40/40 [==============================] - loss: 1.4618 - acc: 0.9629 - 26ms/step        \n",
      "Eval samples: 10000\n",
      "Epoch 11/15\n",
      "step 235/235 [==============================] - loss: 1.4952 - acc: 0.9705 - 32ms/step        \n",
      "save checkpoint at /home/aistudio/multilayer_perceptron/10\n",
      "Eval begin...\n",
      "step 40/40 [==============================] - loss: 1.4613 - acc: 0.9650 - 27ms/step        \n",
      "Eval samples: 10000\n",
      "Epoch 12/15\n",
      "step 235/235 [==============================] - loss: 1.4985 - acc: 0.9716 - 30ms/step        \n",
      "save checkpoint at /home/aistudio/multilayer_perceptron/11\n",
      "Eval begin...\n",
      "step 40/40 [==============================] - loss: 1.4617 - acc: 0.9649 - 29ms/step        \n",
      "Eval samples: 10000\n",
      "Epoch 13/15\n",
      "step 235/235 [==============================] - loss: 1.4932 - acc: 0.9737 - 30ms/step        \n",
      "save checkpoint at /home/aistudio/multilayer_perceptron/12\n",
      "Eval begin...\n",
      "step 40/40 [==============================] - loss: 1.4612 - acc: 0.9673 - 26ms/step        \n",
      "Eval samples: 10000\n",
      "Epoch 14/15\n",
      "step 235/235 [==============================] - loss: 1.4924 - acc: 0.9746 - 28ms/step        \n",
      "save checkpoint at /home/aistudio/multilayer_perceptron/13\n",
      "Eval begin...\n",
      "step 40/40 [==============================] - loss: 1.4612 - acc: 0.9697 - 25ms/step        \n",
      "Eval samples: 10000\n",
      "Epoch 15/15\n",
      "step 235/235 [==============================] - loss: 1.4675 - acc: 0.9756 - 29ms/step        \n",
      "save checkpoint at /home/aistudio/multilayer_perceptron/14\n",
      "Eval begin...\n",
      "step 40/40 [==============================] - loss: 1.4659 - acc: 0.9675 - 31ms/step        \n",
      "Eval samples: 10000\n",
      "save checkpoint at /home/aistudio/multilayer_perceptron/final\n"
     ]
    }
   ],
   "source": [
    "# 训练保存并验证模型\r\n",
    "model.fit(train_dataset,test_dataset,epochs=15,batch_size=256,save_dir='multilayer_perceptron',verbose=1)"
   ]
  },
  {
   "cell_type": "code",
   "execution_count": 10,
   "metadata": {
    "collapsed": false
   },
   "outputs": [
    {
     "name": "stdout",
     "output_type": "stream",
     "text": [
      "The loss value printed in the log is the current step, and the metric is the average value of previous steps.\n",
      "Epoch 1/15\n",
      "step 235/235 [==============================] - loss: 1.6563 - acc: 0.7068 - 72ms/step        \n",
      "save checkpoint at /home/aistudio/lenet/0\n",
      "Eval begin...\n",
      "step 40/40 [==============================] - loss: 1.5872 - acc: 0.7716 - 27ms/step        \n",
      "Eval samples: 10000\n",
      "Epoch 2/15\n",
      "step 235/235 [==============================] - loss: 1.6671 - acc: 0.8224 - 74ms/step         \n",
      "save checkpoint at /home/aistudio/lenet/1\n",
      "Eval begin...\n",
      "step 40/40 [==============================] - loss: 1.5228 - acc: 0.8746 - 27ms/step        \n",
      "Eval samples: 10000\n",
      "Epoch 3/15\n",
      "step 235/235 [==============================] - loss: 1.6242 - acc: 0.8781 - 71ms/step        \n",
      "save checkpoint at /home/aistudio/lenet/2\n",
      "Eval begin...\n",
      "step 40/40 [==============================] - loss: 1.5235 - acc: 0.8843 - 27ms/step        \n",
      "Eval samples: 10000\n",
      "Epoch 4/15\n",
      "step 235/235 [==============================] - loss: 1.4701 - acc: 0.9576 - 72ms/step        \n",
      "save checkpoint at /home/aistudio/lenet/3\n",
      "Eval begin...\n",
      "step 40/40 [==============================] - loss: 1.4612 - acc: 0.9817 - 29ms/step        \n",
      "Eval samples: 10000\n",
      "Epoch 5/15\n",
      "step 235/235 [==============================] - loss: 1.4866 - acc: 0.9832 - 73ms/step         \n",
      "save checkpoint at /home/aistudio/lenet/4\n",
      "Eval begin...\n",
      "step 40/40 [==============================] - loss: 1.4612 - acc: 0.9834 - 28ms/step        \n",
      "Eval samples: 10000\n",
      "Epoch 6/15\n",
      "step 235/235 [==============================] - loss: 1.4857 - acc: 0.9849 - 73ms/step        \n",
      "save checkpoint at /home/aistudio/lenet/5\n",
      "Eval begin...\n",
      "step 40/40 [==============================] - loss: 1.4612 - acc: 0.9823 - 28ms/step        \n",
      "Eval samples: 10000\n",
      "Epoch 7/15\n",
      "step 235/235 [==============================] - loss: 1.4738 - acc: 0.9870 - 72ms/step        \n",
      "save checkpoint at /home/aistudio/lenet/6\n",
      "Eval begin...\n",
      "step 40/40 [==============================] - loss: 1.4612 - acc: 0.9841 - 27ms/step        \n",
      "Eval samples: 10000\n",
      "Epoch 8/15\n",
      "step 235/235 [==============================] - loss: 1.4652 - acc: 0.9888 - 73ms/step         \n",
      "save checkpoint at /home/aistudio/lenet/7\n",
      "Eval begin...\n",
      "step 40/40 [==============================] - loss: 1.4612 - acc: 0.9835 - 27ms/step        \n",
      "Eval samples: 10000\n",
      "Epoch 9/15\n",
      "step 235/235 [==============================] - loss: 1.4617 - acc: 0.9893 - 73ms/step         \n",
      "save checkpoint at /home/aistudio/lenet/8\n",
      "Eval begin...\n",
      "step 40/40 [==============================] - loss: 1.4612 - acc: 0.9872 - 27ms/step        \n",
      "Eval samples: 10000\n",
      "Epoch 10/15\n",
      "step 235/235 [==============================] - loss: 1.4799 - acc: 0.9905 - 75ms/step         \n",
      "save checkpoint at /home/aistudio/lenet/9\n",
      "Eval begin...\n",
      "step 40/40 [==============================] - loss: 1.4612 - acc: 0.9877 - 28ms/step        \n",
      "Eval samples: 10000\n",
      "Epoch 11/15\n",
      "step 235/235 [==============================] - loss: 1.4775 - acc: 0.9908 - 75ms/step         \n",
      "save checkpoint at /home/aistudio/lenet/10\n",
      "Eval begin...\n",
      "step 40/40 [==============================] - loss: 1.4612 - acc: 0.9870 - 27ms/step        \n",
      "Eval samples: 10000\n",
      "Epoch 12/15\n",
      "step 235/235 [==============================] - loss: 1.4738 - acc: 0.9913 - 73ms/step        \n",
      "save checkpoint at /home/aistudio/lenet/11\n",
      "Eval begin...\n",
      "step 40/40 [==============================] - loss: 1.4612 - acc: 0.9869 - 26ms/step        \n",
      "Eval samples: 10000\n",
      "Epoch 13/15\n",
      "step 235/235 [==============================] - loss: 1.4639 - acc: 0.9927 - 73ms/step        \n",
      "save checkpoint at /home/aistudio/lenet/12\n",
      "Eval begin...\n",
      "step 40/40 [==============================] - loss: 1.4612 - acc: 0.9862 - 27ms/step        \n",
      "Eval samples: 10000\n",
      "Epoch 14/15\n",
      "step 235/235 [==============================] - loss: 1.4664 - acc: 0.9925 - 74ms/step         \n",
      "save checkpoint at /home/aistudio/lenet/13\n",
      "Eval begin...\n",
      "step 40/40 [==============================] - loss: 1.4612 - acc: 0.9888 - 28ms/step        \n",
      "Eval samples: 10000\n",
      "Epoch 15/15\n",
      "step 235/235 [==============================] - loss: 1.4623 - acc: 0.9934 - 73ms/step        \n",
      "save checkpoint at /home/aistudio/lenet/14\n",
      "Eval begin...\n",
      "step 40/40 [==============================] - loss: 1.4612 - acc: 0.9886 - 27ms/step        \n",
      "Eval samples: 10000\n",
      "save checkpoint at /home/aistudio/lenet/final\n"
     ]
    }
   ],
   "source": [
    "# 训练LeNet模型\r\n",
    "model1.fit(train_dataset, test_dataset, epochs=15, batch_size=256, save_dir='lenet', verbose=1)"
   ]
  },
  {
   "cell_type": "markdown",
   "metadata": {
    "collapsed": false
   },
   "source": [
    " # **Step4.模型预测**"
   ]
  },
  {
   "cell_type": "code",
   "execution_count": 11,
   "metadata": {
    "collapsed": false
   },
   "outputs": [
    {
     "name": "stdout",
     "output_type": "stream",
     "text": [
      "AxesImage(25,22;155x154)\n",
      "test_data0 的标签为: [7]\n",
      "Predict begin...\n",
      "step 10000/10000 [==============================] - 2ms/step        \n",
      "Predict samples: 10000\n",
      "test_data0 通过多层感知机模型预测的数值为：7\n",
      "Predict begin...\n",
      "step 10000/10000 [==============================] - 2ms/step        \n",
      "Predict samples: 10000\n",
      "test_data0 通过LeNet模型预测的数值为：7\n"
     ]
    },
    {
     "data": {
      "image/png": "[encoded data removed]",
      "text/plain": [
       "<Figure size 200x200 with 1 Axes>"
      ]
     },
     "metadata": {},
     "output_type": "display_data"
    }
   ],
   "source": [
    "#获取测试集的第一个图片\r\n",
    "test_data0, test_label_0 = test_dataset[0][0],test_dataset[0][1]\r\n",
    "test_data0 = test_data0.reshape([28,28])\r\n",
    "plt.figure(figsize=(2,2))\r\n",
    "#展示测试集中的第一个图片\r\n",
    "print(plt.imshow(test_data0, cmap=plt.cm.binary))\r\n",
    "print('test_data0 的标签为: ' + str(test_label_0))\r\n",
    "#模型预测\r\n",
    "result = model.predict(test_dataset, batch_size=1)\r\n",
    "#打印模型预测的结果\r\n",
    "print('test_data0 通过多层感知机模型预测的数值为：%d' % np.argsort(result[0][0])[0][-1])\r\n",
    "\r\n",
    "\r\n",
    "#模型预测\r\n",
    "result1 = model1.predict(test_dataset, batch_size=1)\r\n",
    "#打印模型预测的结果\r\n",
    "print('test_data0 通过LeNet模型预测的数值为：%d' % np.argsort(result1[0][0])[0][-1])\r\n"
   ]
  },
  {
   "cell_type": "markdown",
   "metadata": {
    "collapsed": false
   },
   "source": [
    "模型性能分析"
   ]
  },
  {
   "cell_type": "code",
   "execution_count": 12,
   "metadata": {
    "collapsed": false
   },
   "outputs": [
    {
     "name": "stdout",
     "output_type": "stream",
     "text": [
      "Predict begin...\n",
      "step 1/1 [==============================] - 2ms/step\n",
      "Predict samples: 1\n",
      "Predict begin...\n",
      "step 1/1 [==============================] - 2ms/step\n",
      "Predict samples: 1\n",
      "Predict begin...\n",
      "step 1/1 [==============================] - 2ms/step\n",
      "Predict samples: 1\n",
      "Predict begin...\n",
      "step 1/1 [==============================] - 2ms/step\n",
      "Predict samples: 1\n",
      "Predict begin...\n",
      "step 1/1 [==============================] - 2ms/step\n",
      "Predict samples: 1\n",
      "Predict begin...\n",
      "step 1/1 [==============================] - 2ms/step\n",
      "Predict samples: 1\n",
      "Predict begin...\n",
      "step 1/1 [==============================] - 2ms/step\n",
      "Predict samples: 1\n",
      "Predict begin...\n",
      "step 1/1 [==============================] - 2ms/step\n",
      "Predict samples: 1\n",
      "Predict begin...\n",
      "step 1/1 [==============================] - 2ms/step\n",
      "Predict samples: 1\n",
      "Predict begin...\n",
      "step 1/1 [==============================] - 2ms/step\n",
      "Predict samples: 1\n"
     ]
    },
    {
     "data": {
      "image/png": "[encoded data removed]",
      "text/plain": [
       "<Figure size 1000x400 with 10 Axes>"
      ]
     },
     "metadata": {},
     "output_type": "display_data"
    }
   ],
   "source": [
    "#结果可视化\r\n",
    "\r\n",
    "# 选择几个样本进行预测和可视化展示\r\n",
    "#选择10个样本进行预测，并将测试样本的原始标签和模型预测的标签可视化展示出来。\r\n",
    "num_samples = 10\r\n",
    "\r\n",
    "plt.figure(figsize=(10, 4))\r\n",
    "for i in range(num_samples):\r\n",
    "    test_data, test_label = test_dataset[i][0], test_dataset[i][1]\r\n",
    "    test_data = test_data.reshape([28, 28])\r\n",
    "\r\n",
    "    plt.subplot(1, num_samples, i+1)\r\n",
    "    plt.imshow(test_data, cmap=plt.cm.binary)\r\n",
    "    plt.title(f'Label: {test_label}')\r\n",
    "\r\n",
    "    # 模型预测\r\n",
    "    result = model.predict(np.expand_dims(test_dataset[i][0], axis=0))\r\n",
    "    pred_label = np.argmax(result)\r\n",
    "\r\n",
    "    plt.xlabel(f'Pred: {pred_label}')\r\n",
    "\r\n",
    "plt.show()"
   ]
  },
  {
   "cell_type": "code",
   "execution_count": 13,
   "metadata": {
    "collapsed": false
   },
   "outputs": [
    {
     "name": "stdout",
     "output_type": "stream",
     "text": [
      "Predict begin...\n",
      "step 1/1 [==============================] - 2ms/step\n",
      "Predict samples: 1\n",
      "Predict begin...\n",
      "step 1/1 [==============================] - 2ms/step\n",
      "Predict samples: 1\n",
      "Predict begin...\n",
      "step 1/1 [==============================] - 2ms/step\n",
      "Predict samples: 1\n",
      "Predict begin...\n",
      "step 1/1 [==============================] - 2ms/step\n",
      "Predict samples: 1\n",
      "Predict begin...\n",
      "step 1/1 [==============================] - 2ms/step\n",
      "Predict samples: 1\n",
      "Predict begin...\n",
      "step 1/1 [==============================] - 2ms/step\n",
      "Predict samples: 1\n",
      "Predict begin...\n",
      "step 1/1 [==============================] - 2ms/step\n",
      "Predict samples: 1\n",
      "Predict begin...\n",
      "step 1/1 [==============================] - 2ms/step\n",
      "Predict samples: 1\n",
      "Predict begin...\n",
      "step 1/1 [==============================] - 2ms/step\n",
      "Predict samples: 1\n",
      "Predict begin...\n",
      "step 1/1 [==============================] - 2ms/step\n",
      "Predict samples: 1\n"
     ]
    },
    {
     "data": {
      "image/png": "[encoded data removed]",
      "text/plain": [
       "<Figure size 1000x400 with 20 Axes>"
      ]
     },
     "metadata": {},
     "output_type": "display_data"
    }
   ],
   "source": [
    "num_samples = 10\r\n",
    "\r\n",
    "plt.figure(figsize=(10, 4))\r\n",
    "for i in range(num_samples):\r\n",
    "    test_data, test_label = test_dataset[i][0], test_dataset[i][1]\r\n",
    "    test_data = test_data.reshape([28, 28])\r\n",
    "\r\n",
    "    plt.subplot(2, num_samples, i+1)\r\n",
    "    plt.imshow(test_data, cmap=plt.cm.binary)\r\n",
    "    plt.title(f'Label: {test_label}')\r\n",
    "\r\n",
    "    # 模型预测\r\n",
    "    result = model.predict(np.expand_dims(test_dataset[i][0], axis=0))\r\n",
    "    pred_label = np.argmax(result)\r\n",
    "\r\n",
    "    if pred_label == test_label:\r\n",
    "        pred_color = 'green'  # 预测正确的样本标签显示为绿色\r\n",
    "    else:\r\n",
    "        pred_color = 'red'  # 预测错误的样本标签显示为红色\r\n",
    "\r\n",
    "    plt.xlabel(f'Pred: {pred_label}', color=pred_color)\r\n",
    "\r\n",
    "    plt.subplot(2, num_samples, num_samples + i + 1)\r\n",
    "    result = np.array(result)  # 将预测结果转换为NumPy数组\r\n",
    "    plt.bar(range(10), result.ravel(), color=pred_color)  # 使用ravel()方法展平数组\r\n",
    "    plt.xticks(range(10))\r\n",
    "    plt.xlabel('Digit')\r\n",
    "    plt.ylabel('Probability')\r\n",
    "\r\n",
    "plt.tight_layout()\r\n",
    "plt.show()"
   ]
  },
  {
   "cell_type": "code",
   "execution_count": 22,
   "metadata": {
    "collapsed": false
   },
   "outputs": [],
   "source": []
  },
  {
   "cell_type": "code",
   "execution_count": 14,
   "metadata": {
    "collapsed": false
   },
   "outputs": [
    {
     "name": "stdout",
     "output_type": "stream",
     "text": [
      "Eval begin...\n",
      "step 157/157 [==============================] - loss: 1.4659 - acc: 0.9675 - 12ms/step        \n",
      "Eval samples: 10000\n",
      "多层感知机模型测试集上的准确率为: 96.75%\n",
      "Eval begin...\n",
      "step 157/157 [==============================] - loss: 1.4612 - acc: 0.9886 - 10ms/step        \n",
      "Eval samples: 10000\n",
      "LeNet模型在测试集上的准确率为: 98.86%\n"
     ]
    }
   ],
   "source": [
    "#泛化能力测试\r\n",
    "\r\n",
    "# 在测试集上评估模型的性能：对于泛化能力测试，可以使用测试集中的所有样本来评估模型的性能。\r\n",
    "result = model.evaluate(test_dataset, batch_size=64, verbose=1)\r\n",
    "print('多层感知机模型测试集上的准确率为: {:.2%}'.format(result['acc']))\r\n",
    "\r\n",
    "########## edition ii ##########\r\n",
    "# 在测试集上评估模型的性能\r\n",
    "result1 = model1.evaluate(test_dataset, batch_size=64, verbose=1)\r\n",
    "print('LeNet模型在测试集上的准确率为: {:.2%}'.format(result1['acc']))\r\n"
   ]
  },
  {
   "cell_type": "code",
   "execution_count": null,
   "metadata": {
    "collapsed": false
   },
   "outputs": [
    {
     "name": "stdout",
     "output_type": "stream",
     "text": [
      "step 1/1 [==============================] - 2ms/step\r"
     ]
    }
   ],
   "source": [
    "# 获取测试集中的标签和预测结果\r\n",
    "y_true = []\r\n",
    "y_pred = []\r\n",
    "\r\n",
    "for data, label in test_dataset:\r\n",
    "    # 将数据转为模型输入的格式\r\n",
    "    data = np.expand_dims(data, axis=0)\r\n",
    "    data = paddle.to_tensor(data)\r\n",
    "\r\n",
    "    # 使用模型进行预测\r\n",
    "    result = model.predict(data)\r\n",
    "    pred_label = np.argmax(result)\r\n",
    "\r\n",
    "    # 将真实标签和预测结果添加到列表中\r\n",
    "    y_true.append(label)\r\n",
    "    y_pred.append(pred_label)\r\n",
    "\r\n"
   ]
  },
  {
   "cell_type": "code",
   "execution_count": null,
   "metadata": {
    "collapsed": false
   },
   "outputs": [],
   "source": [
    "from sklearn.metrics import confusion_matrix\r\n",
    "import itertools\r\n",
    "\r\n",
    "# 计算混淆矩阵\r\n",
    "cm = confusion_matrix(y_true, y_pred)\r\n",
    "classes = [str(i) for i in range(10)]\r\n",
    "\r\n",
    "plt.figure(figsize=(8, 6))\r\n",
    "plt.imshow(cm, interpolation='nearest', cmap=plt.cm.Blues)\r\n",
    "plt.title(\"Confusion Matrixxx\")\r\n",
    "plt.colorbar()\r\n",
    "tick_marks = np.arange(len(classes))\r\n",
    "plt.xticks(tick_marks, classes)\r\n",
    "plt.yticks(tick_marks, classes)\r\n",
    "\r\n",
    "thresh = cm.max() / 2\r\n",
    "for i, j in itertools.product(range(cm.shape[0]), range(cm.shape[1])):\r\n",
    "    plt.text(j, i, format(cm[i, j], 'd'), horizontalalignment=\"center\", color=\"white\" if cm[i, j] > thresh else \"black\")\r\n",
    "\r\n",
    "plt.tight_layout()\r\n",
    "plt.ylabel('True label')\r\n",
    "plt.xlabel('Predicted label')\r\n",
    "plt.show()\r\n"
   ]
  },
  {
   "cell_type": "code",
   "execution_count": null,
   "metadata": {
    "collapsed": false
   },
   "outputs": [],
   "source": [
    "# 打印分类报告\r\n",
    "\r\n",
    "from sklearn.metrics import classification_report\r\n",
    "cr = classification_report(y_true, y_pred, digits=7)\r\n",
    "print('分类报告：')\r\n",
    "print(cr)"
   ]
  },
  {
   "cell_type": "code",
   "execution_count": null,
   "metadata": {
    "collapsed": false
   },
   "outputs": [
    {
     "name": "stdout",
     "output_type": "stream",
     "text": [
      "Predict begin...\r"
     ]
    }
   ],
   "source": [
    "y_true = []\r\n",
    "y_pred1 = []  # 使用LeNet模型的预测结果\r\n",
    "\r\n",
    "for data, label in test_dataset:\r\n",
    "    # 将数据转为模型输入的格式\r\n",
    "    data = np.expand_dims(data, axis=0)\r\n",
    "    data = np.expand_dims(data, axis=1)  # 添加通道维度\r\n",
    "    data = paddle.to_tensor(data)\r\n",
    "\r\n",
    "    # 使用LeNet模型进行预测\r\n",
    "    result1 = model1.predict(data)\r\n",
    "    pred_label1 = np.argmax(result1)\r\n",
    "\r\n",
    "    # 将真实标签和LeNet模型的预测结果添加到列表中\r\n",
    "    y_true.append(label)\r\n",
    "    y_pred1.append(pred_label1)\r\n",
    "\r\n"
   ]
  },
  {
   "cell_type": "code",
   "execution_count": 22,
   "metadata": {
    "collapsed": false
   },
   "outputs": [
    {
     "data": {
      "image/png": "[encoded data removed]",
      "text/plain": [
       "<Figure size 800x600 with 2 Axes>"
      ]
     },
     "metadata": {},
     "output_type": "display_data"
    }
   ],
   "source": [
    "from sklearn.metrics import confusion_matrix\r\n",
    "import itertools\r\n",
    "\r\n",
    "# 计算混淆矩阵\r\n",
    "cm1 = confusion_matrix(y_true, y_pred1)  # 修改为cm1\r\n",
    "classes = [str(i) for i in range(10)]\r\n",
    "\r\n",
    "plt.figure(figsize=(8, 6))\r\n",
    "plt.imshow(cm1, interpolation='nearest', cmap=plt.cm.Blues)  # 修改为cm1\r\n",
    "plt.title(\"Confusion Matrixxx\")\r\n",
    "plt.colorbar()\r\n",
    "tick_marks = np.arange(len(classes))\r\n",
    "plt.xticks(tick_marks, classes)\r\n",
    "plt.yticks(tick_marks, classes)\r\n",
    "\r\n",
    "thresh = cm1.max() / 2  # 修改为cm1\r\n",
    "for i, j in itertools.product(range(cm1.shape[0]), range(cm1.shape[1])):  # 修改为cm1\r\n",
    "    plt.text(j, i, format(cm1[i, j], 'd'), horizontalalignment=\"center\", color=\"white\" if cm1[i, j] > thresh else \"black\")\r\n",
    "\r\n",
    "plt.tight_layout()\r\n",
    "plt.ylabel('True label')\r\n",
    "plt.xlabel('Predicted label')\r\n",
    "plt.show()"
   ]
  },
  {
   "cell_type": "code",
   "execution_count": 23,
   "metadata": {
    "collapsed": false
   },
   "outputs": [
    {
     "name": "stdout",
     "output_type": "stream",
     "text": [
      "分类报告：\n",
      "              precision    recall  f1-score   support\n",
      "\n",
      "           0  0.9938838 0.9948980 0.9943906       980\n",
      "           1  0.9955791 0.9920705 0.9938217      1135\n",
      "           2  0.9680451 0.9980620 0.9828244      1032\n",
      "           3  0.9890981 0.9881188 0.9886082      1010\n",
      "           4  0.9918782 0.9949084 0.9933910       982\n",
      "           5  0.9897727 0.9764574 0.9830700       892\n",
      "           6  0.9916230 0.9885177 0.9900680       958\n",
      "           7  0.9940828 0.9805447 0.9872674      1028\n",
      "           8  0.9846782 0.9897331 0.9871992       974\n",
      "           9  0.9880240 0.9811695 0.9845848      1009\n",
      "\n",
      "    accuracy                      0.9886000     10000\n",
      "   macro avg  0.9886665 0.9884480 0.9885225     10000\n",
      "weighted avg  0.9886787 0.9886000 0.9886042     10000\n",
      "\n"
     ]
    }
   ],
   "source": [
    "# 打印分类报告\r\n",
    "cr1 = classification_report(y_true, y_pred1, digits=7)\r\n",
    "print('分类报告：')\r\n",
    "print(cr1)"
   ]
  },
  {
   "cell_type": "code",
   "execution_count": 24,
   "metadata": {
    "collapsed": false
   },
   "outputs": [
    {
     "name": "stdout",
     "output_type": "stream",
     "text": [
      "              precision    recall  f1-score   support\n",
      "\n",
      "           0  0.9796541 0.9826531 0.9811513       980\n",
      "           1  0.9945405 0.9629956 0.9785139      1135\n",
      "           2  0.9764012 0.9622093 0.9692533      1032\n",
      "           3  0.9545455 0.9772277 0.9657534      1010\n",
      "           4  0.9762887 0.9643585 0.9702869       982\n",
      "           5  0.9825986 0.9495516 0.9657925       892\n",
      "           6  0.9640288 0.9791232 0.9715173       958\n",
      "           7  0.9242701 0.9854086 0.9538606      1028\n",
      "           8  0.9646570 0.9527721 0.9586777       974\n",
      "           9  0.9621514 0.9573835 0.9597615      1009\n",
      "\n",
      "    accuracy                      0.9675000     10000\n",
      "   macro avg  0.9679136 0.9673683 0.9674568     10000\n",
      "weighted avg  0.9679871 0.9675000 0.9675564     10000\n",
      "\n",
      "              precision    recall  f1-score   support\n",
      "\n",
      "           0  0.9938838 0.9948980 0.9943906       980\n",
      "           1  0.9955791 0.9920705 0.9938217      1135\n",
      "           2  0.9680451 0.9980620 0.9828244      1032\n",
      "           3  0.9890981 0.9881188 0.9886082      1010\n",
      "           4  0.9918782 0.9949084 0.9933910       982\n",
      "           5  0.9897727 0.9764574 0.9830700       892\n",
      "           6  0.9916230 0.9885177 0.9900680       958\n",
      "           7  0.9940828 0.9805447 0.9872674      1028\n",
      "           8  0.9846782 0.9897331 0.9871992       974\n",
      "           9  0.9880240 0.9811695 0.9845848      1009\n",
      "\n",
      "    accuracy                      0.9886000     10000\n",
      "   macro avg  0.9886665 0.9884480 0.9885225     10000\n",
      "weighted avg  0.9886787 0.9886000 0.9886042     10000\n",
      "\n"
     ]
    }
   ],
   "source": [
    "print(cr)\r\n",
    "print(cr1)"
   ]
  },
  {
   "cell_type": "markdown",
   "metadata": {
    "collapsed": false
   },
   "source": [
    "**END.**"
   ]
  }
 ],
 "metadata": {
  "kernelspec": {
   "display_name": "Python 3",
   "language": "python",
   "name": "py35-paddle1.2.0"
  },
  "language_info": {
   "codemirror_mode": {
    "name": "ipython",
    "version": 3
   },
   "file_extension": ".py",
   "mimetype": "text/x-python",
   "name": "python",
   "nbconvert_exporter": "python",
   "pygments_lexer": "ipython3",
   "version": "3.7.4"
  }
 },
 "nbformat": 4,
 "nbformat_minor": 1
}

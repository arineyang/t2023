{
 "cells": [
  {
   "cell_type": "code",
   "execution_count": 6,
   "metadata": {},
   "outputs": [],
   "source": [
    "# 1.使用神经网络实现葡萄酒数据集的分类分析，分类值为葡萄酒质量，（1-10之间），选择不同的优化权重算法（solver）进行模型比较并分析。\n",
    "#    *使用“quality”列\n",
    "import warnings\n",
    "warnings.filterwarnings('ignore')\n",
    "\n",
    "#从数据集中读入数据\n",
    "import pandas as pd\n",
    "filename = \"D:\\mine_coding\\CAU_IDS\\data6\\wine.csv\"\n",
    "data = pd.read_csv(filename, index_col='idx')\n",
    "#数据预处理\n",
    "data.drop('good_or_not',axis=1,inplace=True)\n",
    "x = data.drop('quality', axis=1).values.astype(float)\n",
    "y = data['quality'].values.astype(float)\n",
    "#data.iloc[0:5,:]"
   ]
  },
  {
   "cell_type": "code",
   "execution_count": 7,
   "metadata": {},
   "outputs": [
    {
     "name": "stdout",
     "output_type": "stream",
     "text": [
      "[[12.    0.46  2.96 ...  0.32  0.26  7.6 ]\n",
      " [10.8   0.4   3.32 ...  0.33  0.23  6.7 ]\n",
      " [ 8.9   0.42  2.89 ...  0.42  0.24  7.4 ]\n",
      " ...\n",
      " [10.9   0.43  3.25 ...  0.41  0.14  7.  ]\n",
      " [ 9.1   0.44  2.96 ...  0.42  0.28  7.4 ]\n",
      " [ 8.8   0.42  3.03 ...  0.53  0.25  6.4 ]]\n"
     ]
    }
   ],
   "source": [
    "#分割训练集和测试集\n",
    "from sklearn import model_selection\n",
    "X_train,X_test,y_train,y_test = model_selection.train_test_split(x,y,test_size=0.5,random_state=1)\n",
    "print(X_train)"
   ]
  },
  {
   "cell_type": "code",
   "execution_count": 8,
   "metadata": {},
   "outputs": [
    {
     "name": "stdout",
     "output_type": "stream",
     "text": [
      "0.4817855310415598\n"
     ]
    }
   ],
   "source": [
    "#创建神经网络分类器，训练网络节点连接权重及偏置项（bfgs函数）\n",
    "from sklearn.neural_network import MLPClassifier\n",
    "mlp = MLPClassifier(solver='lbfgs',alpha=1e-5,hidden_layer_sizes=(5, 5),random_state=1)#表示有两个隐藏层，每层神经元个数分别为3、3\n",
    "#random_state:作用:控制随机状态。对于结果是否重现，固定random_state是非常重要的。\n",
    "#其实就是该组随机数的编号，在需要重复试验的时候，保证得到一组一样的随机数。\n",
    "mlp.fit(X_train,y_train)\n",
    "#mlp.score查看模型评分，返回给定测试数据和标签上的平均准确度\n",
    "print(mlp.score(X_test,y_test))"
   ]
  },
  {
   "cell_type": "code",
   "execution_count": 9,
   "metadata": {},
   "outputs": [
    {
     "name": "stdout",
     "output_type": "stream",
     "text": [
      "Classification report for MLPClassifier(alpha=1e-05, hidden_layer_sizes=(5, 5), random_state=1,\n",
      "              solver='lbfgs')\n",
      "              precision    recall  f1-score   support\n",
      "\n",
      "         3.0       0.00      0.00      0.00         4\n",
      "         4.0       0.00      0.00      0.00        70\n",
      "         5.0       0.47      0.46      0.46       557\n",
      "         6.0       0.49      0.77      0.59       894\n",
      "         7.0       0.00      0.00      0.00       342\n",
      "         8.0       0.00      0.00      0.00        80\n",
      "         9.0       0.00      0.00      0.00         2\n",
      "\n",
      "    accuracy                           0.48      1949\n",
      "   macro avg       0.14      0.17      0.15      1949\n",
      "weighted avg       0.36      0.48      0.41      1949\n",
      "\n",
      "Confusion matrix:\n",
      " [[  0   0   3   1   0   0   0]\n",
      " [  0   0  26  44   0   0   0]\n",
      " [  0   0 254 303   0   0   0]\n",
      " [  0   0 209 685   0   0   0]\n",
      " [  0   0  38 304   0   0   0]\n",
      " [  0   0   7  73   0   0   0]\n",
      " [  0   0   0   2   0   0   0]]\n"
     ]
    }
   ],
   "source": [
    "#分类器性能评估\n",
    "from sklearn import metrics\n",
    "y_predicted = mlp.predict(X_test)\n",
    "print(\"Classification report for %s\" % mlp)\n",
    "print(metrics.classification_report(y_test, y_predicted) )\n",
    "print( \"Confusion matrix:\\n\", metrics.confusion_matrix(y_test, y_predicted) )"
   ]
  },
  {
   "cell_type": "code",
   "execution_count": 10,
   "metadata": {},
   "outputs": [
    {
     "name": "stdout",
     "output_type": "stream",
     "text": [
      "0.4586967675731144\n"
     ]
    }
   ],
   "source": [
    "#创建神经网络分类器，训练网络节点连接权重及偏置项（sgd函数）\n",
    "mlp = MLPClassifier(solver='sgd',alpha=1e-5,hidden_layer_sizes=(3,3),random_state=1)#表示有两个隐藏层，每层神经元个数分别为3、3\n",
    "mlp.fit(X_train,y_train)\n",
    "print(mlp.score(X_test,y_test))"
   ]
  },
  {
   "cell_type": "code",
   "execution_count": 11,
   "metadata": {},
   "outputs": [
    {
     "name": "stdout",
     "output_type": "stream",
     "text": [
      "Classification report for MLPClassifier(alpha=1e-05, hidden_layer_sizes=(3, 3), random_state=1,\n",
      "              solver='sgd')\n",
      "              precision    recall  f1-score   support\n",
      "\n",
      "         3.0       0.00      0.00      0.00         4\n",
      "         4.0       0.00      0.00      0.00        70\n",
      "         5.0       0.00      0.00      0.00       557\n",
      "         6.0       0.46      1.00      0.63       894\n",
      "         7.0       0.00      0.00      0.00       342\n",
      "         8.0       0.00      0.00      0.00        80\n",
      "         9.0       0.00      0.00      0.00         2\n",
      "\n",
      "    accuracy                           0.46      1949\n",
      "   macro avg       0.07      0.14      0.09      1949\n",
      "weighted avg       0.21      0.46      0.29      1949\n",
      "\n",
      "Confusion matrix:\n",
      " [[  0   0   0   4   0   0   0]\n",
      " [  0   0   0  70   0   0   0]\n",
      " [  0   0   0 557   0   0   0]\n",
      " [  0   0   0 894   0   0   0]\n",
      " [  0   0   0 342   0   0   0]\n",
      " [  0   0   0  80   0   0   0]\n",
      " [  0   0   0   2   0   0   0]]\n"
     ]
    }
   ],
   "source": [
    "#分类器性能评估\n",
    "y_predicted = mlp.predict(X_test)\n",
    "print(\"Classification report for %s\" % mlp)\n",
    "print(metrics.classification_report(y_test, y_predicted) )\n",
    "print( \"Confusion matrix:\\n\", metrics.confusion_matrix(y_test, y_predicted) )"
   ]
  },
  {
   "cell_type": "code",
   "execution_count": null,
   "metadata": {},
   "outputs": [],
   "source": [
    "\n",
    "\n",
    "#\"D:\\mine_coding\\CAU_IDS\\data6\\wine.csv\""
   ]
  },
  {
   "cell_type": "code",
   "execution_count": 12,
   "metadata": {},
   "outputs": [],
   "source": [
    "#2.基于Keras建立深度神经网络模型，采取不同的数据集划分比例（9:1，8:2，7:3），为葡萄酒数据集训练分类器并进行分析。\n",
    "#    *使用“good_or_not”列\n",
    "\n",
    "#（1）9:1\n",
    "import pandas as pd\n",
    "filename='data\\wine.csv'\n",
    "data=pd.read_csv(filename,index_col='idx')\n",
    "data.loc[data['good_or_not']=='good','good_or_not']=1\n",
    "data.loc[data['good_or_not']=='not','good_or_not']=0\n",
    "data.drop('quality',axis=1,inplace=True)\n",
    "x = data.drop('good_or_not', axis=1).values.astype(float)\n",
    "y = data['good_or_not'].values.astype(float)\n",
    "from keras.models import Sequential\n",
    "from keras.layers import Dense, Activation\n",
    "import numpy as np\n",
    "from sklearn.model_selection import train_test_split\n",
    "# 定义模型结构\n",
    "model = Sequential()\n",
    "model.add(Dense(units=16, input_dim=11))\n",
    "model.add(Activation('relu'))\n",
    "model.add(Dense(16))\n",
    "model.add(Activation('relu'))\n",
    "model.add(Dense(3))\n",
    "model.add(Activation('softmax'))\n",
    "#定义模型损失函数和优化器，并编译\n",
    "model.compile(loss='categorical_crossentropy', optimizer='adam', metrics=[\"accuracy\"])\n",
    "\n",
    "#1、深度学习模型，输入输出都为多维张量，统一使用小写字母 x,y,划分比例9:1\n",
    "x_train, x_test, y_train, y_test= train_test_split(x, y, train_size=0.9, test_size=0.1, random_state=0)#划分比例9:1\n",
    "#x_train, x_test, y_train, y_test= train_test_split(x, y, train_size=0.8, test_size=0.2, random_state=0)#划分比例8:2\n",
    "#x_train, x_test, y_train, y_test= train_test_split(x, y, train_size=0.7, test_size=0.3, random_state=0)#划分比例7:3\n",
    "from keras.utils import np_utils\n",
    "y_train_ohe = np_utils.to_categorical(y_train, num_classes = 3)\n",
    "y_test_ohe = np_utils.to_categorical(y_test, num_classes = 3)"
   ]
  },
  {
   "cell_type": "code",
   "execution_count": 13,
   "metadata": {},
   "outputs": [
    {
     "name": "stdout",
     "output_type": "stream",
     "text": [
      "Epoch 1/20\n",
      "3508/3508 - 12s - loss: 1.3113 - accuracy: 0.6180 - val_loss: 0.6715 - val_accuracy: 0.6744 - 12s/epoch - 3ms/step\n",
      "Epoch 2/20\n",
      "3508/3508 - 12s - loss: 0.8441 - accuracy: 0.6417 - val_loss: 0.6029 - val_accuracy: 0.7026 - 12s/epoch - 3ms/step\n",
      "Epoch 3/20\n",
      "3508/3508 - 13s - loss: 0.7796 - accuracy: 0.6594 - val_loss: 0.6077 - val_accuracy: 0.6615 - 13s/epoch - 4ms/step\n",
      "Epoch 4/20\n",
      "3508/3508 - 10s - loss: 0.6888 - accuracy: 0.6759 - val_loss: 0.5953 - val_accuracy: 0.6897 - 10s/epoch - 3ms/step\n",
      "Epoch 5/20\n",
      "3508/3508 - 9s - loss: 0.6108 - accuracy: 0.6990 - val_loss: 0.5913 - val_accuracy: 0.6795 - 9s/epoch - 3ms/step\n",
      "Epoch 6/20\n",
      "3508/3508 - 10s - loss: 0.6116 - accuracy: 0.6787 - val_loss: 0.7150 - val_accuracy: 0.6590 - 10s/epoch - 3ms/step\n",
      "Epoch 7/20\n",
      "3508/3508 - 12s - loss: 0.6076 - accuracy: 0.6850 - val_loss: 0.5645 - val_accuracy: 0.6974 - 12s/epoch - 4ms/step\n",
      "Epoch 8/20\n",
      "3508/3508 - 12s - loss: 0.5866 - accuracy: 0.6870 - val_loss: 0.5775 - val_accuracy: 0.6949 - 12s/epoch - 3ms/step\n",
      "Epoch 9/20\n",
      "3508/3508 - 10s - loss: 0.5740 - accuracy: 0.6941 - val_loss: 0.5530 - val_accuracy: 0.7308 - 10s/epoch - 3ms/step\n",
      "Epoch 10/20\n",
      "3508/3508 - 10s - loss: 0.5625 - accuracy: 0.7052 - val_loss: 0.5421 - val_accuracy: 0.7282 - 10s/epoch - 3ms/step\n",
      "Epoch 11/20\n",
      "3508/3508 - 10s - loss: 0.5570 - accuracy: 0.7109 - val_loss: 0.5390 - val_accuracy: 0.7051 - 10s/epoch - 3ms/step\n",
      "Epoch 12/20\n",
      "3508/3508 - 10s - loss: 0.5483 - accuracy: 0.7101 - val_loss: 0.5360 - val_accuracy: 0.7128 - 10s/epoch - 3ms/step\n",
      "Epoch 13/20\n",
      "3508/3508 - 10s - loss: 0.5504 - accuracy: 0.7084 - val_loss: 0.5715 - val_accuracy: 0.7103 - 10s/epoch - 3ms/step\n",
      "Epoch 14/20\n",
      "3508/3508 - 9s - loss: 0.5482 - accuracy: 0.7027 - val_loss: 0.5520 - val_accuracy: 0.7205 - 9s/epoch - 3ms/step\n",
      "Epoch 15/20\n",
      "3508/3508 - 9s - loss: 0.5443 - accuracy: 0.7138 - val_loss: 0.5651 - val_accuracy: 0.7000 - 9s/epoch - 3ms/step\n",
      "Epoch 16/20\n",
      "3508/3508 - 10s - loss: 0.5414 - accuracy: 0.7127 - val_loss: 0.5404 - val_accuracy: 0.7256 - 10s/epoch - 3ms/step\n",
      "Epoch 17/20\n",
      "3508/3508 - 9s - loss: 0.5361 - accuracy: 0.7129 - val_loss: 0.5646 - val_accuracy: 0.7077 - 9s/epoch - 2ms/step\n",
      "Epoch 18/20\n",
      "3508/3508 - 9s - loss: 0.5383 - accuracy: 0.7166 - val_loss: 0.5411 - val_accuracy: 0.7103 - 9s/epoch - 3ms/step\n",
      "Epoch 19/20\n",
      "3508/3508 - 9s - loss: 0.5307 - accuracy: 0.7226 - val_loss: 0.5365 - val_accuracy: 0.6974 - 9s/epoch - 2ms/step\n",
      "Epoch 20/20\n",
      "3508/3508 - 8s - loss: 0.5334 - accuracy: 0.7112 - val_loss: 0.5285 - val_accuracy: 0.7231 - 8s/epoch - 2ms/step\n"
     ]
    },
    {
     "data": {
      "text/plain": [
       "<keras.callbacks.History at 0x249da0a3eb0>"
      ]
     },
     "execution_count": 13,
     "metadata": {},
     "output_type": "execute_result"
    }
   ],
   "source": [
    "#2、模型的训练及评估\n",
    "model.fit(x_train, y_train_ohe, epochs=20, batch_size=1, verbose=2, validation_data=(x_test,y_test_ohe))"
   ]
  },
  {
   "cell_type": "code",
   "execution_count": 14,
   "metadata": {
    "scrolled": true
   },
   "outputs": [
    {
     "name": "stdout",
     "output_type": "stream",
     "text": [
      "13/13 - 0s - loss: 0.5285 - accuracy: 0.7231 - 350ms/epoch - 27ms/step\n",
      "loss = 0.5285254120826721,accuracy = 0.7230769395828247 \n"
     ]
    }
   ],
   "source": [
    "#3、评估模型\n",
    "loss, accuracy = model.evaluate(x_test, y_test_ohe,verbose=2)\n",
    "print('loss = {},accuracy = {} '.format(loss,accuracy) )"
   ]
  },
  {
   "cell_type": "code",
   "execution_count": null,
   "metadata": {},
   "outputs": [],
   "source": [
    "#4、查看预测结果\n",
    "prob = model.predict(x_test,verbose=2)\n",
    "#classes = model.predict_classes(x_test,verbose=2)\n",
    "classes=np.argmax(prob,axis=1)\n",
    "print('测试样本数：',len(classes))\n",
    "print(\"分类概率:\\n\",prob)\n",
    "print(\"分类结果：\\n\",classes)\n",
    "from sklearn.metrics import classification_report\n",
    "print('分类性能报告如下：')\n",
    "print(classification_report(list(y_test),list(classes)))"
   ]
  },
  {
   "cell_type": "code",
   "execution_count": null,
   "metadata": {},
   "outputs": [],
   "source": []
  },
  {
   "cell_type": "code",
   "execution_count": 15,
   "metadata": {},
   "outputs": [],
   "source": [
    "#（2）8:2\n",
    "import pandas as pd\n",
    "filename='data\\wine.csv'\n",
    "data=pd.read_csv(filename,index_col='idx')\n",
    "data.loc[data['good_or_not']=='good','good_or_not']=1\n",
    "data.loc[data['good_or_not']=='not','good_or_not']=0\n",
    "data.drop('quality',axis=1,inplace=True)\n",
    "x = data.drop('good_or_not', axis=1).values.astype(float)\n",
    "y = data['good_or_not'].values.astype(float)\n",
    "from keras.models import Sequential\n",
    "from keras.layers import Dense, Activation\n",
    "import numpy as np\n",
    "from sklearn.model_selection import train_test_split\n",
    "# 定义模型结构\n",
    "model = Sequential()\n",
    "model.add(Dense(units=16, input_dim=11))\n",
    "model.add(Activation('relu'))\n",
    "model.add(Dense(16))\n",
    "model.add(Activation('relu'))\n",
    "model.add(Dense(3))\n",
    "model.add(Activation('softmax'))\n",
    "#定义模型损失函数和优化器，并编译\n",
    "model.compile(loss='categorical_crossentropy', optimizer='adam', metrics=[\"accuracy\"])\n",
    "\n",
    "#1、深度学习模型，输入输出都为多维张量，统一使用小写字母 x,y,划分比例8:2\n",
    "#x_train, x_test, y_train, y_test= train_test_split(x, y, train_size=0.9, test_size=0.1, random_state=0)#划分比例9:1\n",
    "x_train, x_test, y_train, y_test= train_test_split(x, y, train_size=0.8, test_size=0.2, random_state=0)#划分比例8:2\n",
    "#x_train, x_test, y_train, y_test= train_test_split(x, y, train_size=0.7, test_size=0.3, random_state=0)#划分比例7:3\n",
    "from keras.utils import np_utils\n",
    "y_train_ohe = np_utils.to_categorical(y_train, num_classes = 3)\n",
    "y_test_ohe = np_utils.to_categorical(y_test, num_classes = 3)"
   ]
  },
  {
   "cell_type": "code",
   "execution_count": 16,
   "metadata": {},
   "outputs": [
    {
     "name": "stdout",
     "output_type": "stream",
     "text": [
      "Epoch 1/20\n",
      "3118/3118 - 11s - loss: 0.7412 - accuracy: 0.6495 - val_loss: 0.6723 - val_accuracy: 0.6833 - 11s/epoch - 3ms/step\n",
      "Epoch 2/20\n",
      "3118/3118 - 13s - loss: 0.6263 - accuracy: 0.6684 - val_loss: 0.6537 - val_accuracy: 0.6269 - 13s/epoch - 4ms/step\n",
      "Epoch 3/20\n",
      "3118/3118 - 12s - loss: 0.6121 - accuracy: 0.6703 - val_loss: 0.5686 - val_accuracy: 0.6885 - 12s/epoch - 4ms/step\n",
      "Epoch 4/20\n",
      "3118/3118 - 13s - loss: 0.5948 - accuracy: 0.6764 - val_loss: 0.5686 - val_accuracy: 0.6949 - 13s/epoch - 4ms/step\n",
      "Epoch 5/20\n",
      "3118/3118 - 12s - loss: 0.5902 - accuracy: 0.6796 - val_loss: 0.5677 - val_accuracy: 0.6808 - 12s/epoch - 4ms/step\n",
      "Epoch 6/20\n",
      "3118/3118 - 13s - loss: 0.5787 - accuracy: 0.6953 - val_loss: 0.5648 - val_accuracy: 0.7128 - 13s/epoch - 4ms/step\n",
      "Epoch 7/20\n",
      "3118/3118 - 14s - loss: 0.5707 - accuracy: 0.6944 - val_loss: 0.5697 - val_accuracy: 0.7000 - 14s/epoch - 5ms/step\n",
      "Epoch 8/20\n",
      "3118/3118 - 9s - loss: 0.5624 - accuracy: 0.7021 - val_loss: 0.5603 - val_accuracy: 0.6872 - 9s/epoch - 3ms/step\n",
      "Epoch 9/20\n",
      "3118/3118 - 10s - loss: 0.5618 - accuracy: 0.6963 - val_loss: 0.5624 - val_accuracy: 0.6628 - 10s/epoch - 3ms/step\n",
      "Epoch 10/20\n",
      "3118/3118 - 11s - loss: 0.5577 - accuracy: 0.6960 - val_loss: 0.5446 - val_accuracy: 0.6936 - 11s/epoch - 3ms/step\n",
      "Epoch 11/20\n",
      "3118/3118 - 11s - loss: 0.5550 - accuracy: 0.7049 - val_loss: 0.5539 - val_accuracy: 0.6833 - 11s/epoch - 3ms/step\n",
      "Epoch 12/20\n",
      "3118/3118 - 13s - loss: 0.5481 - accuracy: 0.6976 - val_loss: 0.5387 - val_accuracy: 0.6923 - 13s/epoch - 4ms/step\n",
      "Epoch 13/20\n",
      "3118/3118 - 12s - loss: 0.5453 - accuracy: 0.7107 - val_loss: 0.5410 - val_accuracy: 0.7115 - 12s/epoch - 4ms/step\n",
      "Epoch 14/20\n",
      "3118/3118 - 10s - loss: 0.5424 - accuracy: 0.7056 - val_loss: 0.5968 - val_accuracy: 0.6872 - 10s/epoch - 3ms/step\n",
      "Epoch 15/20\n",
      "3118/3118 - 10s - loss: 0.5445 - accuracy: 0.6995 - val_loss: 0.5383 - val_accuracy: 0.7192 - 10s/epoch - 3ms/step\n",
      "Epoch 16/20\n",
      "3118/3118 - 10s - loss: 0.5334 - accuracy: 0.7207 - val_loss: 0.5356 - val_accuracy: 0.7103 - 10s/epoch - 3ms/step\n",
      "Epoch 17/20\n",
      "3118/3118 - 10s - loss: 0.5346 - accuracy: 0.7094 - val_loss: 0.5383 - val_accuracy: 0.7103 - 10s/epoch - 3ms/step\n",
      "Epoch 18/20\n",
      "3118/3118 - 9s - loss: 0.5287 - accuracy: 0.7213 - val_loss: 0.5370 - val_accuracy: 0.7205 - 9s/epoch - 3ms/step\n",
      "Epoch 19/20\n",
      "3118/3118 - 9s - loss: 0.5301 - accuracy: 0.7085 - val_loss: 0.5343 - val_accuracy: 0.6910 - 9s/epoch - 3ms/step\n",
      "Epoch 20/20\n",
      "3118/3118 - 10s - loss: 0.5229 - accuracy: 0.7136 - val_loss: 0.5496 - val_accuracy: 0.7077 - 10s/epoch - 3ms/step\n"
     ]
    },
    {
     "data": {
      "text/plain": [
       "<keras.callbacks.History at 0x249cd95e7f0>"
      ]
     },
     "execution_count": 16,
     "metadata": {},
     "output_type": "execute_result"
    }
   ],
   "source": [
    "#2、模型的训练及评估\n",
    "model.fit(x_train, y_train_ohe, epochs=20, batch_size=1, verbose=2, validation_data=(x_test,y_test_ohe))"
   ]
  },
  {
   "cell_type": "code",
   "execution_count": 17,
   "metadata": {},
   "outputs": [
    {
     "name": "stdout",
     "output_type": "stream",
     "text": [
      "25/25 - 0s - loss: 0.5496 - accuracy: 0.7077 - 368ms/epoch - 15ms/step\n",
      "loss = 0.5495900511741638,accuracy = 0.7076923251152039 \n"
     ]
    }
   ],
   "source": [
    "#3、评估模型\n",
    "loss, accuracy = model.evaluate(x_test, y_test_ohe,verbose=2)\n",
    "print('loss = {},accuracy = {} '.format(loss,accuracy) )"
   ]
  },
  {
   "cell_type": "code",
   "execution_count": 18,
   "metadata": {},
   "outputs": [
    {
     "name": "stdout",
     "output_type": "stream",
     "text": [
      "25/25 - 0s - 284ms/epoch - 11ms/step\n",
      "测试样本数： 780\n",
      "分类概率:\n",
      " [[5.0521880e-01 4.9478111e-01 2.5011893e-10]\n",
      " [4.9381831e-01 5.0618172e-01 4.8269191e-11]\n",
      " [8.9934416e-02 9.1006559e-01 2.6546437e-30]\n",
      " ...\n",
      " [4.1548929e-01 5.8451074e-01 5.2177198e-16]\n",
      " [2.0414397e-01 7.9585600e-01 8.0851929e-29]\n",
      " [3.1550586e-01 6.8449414e-01 8.0429778e-23]]\n",
      "分类结果：\n",
      " [0 1 1 0 1 1 1 1 1 1 0 1 0 0 0 1 1 1 1 1 1 1 1 0 1 0 1 1 0 0 1 0 1 0 1 1 0\n",
      " 1 0 0 0 0 1 0 1 0 1 1 1 1 1 1 1 1 0 1 1 1 0 1 1 1 1 0 1 1 1 0 1 0 1 1 1 0\n",
      " 1 1 0 1 1 1 1 0 1 1 1 1 1 1 0 0 1 1 1 1 1 1 0 1 0 1 0 1 1 1 1 1 1 1 1 0 0\n",
      " 1 0 0 1 0 0 1 1 0 1 1 1 1 0 1 0 1 0 1 1 1 1 0 1 1 1 1 0 1 1 0 1 0 1 1 1 1\n",
      " 1 0 1 0 0 1 0 0 0 0 1 1 1 0 1 1 1 1 1 0 0 1 0 1 0 1 1 1 1 1 1 1 1 0 0 1 1\n",
      " 0 1 1 0 1 1 1 0 0 1 1 1 1 1 1 1 1 1 0 1 1 0 1 0 1 1 0 1 1 1 1 1 1 1 1 0 0\n",
      " 0 1 1 0 1 1 0 1 1 1 0 0 1 1 0 0 0 1 1 0 1 1 0 0 1 1 1 1 1 0 1 1 0 0 1 1 0\n",
      " 1 1 0 0 1 1 1 0 0 1 1 1 1 1 0 0 0 1 1 0 1 0 0 1 0 1 1 0 1 0 1 1 1 1 1 1 0\n",
      " 1 0 1 1 0 1 1 0 1 0 1 1 1 0 1 1 1 1 1 0 1 0 1 1 1 0 0 1 1 1 0 1 1 1 0 0 1\n",
      " 1 1 1 1 1 0 1 1 0 1 1 1 1 1 1 0 1 1 1 0 1 0 0 0 1 1 0 1 1 1 1 1 0 1 1 0 1\n",
      " 1 0 0 1 0 1 1 1 0 1 1 0 0 0 1 1 0 1 0 1 1 0 1 1 0 1 0 1 1 0 1 1 0 1 1 1 1\n",
      " 1 1 1 1 1 1 1 1 1 1 1 1 1 1 1 1 1 1 0 0 1 1 1 1 1 0 0 1 1 0 1 0 1 1 1 1 0\n",
      " 1 1 1 1 0 1 1 1 1 1 0 1 0 1 1 0 1 1 0 0 1 1 0 0 1 1 0 0 0 0 1 0 0 1 1 1 1\n",
      " 1 1 0 1 1 1 1 1 0 1 0 1 1 1 0 1 1 1 1 1 1 1 1 1 1 1 1 1 1 1 1 1 1 1 1 1 0\n",
      " 1 1 1 1 1 1 1 0 1 0 1 1 1 1 1 1 0 0 0 1 0 0 1 1 1 0 1 1 1 1 1 1 1 1 1 1 0\n",
      " 1 0 1 1 1 1 0 1 1 0 1 0 1 1 1 1 1 1 0 1 1 0 0 1 1 1 1 0 0 1 0 1 0 1 1 0 0\n",
      " 0 1 1 1 1 1 0 0 0 1 1 1 1 1 1 0 0 1 1 1 1 1 1 0 0 0 0 1 1 1 1 1 1 1 1 1 1\n",
      " 1 1 0 1 1 1 1 1 1 1 1 0 1 1 1 0 1 1 1 0 1 1 1 1 1 0 0 1 1 1 1 1 1 1 0 1 1\n",
      " 1 1 1 1 0 1 0 1 1 1 1 1 1 0 1 1 1 1 0 1 0 1 1 0 1 1 0 1 0 1 1 1 0 1 0 1 0\n",
      " 1 1 0 1 1 1 1 1 1 1 1 0 1 1 1 0 0 1 1 1 0 0 1 1 1 1 0 0 0 1 0 0 0 1 1 0 1\n",
      " 1 0 0 1 1 1 1 1 1 1 0 0 1 0 1 1 0 0 0 1 1 1 1 0 1 1 0 1 1 1 0 1 1 1 1 1 1\n",
      " 1 1 1]\n",
      "分类性能报告如下：\n",
      "              precision    recall  f1-score   support\n",
      "\n",
      "         0.0       0.56      0.51      0.53       255\n",
      "         1.0       0.77      0.80      0.79       525\n",
      "\n",
      "    accuracy                           0.71       780\n",
      "   macro avg       0.66      0.66      0.66       780\n",
      "weighted avg       0.70      0.71      0.70       780\n",
      "\n"
     ]
    }
   ],
   "source": [
    "#4、查看预测结果\n",
    "prob = model.predict(x_test,verbose=2)\n",
    "#classes = model.predict_classes(x_test,verbose=2)\n",
    "classes=np.argmax(prob,axis=1)\n",
    "print('测试样本数：',len(classes))\n",
    "print(\"分类概率:\\n\",prob)\n",
    "print(\"分类结果：\\n\",classes)\n",
    "from sklearn.metrics import classification_report\n",
    "print('分类性能报告如下：')\n",
    "print(classification_report(list(y_test),list(classes)))"
   ]
  },
  {
   "cell_type": "code",
   "execution_count": null,
   "metadata": {},
   "outputs": [],
   "source": []
  },
  {
   "cell_type": "code",
   "execution_count": 19,
   "metadata": {},
   "outputs": [],
   "source": [
    "#（3）7:3\n",
    "import pandas as pd\n",
    "filename='data\\wine.csv'\n",
    "data=pd.read_csv(filename,index_col='idx')\n",
    "data.loc[data['good_or_not']=='good','good_or_not']=1\n",
    "data.loc[data['good_or_not']=='not','good_or_not']=0\n",
    "data.drop('quality',axis=1,inplace=True)\n",
    "x = data.drop('good_or_not', axis=1).values.astype(float)\n",
    "y = data['good_or_not'].values.astype(float)\n",
    "from keras.models import Sequential\n",
    "from keras.layers import Dense, Activation\n",
    "import numpy as np\n",
    "from sklearn.model_selection import train_test_split\n",
    "# 定义模型结构\n",
    "model = Sequential()\n",
    "model.add(Dense(units=16, input_dim=11))\n",
    "model.add(Activation('relu'))\n",
    "model.add(Dense(16))\n",
    "model.add(Activation('relu'))\n",
    "model.add(Dense(3))\n",
    "model.add(Activation('softmax'))\n",
    "#定义模型损失函数和优化器，并编译\n",
    "model.compile(loss='categorical_crossentropy', optimizer='adam', metrics=[\"accuracy\"])\n",
    "\n",
    "#1、深度学习模型，输入输出都为多维张量，统一使用小写字母 x,y,划分比例7:3\n",
    "#x_train, x_test, y_train, y_test= train_test_split(x, y, train_size=0.9, test_size=0.1, random_state=0)#划分比例9:1\n",
    "#x_train, x_test, y_train, y_test= train_test_split(x, y, train_size=0.8, test_size=0.2, random_state=0)#划分比例8:2\n",
    "x_train, x_test, y_train, y_test= train_test_split(x, y, train_size=0.7, test_size=0.3, random_state=0)#划分比例7:3\n",
    "from keras.utils import np_utils\n",
    "y_train_ohe = np_utils.to_categorical(y_train, num_classes = 3)\n",
    "y_test_ohe = np_utils.to_categorical(y_test, num_classes = 3)"
   ]
  },
  {
   "cell_type": "code",
   "execution_count": 20,
   "metadata": {},
   "outputs": [
    {
     "name": "stdout",
     "output_type": "stream",
     "text": [
      "Epoch 1/20\n",
      "2728/2728 - 12s - loss: 0.9290 - accuracy: 0.6045 - val_loss: 0.8949 - val_accuracy: 0.6803 - 12s/epoch - 5ms/step\n",
      "Epoch 2/20\n",
      "2728/2728 - 10s - loss: 0.6398 - accuracy: 0.6697 - val_loss: 0.5574 - val_accuracy: 0.6991 - 10s/epoch - 4ms/step\n",
      "Epoch 3/20\n",
      "2728/2728 - 11s - loss: 0.6200 - accuracy: 0.6694 - val_loss: 0.5959 - val_accuracy: 0.6966 - 11s/epoch - 4ms/step\n",
      "Epoch 4/20\n",
      "2728/2728 - 12s - loss: 0.6125 - accuracy: 0.6591 - val_loss: 0.5790 - val_accuracy: 0.6795 - 12s/epoch - 4ms/step\n",
      "Epoch 5/20\n",
      "2728/2728 - 10s - loss: 0.5958 - accuracy: 0.6855 - val_loss: 0.6664 - val_accuracy: 0.6872 - 10s/epoch - 4ms/step\n",
      "Epoch 6/20\n",
      "2728/2728 - 12s - loss: 0.5841 - accuracy: 0.6789 - val_loss: 0.5714 - val_accuracy: 0.6880 - 12s/epoch - 4ms/step\n",
      "Epoch 7/20\n",
      "2728/2728 - 11s - loss: 0.5790 - accuracy: 0.6741 - val_loss: 0.5528 - val_accuracy: 0.7000 - 11s/epoch - 4ms/step\n",
      "Epoch 8/20\n",
      "2728/2728 - 10s - loss: 0.5704 - accuracy: 0.6848 - val_loss: 0.5522 - val_accuracy: 0.6983 - 10s/epoch - 4ms/step\n",
      "Epoch 9/20\n",
      "2728/2728 - 13s - loss: 0.5670 - accuracy: 0.6855 - val_loss: 0.5402 - val_accuracy: 0.7051 - 13s/epoch - 5ms/step\n",
      "Epoch 10/20\n",
      "2728/2728 - 11s - loss: 0.5630 - accuracy: 0.6877 - val_loss: 0.5379 - val_accuracy: 0.7009 - 11s/epoch - 4ms/step\n",
      "Epoch 11/20\n",
      "2728/2728 - 8s - loss: 0.5647 - accuracy: 0.6913 - val_loss: 0.5260 - val_accuracy: 0.7214 - 8s/epoch - 3ms/step\n",
      "Epoch 12/20\n",
      "2728/2728 - 11s - loss: 0.5573 - accuracy: 0.6913 - val_loss: 0.5622 - val_accuracy: 0.6897 - 11s/epoch - 4ms/step\n",
      "Epoch 13/20\n",
      "2728/2728 - 9s - loss: 0.5546 - accuracy: 0.6932 - val_loss: 0.5382 - val_accuracy: 0.6897 - 9s/epoch - 3ms/step\n",
      "Epoch 14/20\n",
      "2728/2728 - 11s - loss: 0.5523 - accuracy: 0.6976 - val_loss: 0.5221 - val_accuracy: 0.7214 - 11s/epoch - 4ms/step\n",
      "Epoch 15/20\n",
      "2728/2728 - 10s - loss: 0.5468 - accuracy: 0.7038 - val_loss: 0.5212 - val_accuracy: 0.7274 - 10s/epoch - 3ms/step\n",
      "Epoch 16/20\n",
      "2728/2728 - 12s - loss: 0.5418 - accuracy: 0.7064 - val_loss: 0.5190 - val_accuracy: 0.7350 - 12s/epoch - 4ms/step\n",
      "Epoch 17/20\n",
      "2728/2728 - 9s - loss: 0.5445 - accuracy: 0.7053 - val_loss: 0.5494 - val_accuracy: 0.7162 - 9s/epoch - 3ms/step\n",
      "Epoch 18/20\n",
      "2728/2728 - 9s - loss: 0.5428 - accuracy: 0.7071 - val_loss: 0.5137 - val_accuracy: 0.7496 - 9s/epoch - 3ms/step\n",
      "Epoch 19/20\n",
      "2728/2728 - 8s - loss: 0.5383 - accuracy: 0.7053 - val_loss: 0.5219 - val_accuracy: 0.7137 - 8s/epoch - 3ms/step\n",
      "Epoch 20/20\n",
      "2728/2728 - 11s - loss: 0.5342 - accuracy: 0.7078 - val_loss: 0.5491 - val_accuracy: 0.7017 - 11s/epoch - 4ms/step\n"
     ]
    },
    {
     "data": {
      "text/plain": [
       "<keras.callbacks.History at 0x249dc576f40>"
      ]
     },
     "execution_count": 20,
     "metadata": {},
     "output_type": "execute_result"
    }
   ],
   "source": [
    "#2、模型的训练及评估\n",
    "model.fit(x_train, y_train_ohe, epochs=20, batch_size=1, verbose=2, validation_data=(x_test,y_test_ohe))"
   ]
  },
  {
   "cell_type": "code",
   "execution_count": 21,
   "metadata": {},
   "outputs": [
    {
     "name": "stdout",
     "output_type": "stream",
     "text": [
      "37/37 - 0s - loss: 0.5491 - accuracy: 0.7017 - 444ms/epoch - 12ms/step\n",
      "loss = 0.5490941405296326,accuracy = 0.7017093896865845 \n"
     ]
    }
   ],
   "source": [
    "#3、评估模型\n",
    "loss, accuracy = model.evaluate(x_test, y_test_ohe,verbose=2)\n",
    "print('loss = {},accuracy = {} '.format(loss,accuracy) )"
   ]
  },
  {
   "cell_type": "code",
   "execution_count": 22,
   "metadata": {},
   "outputs": [
    {
     "name": "stdout",
     "output_type": "stream",
     "text": [
      "37/37 - 0s - 171ms/epoch - 5ms/step\n",
      "测试样本数： 1170\n",
      "分类概率:\n",
      " [[5.1072192e-01 4.8927808e-01 7.0522209e-19]\n",
      " [5.9279329e-01 4.0720668e-01 5.7798575e-26]\n",
      " [1.6268173e-01 8.3731830e-01 3.7906242e-31]\n",
      " ...\n",
      " [3.9935565e-01 6.0064435e-01 2.2825230e-22]\n",
      " [5.2808827e-01 4.7191176e-01 9.1365866e-11]\n",
      " [1.4159493e-01 8.5840505e-01 8.0374224e-19]]\n",
      "分类结果：\n",
      " [0 0 1 ... 1 0 1]\n",
      "分类性能报告如下：\n",
      "              precision    recall  f1-score   support\n",
      "\n",
      "         0.0       0.54      0.48      0.51       374\n",
      "         1.0       0.77      0.81      0.79       796\n",
      "\n",
      "    accuracy                           0.70      1170\n",
      "   macro avg       0.65      0.64      0.65      1170\n",
      "weighted avg       0.69      0.70      0.70      1170\n",
      "\n"
     ]
    }
   ],
   "source": [
    "#4、查看预测结果\n",
    "prob = model.predict(x_test,verbose=2)\n",
    "#classes = model.predict_classes(x_test,verbose=2)\n",
    "classes=np.argmax(prob,axis=1)\n",
    "print('测试样本数：',len(classes))\n",
    "print(\"分类概率:\\n\",prob)\n",
    "print(\"分类结果：\\n\",classes)\n",
    "from sklearn.metrics import classification_report\n",
    "print('分类性能报告如下：')\n",
    "print(classification_report(list(y_test),list(classes)))"
   ]
  },
  {
   "cell_type": "code",
   "execution_count": null,
   "metadata": {},
   "outputs": [],
   "source": []
  }
 ],
 "metadata": {
  "kernelspec": {
   "display_name": "Python 3 (ipykernel)",
   "language": "python",
   "name": "python3"
  },
  "language_info": {
   "codemirror_mode": {
    "name": "ipython",
    "version": 3
   },
   "file_extension": ".py",
   "mimetype": "text/x-python",
   "name": "python",
   "nbconvert_exporter": "python",
   "pygments_lexer": "ipython3",
   "version": "3.9.13"
  }
 },
 "nbformat": 4,
 "nbformat_minor": 2
}

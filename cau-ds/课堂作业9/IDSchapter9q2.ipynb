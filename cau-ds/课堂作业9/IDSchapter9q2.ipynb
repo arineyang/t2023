{
 "cells": [
  {
   "cell_type": "code",
   "execution_count": 2,
   "id": "1d806701",
   "metadata": {},
   "outputs": [],
   "source": [
    "#2. 对文件rest-api-asr_python_audio_16k.m4a进行语音识别\n",
    "\n",
    "from aip import AipSpeech #导入语音识别包\n",
    "def get_file_content(file_name):\n",
    "    with open(file_name, 'rb') as fp: # rb 二进制读取模式打开文件\n",
    "        return fp.read()\n"
   ]
  },
  {
   "cell_type": "code",
   "execution_count": 3,
   "id": "626a71f8",
   "metadata": {},
   "outputs": [
    {
     "name": "stdout",
     "output_type": "stream",
     "text": [
      "北京科技馆。\n"
     ]
    }
   ],
   "source": [
    "APP_ID = '31265751'\n",
    "API_KEY = 'QzDWX9t3elyWXPctBnykqcUK'  \n",
    "SECRET_KEY = 'u3aS7ymGTZXs94gNlf6GtFnIalAk6bCc'\n",
    "\n",
    "aipSpeech = AipSpeech(APP_ID, API_KEY, SECRET_KEY)# 初始化识别模型\n",
    "\n",
    "file_name='data/rest-api-asr_python_audio_16k.m4a' # 语音文件\n",
    "\n",
    "result = aipSpeech.asr(get_file_content(file_name),\n",
    "                       'm4a', # 文件格式，即后缀名，文件后缀 pcm/wav/amr/m4a 格式\n",
    "                       16000, # 采样率\n",
    "                       {'dev_ip': '1536'})#  1537 表示识别普通话，使用输入法模型。\n",
    "print (result['result'][0])\n"
   ]
  },
  {
   "cell_type": "code",
   "execution_count": null,
   "id": "65cd4672",
   "metadata": {},
   "outputs": [],
   "source": []
  }
 ],
 "metadata": {
  "kernelspec": {
   "display_name": "Python 3 (ipykernel)",
   "language": "python",
   "name": "python3"
  },
  "language_info": {
   "codemirror_mode": {
    "name": "ipython",
    "version": 3
   },
   "file_extension": ".py",
   "mimetype": "text/x-python",
   "name": "python",
   "nbconvert_exporter": "python",
   "pygments_lexer": "ipython3",
   "version": "3.9.13"
  }
 },
 "nbformat": 4,
 "nbformat_minor": 5
}

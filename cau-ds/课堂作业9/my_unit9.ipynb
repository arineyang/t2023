{
 "cells": [
  {
   "cell_type": "markdown",
   "metadata": {},
   "source": [
    "<img src='img9/1.jpg' width='40%' />"
   ]
  },
  {
   "cell_type": "markdown",
   "metadata": {},
   "source": [
    "# 9.1  时序数据概述\n",
    "## 9.1.1  时序数据特性\n",
    "\n",
    "1) 趋势性\n",
    "\n",
    "    •\t时间序列在长时间内所呈现出来的行为，指受某种根本性因素影响而产生的变动或缓慢的运动\n",
    "\n",
    "2) 循环性\n",
    "\n",
    "    •\t指时间序列的变动有规律地徘徊于趋势线上下并反复出现\n",
    "\n",
    "3) 季节性\n",
    "\n",
    "    •\t一年内随季节变换而发生的有规律的周期性变化，比如流感季，但更小单位的周期变动也被看成季节成分，如日交通流量反映了一天内“季节”变化情况\n",
    "\n",
    "4) 波动性\n",
    "\n",
    "    •\t围绕前3个要素的随机性波动，是一种无规律可循的变动\n",
    "\n",
    "\n",
    "## 9.1.2  时序数据特征的提取\n",
    "（1）基于统计方法的特征提取\n",
    "\n",
    "    • 提取数据波形的均值、方差、极值、波段、功率谱、过零率（过零率（Zero Crossing Rate，ZCR）是指在每帧中，语音信号通过零点（从正变为负或从负变为正）的次数）等统计特征，代替原时序数据作为特征向量\n",
    "    \n",
    "（2）基于模型的特征提取\n",
    "\n",
    "    • 用模型去刻画时间序列数据，然后提取模型的系数作为特征向量\n",
    "    \n",
    "（3）基于变换的特征提取\n",
    "\n",
    "    • 通过变换使数据的特性突显出来，以便提取\n",
    "    • 主要有时频变换和线性变换，如快速傅里叶变换、小波变换和主成分分析等\n",
    "    \n",
    "（4）基于分形理论（Fractal Theory）的特征提取\n",
    "\n",
    "    • 分形是指具有无限精细、非常不规则、无穷自相似的结构\n",
    "    • 在大自然中，海岸线、雪花、云雾这些不规则形体都属于分形，即部分与整体有自相似性，可提取分维数作为 特征参数\n",
    "\n",
    "例8-1：绘制股票收盘价的时序图，并提取该时序数据的常用特征值。\n",
    "<img src='img9/2.jpg' width='80%' />"
   ]
  },
  {
   "cell_type": "code",
   "execution_count": 2,
   "metadata": {},
   "outputs": [
    {
     "name": "stdout",
     "output_type": "stream",
     "text": [
      "            close\n",
      "count  249.000000\n",
      "mean   150.827892\n",
      "std     14.347368\n",
      "min    116.610000\n",
      "25%    142.270000\n",
      "50%    152.760000\n",
      "75%    159.860000\n",
      "max    176.420000\n",
      "            close\n",
      "date             \n",
      "2017/1/5   116.61\n",
      "2017/1/6   117.91\n",
      "2017/1/9   118.99\n",
      "2017/1/10  119.11\n",
      "2017/1/11  119.75\n"
     ]
    }
   ],
   "source": [
    "import pandas as pd\n",
    "# 设置usecols，从文件中只读取指定列\n",
    "data = pd.read_csv('data/stockPrice.csv', usecols=[0,1], index_col=0)\n",
    "print(data.describe())\n",
    "print(data[:5])"
   ]
  },
  {
   "cell_type": "code",
   "execution_count": 4,
   "metadata": {},
   "outputs": [
    {
     "data": {
      "image/png": "[encoded data removed]",
      "text/plain": [
       "<Figure size 432x288 with 1 Axes>"
      ]
     },
     "metadata": {
      "needs_background": "light"
     },
     "output_type": "display_data"
    }
   ],
   "source": [
    "import matplotlib.pyplot as plt\n",
    "# 绘制时序图，并添加图元\n",
    "plt.rcParams['font.sans-serif'] = ['SimHei'] # 不加这一句中文标题显示异常\n",
    "data.plot(title='2017年某公司股票价格时序图', grid=True, color='#FFA500') \n",
    "plt.xlabel('时间（天）')\n",
    "plt.ylabel('股价（美元）')\n",
    "plt.show()"
   ]
  },
  {
   "cell_type": "markdown",
   "metadata": {},
   "source": [
    "# 9.2  时序数据分析方法\n",
    "## 9.2.1  时序数据分析过程\n",
    "### 9.2.1.1 时序分析模型的类别\n",
    "时序分析模型的类别\n",
    "<img src='img9/3.jpg' width='80%' />\n",
    "\n",
    "### 9.2.1.2 线性模型\n",
    "时序数据分析过程\n",
    "<img src='img9/4.jpg' width='60%' />\n",
    "\n",
    "### 9.2.1.3 神经网络模型\n",
    "RNN、LSTM、GRU等\n",
    "<img src='img9/5.jpg' width='60%' />\n",
    "\n",
    "\n",
    "## 9.2.2  温度预测实例"
   ]
  },
  {
   "cell_type": "markdown",
   "metadata": {},
   "source": [
    "基于前五天的气温预测未来24小时后的温度。文件中每小时有6条数据集；\n",
    "\n",
    "训练集：前五天的气温 5 * 24 * 6 = 720 条数据\n",
    "\n",
    "测试集：第六天后的气温 6 * 24 + 1 = 145 条数据\n",
    "\n",
    "即利用前720条数据预测其后面的第145条数据\n",
    "<img src='img9/8.jpg' width='80%' />"
   ]
  },
  {
   "cell_type": "markdown",
   "metadata": {},
   "source": [
    "1. 读取文件"
   ]
  },
  {
   "cell_type": "code",
   "execution_count": 1,
   "metadata": {},
   "outputs": [
    {
     "data": {
      "text/html": [
       "<div>\n",
       "<style scoped>\n",
       "    .dataframe tbody tr th:only-of-type {\n",
       "        vertical-align: middle;\n",
       "    }\n",
       "\n",
       "    .dataframe tbody tr th {\n",
       "        vertical-align: top;\n",
       "    }\n",
       "\n",
       "    .dataframe thead th {\n",
       "        text-align: right;\n",
       "    }\n",
       "</style>\n",
       "<table border=\"1\" class=\"dataframe\">\n",
       "  <thead>\n",
       "    <tr style=\"text-align: right;\">\n",
       "      <th></th>\n",
       "      <th>Date Time</th>\n",
       "      <th>p (mbar)</th>\n",
       "      <th>T (degC)</th>\n",
       "      <th>Tpot (K)</th>\n",
       "      <th>Tdew (degC)</th>\n",
       "      <th>rh (%)</th>\n",
       "      <th>VPmax (mbar)</th>\n",
       "      <th>VPact (mbar)</th>\n",
       "      <th>VPdef (mbar)</th>\n",
       "      <th>sh (g/kg)</th>\n",
       "      <th>H2OC (mmol/mol)</th>\n",
       "      <th>rho (g/m**3)</th>\n",
       "      <th>wv (m/s)</th>\n",
       "      <th>max. wv (m/s)</th>\n",
       "      <th>wd (deg)</th>\n",
       "    </tr>\n",
       "  </thead>\n",
       "  <tbody>\n",
       "    <tr>\n",
       "      <th>0</th>\n",
       "      <td>01.01.2009 00:10:00</td>\n",
       "      <td>996.52</td>\n",
       "      <td>-8.02</td>\n",
       "      <td>265.40</td>\n",
       "      <td>-8.90</td>\n",
       "      <td>93.3</td>\n",
       "      <td>3.33</td>\n",
       "      <td>3.11</td>\n",
       "      <td>0.22</td>\n",
       "      <td>1.94</td>\n",
       "      <td>3.12</td>\n",
       "      <td>1307.75</td>\n",
       "      <td>1.03</td>\n",
       "      <td>1.75</td>\n",
       "      <td>152.3</td>\n",
       "    </tr>\n",
       "    <tr>\n",
       "      <th>1</th>\n",
       "      <td>01.01.2009 00:20:00</td>\n",
       "      <td>996.57</td>\n",
       "      <td>-8.41</td>\n",
       "      <td>265.01</td>\n",
       "      <td>-9.28</td>\n",
       "      <td>93.4</td>\n",
       "      <td>3.23</td>\n",
       "      <td>3.02</td>\n",
       "      <td>0.21</td>\n",
       "      <td>1.89</td>\n",
       "      <td>3.03</td>\n",
       "      <td>1309.80</td>\n",
       "      <td>0.72</td>\n",
       "      <td>1.50</td>\n",
       "      <td>136.1</td>\n",
       "    </tr>\n",
       "    <tr>\n",
       "      <th>2</th>\n",
       "      <td>01.01.2009 00:30:00</td>\n",
       "      <td>996.53</td>\n",
       "      <td>-8.51</td>\n",
       "      <td>264.91</td>\n",
       "      <td>-9.31</td>\n",
       "      <td>93.9</td>\n",
       "      <td>3.21</td>\n",
       "      <td>3.01</td>\n",
       "      <td>0.20</td>\n",
       "      <td>1.88</td>\n",
       "      <td>3.02</td>\n",
       "      <td>1310.24</td>\n",
       "      <td>0.19</td>\n",
       "      <td>0.63</td>\n",
       "      <td>171.6</td>\n",
       "    </tr>\n",
       "    <tr>\n",
       "      <th>3</th>\n",
       "      <td>01.01.2009 00:40:00</td>\n",
       "      <td>996.51</td>\n",
       "      <td>-8.31</td>\n",
       "      <td>265.12</td>\n",
       "      <td>-9.07</td>\n",
       "      <td>94.2</td>\n",
       "      <td>3.26</td>\n",
       "      <td>3.07</td>\n",
       "      <td>0.19</td>\n",
       "      <td>1.92</td>\n",
       "      <td>3.08</td>\n",
       "      <td>1309.19</td>\n",
       "      <td>0.34</td>\n",
       "      <td>0.50</td>\n",
       "      <td>198.0</td>\n",
       "    </tr>\n",
       "    <tr>\n",
       "      <th>4</th>\n",
       "      <td>01.01.2009 00:50:00</td>\n",
       "      <td>996.51</td>\n",
       "      <td>-8.27</td>\n",
       "      <td>265.15</td>\n",
       "      <td>-9.04</td>\n",
       "      <td>94.1</td>\n",
       "      <td>3.27</td>\n",
       "      <td>3.08</td>\n",
       "      <td>0.19</td>\n",
       "      <td>1.92</td>\n",
       "      <td>3.09</td>\n",
       "      <td>1309.00</td>\n",
       "      <td>0.32</td>\n",
       "      <td>0.63</td>\n",
       "      <td>214.3</td>\n",
       "    </tr>\n",
       "  </tbody>\n",
       "</table>\n",
       "</div>"
      ],
      "text/plain": [
       "             Date Time  p (mbar)  T (degC)  Tpot (K)  Tdew (degC)  rh (%)  \\\n",
       "0  01.01.2009 00:10:00    996.52     -8.02    265.40        -8.90    93.3   \n",
       "1  01.01.2009 00:20:00    996.57     -8.41    265.01        -9.28    93.4   \n",
       "2  01.01.2009 00:30:00    996.53     -8.51    264.91        -9.31    93.9   \n",
       "3  01.01.2009 00:40:00    996.51     -8.31    265.12        -9.07    94.2   \n",
       "4  01.01.2009 00:50:00    996.51     -8.27    265.15        -9.04    94.1   \n",
       "\n",
       "   VPmax (mbar)  VPact (mbar)  VPdef (mbar)  sh (g/kg)  H2OC (mmol/mol)  \\\n",
       "0          3.33          3.11          0.22       1.94             3.12   \n",
       "1          3.23          3.02          0.21       1.89             3.03   \n",
       "2          3.21          3.01          0.20       1.88             3.02   \n",
       "3          3.26          3.07          0.19       1.92             3.08   \n",
       "4          3.27          3.08          0.19       1.92             3.09   \n",
       "\n",
       "   rho (g/m**3)  wv (m/s)  max. wv (m/s)  wd (deg)  \n",
       "0       1307.75      1.03           1.75     152.3  \n",
       "1       1309.80      0.72           1.50     136.1  \n",
       "2       1310.24      0.19           0.63     171.6  \n",
       "3       1309.19      0.34           0.50     198.0  \n",
       "4       1309.00      0.32           0.63     214.3  "
      ]
     },
     "execution_count": 1,
     "metadata": {},
     "output_type": "execute_result"
    }
   ],
   "source": [
    "import pandas as pd\n",
    "import numpy as np\n",
    "\n",
    "filename = 'data/jena_climate_2009_2016.csv'\n",
    "data = pd.read_csv(filename)\n",
    "data.head()      # 取前五条数据\n",
    "# data.sample(5) # 随机取五条数据\n",
    "# data.tail()    # 取后五条数据"
   ]
  },
  {
   "cell_type": "markdown",
   "metadata": {},
   "source": [
    "2. 用前十天的温度绘制时序图"
   ]
  },
  {
   "cell_type": "code",
   "execution_count": 2,
   "metadata": {},
   "outputs": [
    {
     "data": {
      "image/png": "[encoded data removed]",
      "text/plain": [
       "<Figure size 432x288 with 1 Axes>"
      ]
     },
     "metadata": {
      "needs_background": "light"
     },
     "output_type": "display_data"
    }
   ],
   "source": [
    "from matplotlib import pyplot as plt\n",
    "\n",
    "plt.rcParams['axes.unicode_minus']=False # 设置负号正常显示，不然会乱码\n",
    "\n",
    "temp = data[\"T (degC)\"]\n",
    "temp_10days = temp[:1440] # 前10天共有1440个数据点\n",
    "temp_10days.plot(color='#FFA509')\n",
    "plt.show()"
   ]
  },
  {
   "cell_type": "markdown",
   "metadata": {},
   "source": [
    "3. 数据预处理"
   ]
  },
  {
   "cell_type": "code",
   "execution_count": 3,
   "metadata": {},
   "outputs": [
    {
     "data": {
      "text/plain": [
       "(420551, 14)"
      ]
     },
     "execution_count": 3,
     "metadata": {},
     "output_type": "execute_result"
    }
   ],
   "source": [
    "# 删除日期列\n",
    "data_process = data.drop('Date Time',axis = 1)\n",
    "\n",
    "# 数据标准化\n",
    "from sklearn import preprocessing\n",
    "data_process = preprocessing.scale(data_process)\n",
    "# data_process.dtype\n",
    "data_process.shape"
   ]
  },
  {
   "cell_type": "markdown",
   "metadata": {},
   "source": [
    "4. 随机从序列中选择5000个子序列，每个子序列长度为721，构造样本数据集"
   ]
  },
  {
   "cell_type": "code",
   "execution_count": 4,
   "metadata": {},
   "outputs": [
    {
     "name": "stdout",
     "output_type": "stream",
     "text": [
      "(5000, 720, 14) (5000,)\n"
     ]
    }
   ],
   "source": [
    "import numpy as np\n",
    "samples = 5000 # 自己设定的\n",
    "lookback = 5 * 24 * 6 # 720个数据点\n",
    "\n",
    "# X为3D数组，形状（samples, input_length, input_dim）\n",
    "# samples表示样本数，input_length = lookback, input_dim = 14\n",
    "# y为1D数组，形状（samples），温度值\n",
    "# 初始化X和y，X (5000, 720, 14)\n",
    "X = np.zeros((samples, lookback, data_process.shape[-1]))\n",
    "y = np.zeros((samples,))\n",
    "print(X.shape, y.shape)\n",
    "\n",
    "# 随机选取5000个时刻\n",
    "delay = 24 * 6 # 24小时后，144个时刻\n",
    "min_index = lookback # 720\n",
    "max_index = len(data_process)-delay-1 # 420551-144-1\n",
    "\n",
    "# 生成5000个样本起始时刻值\n",
    "rows = np.random.randint(min_index, max_index, size=samples)\n",
    "\n",
    "# 转换下数据类型不然下面取iloc会报错\n",
    "data_process = pd.DataFrame(data_process)\n",
    "\n",
    "# 提取5000个时刻对应的子序列数据，生成X和y\n",
    "for j, row in enumerate(rows):\n",
    "    indices = np.arange(row - lookback, row)\n",
    "    X[j] = data_process.iloc[indices,:]\n",
    "    y[j] = data_process.loc[row + delay,1] \n",
    "    # 等价于课本上的：y[j] = data_process.iloc[row + delay,:][1] \n"
   ]
  },
  {
   "cell_type": "markdown",
   "metadata": {},
   "source": [
    "<img src='img9/8.jpg' width='80%' />"
   ]
  },
  {
   "cell_type": "markdown",
   "metadata": {},
   "source": [
    "（插入）关于enumerate的用法：\n",
    "enumerate() 函数用于将一个可遍历的数据对象(如列表、元组或字符串)组合为一个索引序列，同时列出数据和数据下标\n"
   ]
  },
  {
   "cell_type": "code",
   "execution_count": 13,
   "metadata": {},
   "outputs": [
    {
     "name": "stdout",
     "output_type": "stream",
     "text": [
      "不使用enumerate: \n",
      "spring\n",
      "summer\n",
      "autumn\n",
      "winter\n",
      "_ __ __ _ _ _ _ _ _ _ _ _ _  _ _ _ _ _ \n",
      "\n",
      "使用enumerate: \n",
      "(0, 'spring')\n",
      "(1, 'summer')\n",
      "(2, 'autumn')\n",
      "(3, 'winter')\n"
     ]
    }
   ],
   "source": [
    "d = ['spring', 'summer', 'autumn', 'winter']\n",
    "print('不使用enumerate: ')\n",
    "for i in d:\n",
    "    print(i)\n",
    "    \n",
    "print('_ __ __ _ _ _ _ _ _ _ _ _ _  _ _ _ _ _ ')\n",
    "\n",
    "print('\\n使用enumerate: ')\n",
    "for i in enumerate(d):\n",
    "    print(i)"
   ]
  },
  {
   "cell_type": "markdown",
   "metadata": {},
   "source": [
    "5. 构建基于LSTM的神经网络模型，并编译"
   ]
  },
  {
   "cell_type": "code",
   "execution_count": 5,
   "metadata": {
    "scrolled": true
   },
   "outputs": [],
   "source": [
    "from keras.models import Sequential\n",
    "from keras.layers import Dense, LSTM\n",
    "model = Sequential()\n",
    "\n",
    "# LSTM输出维度为32，也就是将输入14维的特征转换为32维的特征。\n",
    "# 模型只使用一层LSTM，只需要返回最后结点的输出\n",
    "# X.shape[-1]是最后轴的维度大小14\n",
    "model.add(LSTM(32, input_shape=(None, X.shape[-1])))\n",
    "# model.add(LSTM(32))\n",
    "model.add(Dense(1))\n",
    "\n",
    "from tensorflow.keras.optimizers import RMSprop\n",
    "# 损失函数为平均绝对误差（MAE）\n",
    "model.compile(optimizer=RMSprop(), loss='mae', metrics='accuracy')"
   ]
  },
  {
   "cell_type": "code",
   "execution_count": 6,
   "metadata": {},
   "outputs": [
    {
     "name": "stdout",
     "output_type": "stream",
     "text": [
      "Model: \"sequential\"\n",
      "_________________________________________________________________\n",
      "Layer (type)                 Output Shape              Param #   \n",
      "=================================================================\n",
      "lstm (LSTM)                  (None, 32)                6016      \n",
      "_________________________________________________________________\n",
      "dense (Dense)                (None, 1)                 33        \n",
      "=================================================================\n",
      "Total params: 6,049\n",
      "Trainable params: 6,049\n",
      "Non-trainable params: 0\n",
      "_________________________________________________________________\n"
     ]
    }
   ],
   "source": [
    "model.summary()"
   ]
  },
  {
   "cell_type": "markdown",
   "metadata": {},
   "source": [
    "6. 训练神经网络"
   ]
  },
  {
   "cell_type": "code",
   "execution_count": 7,
   "metadata": {},
   "outputs": [
    {
     "name": "stdout",
     "output_type": "stream",
     "text": [
      "Epoch 1/10\n",
      "32/32 [==============================] - 15s 404ms/step - loss: 0.3967 - accuracy: 0.0000e+00 - val_loss: 0.3080 - val_accuracy: 0.0000e+00\n",
      "Epoch 2/10\n",
      "32/32 [==============================] - 12s 367ms/step - loss: 0.3069 - accuracy: 0.0000e+00 - val_loss: 0.3002 - val_accuracy: 0.0000e+00\n",
      "Epoch 3/10\n",
      "32/32 [==============================] - 12s 388ms/step - loss: 0.2981 - accuracy: 0.0000e+00 - val_loss: 0.2932 - val_accuracy: 0.0000e+00\n",
      "Epoch 4/10\n",
      "32/32 [==============================] - 12s 363ms/step - loss: 0.2959 - accuracy: 0.0000e+00 - val_loss: 0.2903 - val_accuracy: 0.0000e+00\n",
      "Epoch 5/10\n",
      "32/32 [==============================] - 11s 356ms/step - loss: 0.2945 - accuracy: 0.0000e+00 - val_loss: 0.2863 - val_accuracy: 0.0000e+00\n",
      "Epoch 6/10\n",
      "32/32 [==============================] - 16s 513ms/step - loss: 0.2918 - accuracy: 0.0000e+00 - val_loss: 0.2865 - val_accuracy: 0.0000e+00\n",
      "Epoch 7/10\n",
      "32/32 [==============================] - 13s 400ms/step - loss: 0.2910 - accuracy: 0.0000e+00 - val_loss: 0.2844 - val_accuracy: 0.0000e+00\n",
      "Epoch 8/10\n",
      "32/32 [==============================] - 12s 390ms/step - loss: 0.2890 - accuracy: 0.0000e+00 - val_loss: 0.2867 - val_accuracy: 0.0000e+00\n",
      "Epoch 9/10\n",
      "32/32 [==============================] - 11s 356ms/step - loss: 0.2890 - accuracy: 0.0000e+00 - val_loss: 0.2852 - val_accuracy: 0.0000e+00\n",
      "Epoch 10/10\n",
      "32/32 [==============================] - 11s 338ms/step - loss: 0.2880 - accuracy: 0.0000e+00 - val_loss: 0.2877 - val_accuracy: 0.0000e+00\n"
     ]
    }
   ],
   "source": [
    "history = model.fit(X, y, \n",
    "          epochs=10, \n",
    "          batch_size=128, \n",
    "          verbose=1, # verbose: 0, 1 或 2。日志显示模式。 0 = 安静模式, 1 = 进度条, 2 = 每轮一行。\n",
    "          validation_split=0.2)"
   ]
  },
  {
   "cell_type": "code",
   "execution_count": 8,
   "metadata": {},
   "outputs": [
    {
     "data": {
      "image/png": "[encoded data removed]",
      "text/plain": [
       "<Figure size 432x288 with 1 Axes>"
      ]
     },
     "metadata": {
      "needs_background": "light"
     },
     "output_type": "display_data"
    }
   ],
   "source": [
    "model.save('tempDu.h5')\n",
    "\n",
    "acc = history.history['accuracy']\n",
    "loss = history.history['loss']\n",
    "val_loss = history.history['val_loss']\n",
    "val_acc = history.history['val_accuracy']\n",
    "\n",
    "epochs = range(len(acc))\n",
    "plt.title('Accuracy and Loss')\n",
    "plt.plot(epochs, acc, 'red', label='Training accuracy')\n",
    "plt.plot(epochs, loss, 'blue', label='Training loss')\n",
    "plt.plot(epochs, val_loss, 'yellow', label='Validation loss')\n",
    "plt.plot(epochs, val_acc, 'green', label='Validation accuracy')\n",
    "\n",
    "plt.legend()\n",
    "plt.show()\n"
   ]
  },
  {
   "cell_type": "markdown",
   "metadata": {},
   "source": [
    "# 9.3  语音识别技术\n",
    "\n",
    "## 9.3.1  语音识别技术简介\n",
    "\n",
    "1. 语音数据采样\n",
    "\n",
    "    按照一定时间间隔△t在模拟信号x(t)上逐点采取其瞬时值；\n",
    "    采样频率：指每秒钟取得声音样本的次数；\n",
    "    一般而言，采样频率越高，采样点数就越密，所得离散信号就越逼近于原信号；\n",
    "    常用的采样率是8k(8000），16k，44.1k，48k；\n",
    "    \n",
    "2. 语音识别技术基本框架\n",
    "\n",
    "<img src='img9/6.jpg' width='60%' />\n"
   ]
  },
  {
   "cell_type": "markdown",
   "metadata": {},
   "source": [
    "## 9.3.2  语音识别中的时序数据处理\n",
    "\n",
    "预处理 ：降噪和语音断点检测\n",
    "\n",
    "1. 分帧\n",
    "\n",
    "    把将语音切割成按时间顺序排列、等长的语音段，每一段称为一帧\n",
    "    通常相邻的语音帧之间是有交叠的\n",
    "    \n",
    "\n",
    "2. 特征提取\n",
    "\n",
    "    由于波形在时域上的描述能力非常有限，需要对这些语音帧进行变换，以提取较容易识别的声学特征\n",
    "    最常用的特征是梅尔倒谱系数MFCC（Mel-Frequencey Cepstral Coefficient）\n",
    "    \n",
    "    \n",
    "3. 语音识别\n",
    "\n",
    "    • 采用音素作为识别单元\n",
    "\n",
    "    • 音素是构成单词发音的基本单位\n",
    "    \n",
    "    • 语言模式识别的过程就是把语帧识别成对应的状态，把状态映射到音素，把音素映射到单调。其中最困难、最关键的问题是如何识别每一帧所对应的状态。应用声学模型，HMM，统计模型可计算每一帧属于某一状态的概率。\n",
    "\n",
    "\n",
    "## 9.3.3  语音识别的实例\n",
    "\n",
    "百度语音开放平台为用户提供免费的语音识别和语音合成服务的工具包：baidu-aip\n",
    "\n",
    "首先注册百度账号，然后安装\n",
    "\n",
    "然后调用\n",
    "\n",
    "<img src='img9/7.jpg' width='80%' />\n"
   ]
  },
  {
   "cell_type": "markdown",
   "metadata": {},
   "source": [
    "应用链接：https://ai.baidu.com/tech/speech\n",
    "\n",
    "\n",
    "关于下文的文件读取模式链接：https://blog.csdn.net/ztf312/article/details/47259805"
   ]
  },
  {
   "cell_type": "code",
   "execution_count": 20,
   "metadata": {},
   "outputs": [],
   "source": [
    "from aip import AipSpeech #导入语音识别包\n",
    "def get_file_content(file_name):\n",
    "    with open(file_name, 'rb') as fp: # rb 二进制读取模式打开文件\n",
    "        return fp.read()\n"
   ]
  },
  {
   "cell_type": "code",
   "execution_count": 22,
   "metadata": {},
   "outputs": [
    {
     "name": "stdout",
     "output_type": "stream",
     "text": [
      "数据智能分析技术。\n"
     ]
    }
   ],
   "source": [
    "APP_ID = '25751645'\n",
    "API_KEY = 'OLWQqY1OsYD8Plh1rDXp2Fh5'  \n",
    "SECRET_KEY = 'ZQPC8mrS65GKWbLBAkgF4dEGMgsr5hQ2'\n",
    "\n",
    "aipSpeech = AipSpeech(APP_ID, API_KEY, SECRET_KEY)# 初始化识别模型\n",
    "\n",
    "file_name='data/voice.wav' # 语音文件\n",
    "\n",
    "result = aipSpeech.asr(get_file_content(file_name),\n",
    "                       'wav', # 文件格式，即后缀名，文件后缀 pcm/wav/amr/m4a 格式\n",
    "                       16000, # 采样率\n",
    "                       {'dev_ip': '1536'})#  1537 表示识别普通话，使用输入法模型。\n",
    "print (result['result'][0])\n"
   ]
  },
  {
   "cell_type": "code",
   "execution_count": null,
   "metadata": {},
   "outputs": [],
   "source": []
  }
 ],
 "metadata": {
  "kernelspec": {
   "display_name": "Python 3",
   "language": "python",
   "name": "python3"
  },
  "language_info": {
   "codemirror_mode": {
    "name": "ipython",
    "version": 3
   },
   "file_extension": ".py",
   "mimetype": "text/x-python",
   "name": "python",
   "nbconvert_exporter": "python",
   "pygments_lexer": "ipython3",
   "version": "3.8.3"
  }
 },
 "nbformat": 4,
 "nbformat_minor": 5
}

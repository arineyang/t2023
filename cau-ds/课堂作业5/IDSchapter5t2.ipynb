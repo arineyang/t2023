{
 "cells": [
  {
   "cell_type": "code",
   "execution_count": 1,
   "metadata": {},
   "outputs": [
    {
     "data": {
      "text/html": [
       "<div>\n",
       "<style scoped>\n",
       "    .dataframe tbody tr th:only-of-type {\n",
       "        vertical-align: middle;\n",
       "    }\n",
       "\n",
       "    .dataframe tbody tr th {\n",
       "        vertical-align: top;\n",
       "    }\n",
       "\n",
       "    .dataframe thead th {\n",
       "        text-align: right;\n",
       "    }\n",
       "</style>\n",
       "<table border=\"1\" class=\"dataframe\">\n",
       "  <thead>\n",
       "    <tr style=\"text-align: right;\">\n",
       "      <th></th>\n",
       "      <th>good_or_not</th>\n",
       "      <th>quality</th>\n",
       "      <th>alcohol</th>\n",
       "      <th>sulphates</th>\n",
       "      <th>pH</th>\n",
       "      <th>density</th>\n",
       "      <th>total sulfur dioxide</th>\n",
       "      <th>free sulfur dioxide</th>\n",
       "      <th>chlorides</th>\n",
       "      <th>residual sugar</th>\n",
       "      <th>citric acid</th>\n",
       "      <th>volatile acidity</th>\n",
       "      <th>fixed acidity</th>\n",
       "    </tr>\n",
       "    <tr>\n",
       "      <th>idx</th>\n",
       "      <th></th>\n",
       "      <th></th>\n",
       "      <th></th>\n",
       "      <th></th>\n",
       "      <th></th>\n",
       "      <th></th>\n",
       "      <th></th>\n",
       "      <th></th>\n",
       "      <th></th>\n",
       "      <th></th>\n",
       "      <th></th>\n",
       "      <th></th>\n",
       "      <th></th>\n",
       "    </tr>\n",
       "  </thead>\n",
       "  <tbody>\n",
       "    <tr>\n",
       "      <th>idx_10000</th>\n",
       "      <td>good</td>\n",
       "      <td>6</td>\n",
       "      <td>8.8</td>\n",
       "      <td>0.45</td>\n",
       "      <td>3.00</td>\n",
       "      <td>1.0010</td>\n",
       "      <td>170.0</td>\n",
       "      <td>45.0</td>\n",
       "      <td>0.045</td>\n",
       "      <td>20.7</td>\n",
       "      <td>0.36</td>\n",
       "      <td>0.27</td>\n",
       "      <td>7.0</td>\n",
       "    </tr>\n",
       "    <tr>\n",
       "      <th>idx_10001</th>\n",
       "      <td>good</td>\n",
       "      <td>6</td>\n",
       "      <td>9.5</td>\n",
       "      <td>0.49</td>\n",
       "      <td>3.30</td>\n",
       "      <td>0.9940</td>\n",
       "      <td>132.0</td>\n",
       "      <td>14.0</td>\n",
       "      <td>0.049</td>\n",
       "      <td>1.6</td>\n",
       "      <td>0.34</td>\n",
       "      <td>0.30</td>\n",
       "      <td>6.3</td>\n",
       "    </tr>\n",
       "    <tr>\n",
       "      <th>idx_10002</th>\n",
       "      <td>good</td>\n",
       "      <td>6</td>\n",
       "      <td>10.1</td>\n",
       "      <td>0.44</td>\n",
       "      <td>3.26</td>\n",
       "      <td>0.9951</td>\n",
       "      <td>97.0</td>\n",
       "      <td>30.0</td>\n",
       "      <td>0.050</td>\n",
       "      <td>6.9</td>\n",
       "      <td>0.40</td>\n",
       "      <td>0.28</td>\n",
       "      <td>8.1</td>\n",
       "    </tr>\n",
       "    <tr>\n",
       "      <th>idx_10003</th>\n",
       "      <td>good</td>\n",
       "      <td>6</td>\n",
       "      <td>9.9</td>\n",
       "      <td>0.40</td>\n",
       "      <td>3.19</td>\n",
       "      <td>0.9956</td>\n",
       "      <td>186.0</td>\n",
       "      <td>47.0</td>\n",
       "      <td>0.058</td>\n",
       "      <td>8.5</td>\n",
       "      <td>0.32</td>\n",
       "      <td>0.23</td>\n",
       "      <td>7.2</td>\n",
       "    </tr>\n",
       "    <tr>\n",
       "      <th>idx_10005</th>\n",
       "      <td>good</td>\n",
       "      <td>6</td>\n",
       "      <td>10.1</td>\n",
       "      <td>0.44</td>\n",
       "      <td>3.26</td>\n",
       "      <td>0.9951</td>\n",
       "      <td>97.0</td>\n",
       "      <td>30.0</td>\n",
       "      <td>0.050</td>\n",
       "      <td>6.9</td>\n",
       "      <td>0.40</td>\n",
       "      <td>0.28</td>\n",
       "      <td>8.1</td>\n",
       "    </tr>\n",
       "  </tbody>\n",
       "</table>\n",
       "</div>"
      ],
      "text/plain": [
       "          good_or_not  quality  alcohol  sulphates    pH  density  \\\n",
       "idx                                                                 \n",
       "idx_10000        good        6      8.8       0.45  3.00   1.0010   \n",
       "idx_10001        good        6      9.5       0.49  3.30   0.9940   \n",
       "idx_10002        good        6     10.1       0.44  3.26   0.9951   \n",
       "idx_10003        good        6      9.9       0.40  3.19   0.9956   \n",
       "idx_10005        good        6     10.1       0.44  3.26   0.9951   \n",
       "\n",
       "           total sulfur dioxide  free sulfur dioxide  chlorides  \\\n",
       "idx                                                               \n",
       "idx_10000                 170.0                 45.0      0.045   \n",
       "idx_10001                 132.0                 14.0      0.049   \n",
       "idx_10002                  97.0                 30.0      0.050   \n",
       "idx_10003                 186.0                 47.0      0.058   \n",
       "idx_10005                  97.0                 30.0      0.050   \n",
       "\n",
       "           residual sugar  citric acid  volatile acidity  fixed acidity  \n",
       "idx                                                                      \n",
       "idx_10000            20.7         0.36              0.27            7.0  \n",
       "idx_10001             1.6         0.34              0.30            6.3  \n",
       "idx_10002             6.9         0.40              0.28            8.1  \n",
       "idx_10003             8.5         0.32              0.23            7.2  \n",
       "idx_10005             6.9         0.40              0.28            8.1  "
      ]
     },
     "execution_count": 1,
     "metadata": {},
     "output_type": "execute_result"
    }
   ],
   "source": [
    "import numpy as np\n",
    "import pandas as pd\n",
    "\n",
    "import warnings\n",
    "warnings.filterwarnings('ignore')\n",
    "\n",
    "filename=\"D:\\mine_coding\\CAU_IDS\\data5\\wine.csv\"\n",
    "data=pd.read_csv(filename,index_col='idx') #data #index_col=0\n",
    "data[:5]"
   ]
  },
  {
   "cell_type": "code",
   "execution_count": 2,
   "metadata": {},
   "outputs": [],
   "source": [
    "data.drop('good_or_not',axis=1,inplace=True)\n",
    "x = data.drop('quality', axis=1).values.astype(float)\n",
    "y = data['quality'].values.astype(float)"
   ]
  },
  {
   "cell_type": "code",
   "execution_count": 3,
   "metadata": {},
   "outputs": [
    {
     "name": "stdout",
     "output_type": "stream",
     "text": [
      "8 0.6017094017094017\n"
     ]
    }
   ],
   "source": [
    "from sklearn import model_selection\n",
    "x_train, x_test, y_train, y_test = model_selection.train_test_split(x,y, test_size=0.3, random_state=1)\n",
    "\n",
    "from sklearn.ensemble import RandomForestClassifier\n",
    "#固定决策树个数，搜索最大深度max_depth在给定范围内的最优取值\n",
    "#从1到10中探索最优深度\n",
    "d_score = []\n",
    "for i in range(1,10):\n",
    "    RF = RandomForestClassifier(n_estimators=15, criterion='entropy', max_depth=i)\n",
    "    RF.fit(x_train, y_train)\n",
    "    d_score.append(RF.score(x_test, y_test))\n",
    "    \n",
    "depth = d_score.index(max(d_score)) #列表求最大值的索引\n",
    "print(depth,d_score[depth])\n"
   ]
  },
  {
   "cell_type": "code",
   "execution_count": 4,
   "metadata": {},
   "outputs": [
    {
     "name": "stdout",
     "output_type": "stream",
     "text": [
      "11 0.5888888888888889\n"
     ]
    }
   ],
   "source": [
    "# 按最优深度，搜索最优决策树个树n_estimators\n",
    "# 从1到21中探索最优决策树的数目\n",
    "e_score = []\n",
    "for i in range(1,21):\n",
    "    RF = RandomForestClassifier(n_estimators=i, criterion='entropy', max_depth=depth)\n",
    "    RF.fit(x_train, y_train)\n",
    "    e_score.append(RF.score(x_test, y_test))\n",
    "    \n",
    "est = e_score.index(max(e_score))\n",
    "print(est,e_score[est])"
   ]
  },
  {
   "cell_type": "code",
   "execution_count": 8,
   "metadata": {},
   "outputs": [
    {
     "name": "stdout",
     "output_type": "stream",
     "text": [
      "0.6222222222222222 23\n"
     ]
    }
   ],
   "source": [
    "#双层搜索\n",
    "\n",
    "scores = [] #记录深度\n",
    "pos = []    #记录决策树数目\n",
    "\n",
    "for i in range(1, 10): #深度\n",
    "    temp = [] \n",
    "    for j in range(1, 40): #决策树数目\n",
    "        RF = RandomForestClassifier(n_estimators=j, criterion='entropy', max_depth=i)\n",
    "        RF.fit(x_train, y_train)\n",
    "        temp.append(RF.score(x_test, y_test))\n",
    "    scores.append(max(temp)) #存储这21个中表现最好的模型的scores\n",
    "    pos.append(temp.index(max(temp))) #存储表现最好的模型的决策树数目\n",
    "\n",
    "max_scores = max(scores) #找出每种深度下的所有模型的最好模型\n",
    "si = scores.index(max(scores)) #该最好模型对应的决策树的数目\n",
    "depth = pos[si]\n",
    "print(max_scores, depth)"
   ]
  },
  {
   "cell_type": "code",
   "execution_count": null,
   "metadata": {},
   "outputs": [],
   "source": []
  },
  {
   "cell_type": "code",
   "execution_count": null,
   "metadata": {},
   "outputs": [],
   "source": []
  }
 ],
 "metadata": {
  "kernelspec": {
   "display_name": "Python 3",
   "language": "python",
   "name": "python3"
  },
  "language_info": {
   "codemirror_mode": {
    "name": "ipython",
    "version": 3
   },
   "file_extension": ".py",
   "mimetype": "text/x-python",
   "name": "python",
   "nbconvert_exporter": "python",
   "pygments_lexer": "ipython3",
   "version": "3.7.3"
  }
 },
 "nbformat": 4,
 "nbformat_minor": 2
}

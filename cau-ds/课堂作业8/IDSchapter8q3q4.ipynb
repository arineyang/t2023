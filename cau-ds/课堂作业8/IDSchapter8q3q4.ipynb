{
 "cells": [
  {
   "cell_type": "code",
   "execution_count": 17,
   "id": "ade4b880",
   "metadata": {},
   "outputs": [],
   "source": [
    "#3.使用Keras进行图像分类\n",
    "#以例8-3为例，使用Keras的ResNet50图像分类模型，在互联网任意收集三张不同动物的图片，预测动物的分类。分类正确或错误，都要解释一下为什么\n",
    "\n",
    "#使用预训练模型对图像进行分类\n",
    "\n",
    "from tensorflow.keras.applications.resnet50 import ResNet50\n",
    "from tensorflow.keras.applications.resnet50 import preprocess_input\n",
    "from tensorflow.keras.applications.resnet50 import decode_predictions\n",
    "from tensorflow.keras.preprocessing import image\n",
    "import numpy as np\n",
    "\n",
    "#导入预训练模型ResNet50\n",
    "model = ResNet50(weights='imagenet') \n",
    "# weights: None 代表随机初始化\n",
    "# 'imagenet' 代表加载在 ImageNet 上预训练的权值"
   ]
  },
  {
   "cell_type": "code",
   "execution_count": 23,
   "id": "46a75764",
   "metadata": {
    "scrolled": true
   },
   "outputs": [
    {
     "name": "stdout",
     "output_type": "stream",
     "text": [
      "[[[246. 246. 246.]\n",
      "  [246. 246. 246.]\n",
      "  [246. 246. 246.]\n",
      "  ...\n",
      "  [246. 246. 246.]\n",
      "  [246. 246. 246.]\n",
      "  [246. 246. 246.]]\n",
      "\n",
      " [[246. 246. 246.]\n",
      "  [246. 246. 246.]\n",
      "  [246. 246. 246.]\n",
      "  ...\n",
      "  [246. 246. 246.]\n",
      "  [246. 246. 246.]\n",
      "  [246. 246. 246.]]\n",
      "\n",
      " [[246. 246. 246.]\n",
      "  [246. 246. 246.]\n",
      "  [246. 246. 246.]\n",
      "  ...\n",
      "  [246. 246. 246.]\n",
      "  [246. 246. 246.]\n",
      "  [246. 246. 246.]]\n",
      "\n",
      " ...\n",
      "\n",
      " [[246. 246. 246.]\n",
      "  [246. 246. 246.]\n",
      "  [246. 246. 246.]\n",
      "  ...\n",
      "  [240. 240. 240.]\n",
      "  [247. 247. 247.]\n",
      "  [244. 244. 244.]]\n",
      "\n",
      " [[246. 246. 246.]\n",
      "  [246. 246. 246.]\n",
      "  [246. 246. 246.]\n",
      "  ...\n",
      "  [248. 248. 248.]\n",
      "  [247. 247. 247.]\n",
      "  [247. 247. 247.]]\n",
      "\n",
      " [[246. 246. 246.]\n",
      "  [246. 246. 246.]\n",
      "  [246. 246. 246.]\n",
      "  ...\n",
      "  [247. 247. 247.]\n",
      "  [246. 246. 246.]\n",
      "  [246. 246. 246.]]]\n",
      "(224, 224, 3)\n",
      "(1, 224, 224, 3)\n",
      "Predicted: [('n02110341', 'dalmatian', 0.99374557), ('n02099712', 'Labrador_retriever', 0.0012240281), ('n02107908', 'Appenzeller', 0.00034485888)]\n"
     ]
    }
   ],
   "source": [
    "#图片1\n",
    "# 对输入图片进行处理\n",
    "img_path = 'data/animal1.jpg'\n",
    "# 加载图片，保存在img_path路径下\n",
    "#  target_size=(224, 224)表示输入的图像尺寸为（224，224），即一幅图像是一个224x224大小的二维数组\n",
    "img = image.load_img(img_path, target_size=(224, 224))\n",
    "\n",
    "X1 = image.img_to_array(img) # 将图像转换为数组\n",
    "print(X1)\n",
    "print(X1.shape)\n",
    "\n",
    "# expand_dims用来扩展数组维度的，axis=0表示在0的位置加1维\n",
    "#一般神经网络定义好都是四个维度，所以我们需要再添加一维\n",
    "X1 = np.expand_dims(X1, axis=0)\n",
    "\n",
    "print(X1.shape)\n",
    "\n",
    "# 对样本执行逐样本均值消减 的归一化，去均值中心化，将图像足够适合模型所需的格式\n",
    "X1 = preprocess_input(X1)\n",
    "\n",
    "# 模型预测\n",
    "preds = model.predict(X1)\n",
    "\n",
    "print('Predicted:', decode_predictions(preds, top=3)[0])"
   ]
  },
  {
   "cell_type": "code",
   "execution_count": 24,
   "id": "4ff20d1c",
   "metadata": {},
   "outputs": [
    {
     "name": "stdout",
     "output_type": "stream",
     "text": [
      "[[[255. 255. 255.]\n",
      "  [255. 255. 255.]\n",
      "  [255. 255. 255.]\n",
      "  ...\n",
      "  [255. 255. 255.]\n",
      "  [255. 255. 255.]\n",
      "  [255. 255. 255.]]\n",
      "\n",
      " [[255. 255. 255.]\n",
      "  [255. 255. 255.]\n",
      "  [255. 255. 255.]\n",
      "  ...\n",
      "  [255. 255. 255.]\n",
      "  [255. 255. 255.]\n",
      "  [255. 255. 255.]]\n",
      "\n",
      " [[255. 255. 255.]\n",
      "  [255. 255. 255.]\n",
      "  [255. 255. 255.]\n",
      "  ...\n",
      "  [255. 255. 255.]\n",
      "  [255. 255. 255.]\n",
      "  [255. 255. 255.]]\n",
      "\n",
      " ...\n",
      "\n",
      " [[255. 255. 255.]\n",
      "  [255. 255. 255.]\n",
      "  [255. 255. 255.]\n",
      "  ...\n",
      "  [255. 255. 255.]\n",
      "  [255. 255. 255.]\n",
      "  [255. 255. 255.]]\n",
      "\n",
      " [[255. 255. 255.]\n",
      "  [255. 255. 255.]\n",
      "  [255. 255. 255.]\n",
      "  ...\n",
      "  [255. 255. 255.]\n",
      "  [255. 255. 255.]\n",
      "  [255. 255. 255.]]\n",
      "\n",
      " [[255. 255. 255.]\n",
      "  [255. 255. 255.]\n",
      "  [255. 255. 255.]\n",
      "  ...\n",
      "  [255. 255. 255.]\n",
      "  [255. 255. 255.]\n",
      "  [255. 255. 255.]]]\n",
      "(224, 224, 3)\n",
      "(1, 224, 224, 3)\n",
      "Predicted: [('n02123045', 'tabby', 0.9365656), ('n02124075', 'Egyptian_cat', 0.034593575), ('n02123159', 'tiger_cat', 0.02213674)]\n"
     ]
    }
   ],
   "source": [
    "#图片2\n",
    "# 对输入图片进行处理\n",
    "img_path = 'data/animal2.jpg'\n",
    "# 加载图片，保存在img_path路径下\n",
    "#  target_size=(224, 224)表示输入的图像尺寸为（224，224），即一幅图像是一个224x224大小的二维数组\n",
    "img = image.load_img(img_path, target_size=(224, 224))\n",
    "\n",
    "X2 = image.img_to_array(img) # 将图像转换为数组\n",
    "print(X2)\n",
    "print(X2.shape)\n",
    "\n",
    "# expand_dims用来扩展数组维度的，axis=0表示在0的位置加1维\n",
    "#一般神经网络定义好都是四个维度，所以我们需要再添加一维\n",
    "X2 = np.expand_dims(X2, axis=0)\n",
    "\n",
    "print(X2.shape)\n",
    "\n",
    "# 对样本执行逐样本均值消减 的归一化，去均值中心化，将图像足够适合模型所需的格式\n",
    "X2 = preprocess_input(X2)\n",
    "\n",
    "# 模型预测\n",
    "preds = model.predict(X2)\n",
    "\n",
    "print('Predicted:', decode_predictions(preds, top=3)[0])"
   ]
  },
  {
   "cell_type": "code",
   "execution_count": 20,
   "id": "cfcfd0a4",
   "metadata": {},
   "outputs": [
    {
     "name": "stdout",
     "output_type": "stream",
     "text": [
      "[[[132. 140. 153.]\n",
      "  [134. 142. 155.]\n",
      "  [142. 148. 164.]\n",
      "  ...\n",
      "  [102.  68.  43.]\n",
      "  [104.  65.  34.]\n",
      "  [100.  75.  55.]]\n",
      "\n",
      " [[126. 132. 144.]\n",
      "  [130. 136. 150.]\n",
      "  [137. 143. 159.]\n",
      "  ...\n",
      "  [100.  72.  50.]\n",
      "  [ 99.  64.  36.]\n",
      "  [100.  74.  57.]]\n",
      "\n",
      " [[120. 126. 138.]\n",
      "  [122. 128. 140.]\n",
      "  [130. 136. 150.]\n",
      "  ...\n",
      "  [ 98.  75.  57.]\n",
      "  [ 95.  64.  43.]\n",
      "  [ 96.  70.  55.]]\n",
      "\n",
      " ...\n",
      "\n",
      " [[124. 102.  81.]\n",
      "  [152. 134. 114.]\n",
      "  [133. 115. 101.]\n",
      "  ...\n",
      "  [215. 210. 206.]\n",
      "  [211. 204. 198.]\n",
      "  [212. 207. 201.]]\n",
      "\n",
      " [[131. 108.  90.]\n",
      "  [139. 121. 101.]\n",
      "  [142. 125. 109.]\n",
      "  ...\n",
      "  [213. 206. 198.]\n",
      "  [215. 206. 201.]\n",
      "  [217. 208. 203.]]\n",
      "\n",
      " [[140. 119. 102.]\n",
      "  [131. 114.  96.]\n",
      "  [139. 121. 107.]\n",
      "  ...\n",
      "  [215. 208. 198.]\n",
      "  [223. 212. 208.]\n",
      "  [220. 209. 205.]]]\n",
      "(224, 224, 3)\n",
      "(1, 224, 224, 3)\n",
      "Predicted: [('n02510455', 'giant_panda', 0.9999541), ('n02134084', 'ice_bear', 1.190429e-05), ('n02412080', 'ram', 6.644288e-06)]\n"
     ]
    }
   ],
   "source": [
    "#图片3\n",
    "# 对输入图片进行处理\n",
    "img_path = 'data/animal3.jpg'\n",
    "# 加载图片，保存在img_path路径下\n",
    "#  target_size=(224, 224)表示输入的图像尺寸为（224，224），即一幅图像是一个224x224大小的二维数组\n",
    "img = image.load_img(img_path, target_size=(224, 224))\n",
    "\n",
    "X3 = image.img_to_array(img) # 将图像转换为数组\n",
    "print(X3)\n",
    "print(X3.shape)\n",
    "\n",
    "# expand_dims用来扩展数组维度的，axis=0表示在0的位置加1维\n",
    "#一般神经网络定义好都是四个维度，所以我们需要再添加一维\n",
    "X3 = np.expand_dims(X3, axis=0)\n",
    "\n",
    "print(X3.shape)\n",
    "\n",
    "# 对样本执行逐样本均值消减 的归一化，去均值中心化，将图像足够适合模型所需的格式\n",
    "X3 = preprocess_input(X3)\n",
    "\n",
    "# 模型预测\n",
    "preds = model.predict(X3)\n",
    "\n",
    "print('Predicted:', decode_predictions(preds, top=3)[0])"
   ]
  },
  {
   "cell_type": "code",
   "execution_count": null,
   "id": "4a192d81",
   "metadata": {},
   "outputs": [],
   "source": []
  },
  {
   "cell_type": "code",
   "execution_count": 27,
   "id": "3439b341",
   "metadata": {},
   "outputs": [],
   "source": [
    "#4.自己构建网络利用CNN进行手写数字识别\n",
    "\n",
    "#（1）读取数据\n",
    "#加载数据集\n",
    "import tensorflow as tf\n",
    "from tensorflow.keras import datasets, layers, models\n",
    "import matplotlib.pyplot as plt\n",
    "import numpy as np\n",
    "(train_images, train_labels), (test_images, test_labels) = datasets.mnist.load_data()"
   ]
  },
  {
   "cell_type": "code",
   "execution_count": 28,
   "id": "a1e635b8",
   "metadata": {},
   "outputs": [
    {
     "data": {
      "text/plain": [
       "(10000,)"
      ]
     },
     "execution_count": 28,
     "metadata": {},
     "output_type": "execute_result"
    }
   ],
   "source": [
    "#查看数据维度\n",
    "train_images.shape\n",
    "test_images.shape\n",
    "train_labels.shape\n",
    "test_labels.shape"
   ]
  },
  {
   "cell_type": "code",
   "execution_count": 7,
   "id": "a2163faa",
   "metadata": {},
   "outputs": [
    {
     "data": {
      "text/plain": [
       "<matplotlib.image.AxesImage at 0x2d13db598b0>"
      ]
     },
     "execution_count": 7,
     "metadata": {},
     "output_type": "execute_result"
    },
    {
     "data": {
      "image/png": "[encoded data removed]",
      "text/plain": [
       "<Figure size 640x480 with 1 Axes>"
      ]
     },
     "metadata": {},
     "output_type": "display_data"
    }
   ],
   "source": [
    "#查看图片\n",
    "plt.imshow(train_images[0])"
   ]
  },
  {
   "cell_type": "code",
   "execution_count": 15,
   "id": "1ddaae29",
   "metadata": {},
   "outputs": [
    {
     "data": {
      "text/plain": [
       "array([[  0,   0,   0,   0,   0,   0,   0,   0,   0,   0,   0,   0,   0,\n",
       "          0,   0,   0,   0,   0,   0,   0,   0,   0,   0,   0,   0,   0,\n",
       "          0,   0],\n",
       "       [  0,   0,   0,   0,   0,   0,   0,   0,   0,   0,   0,   0,   0,\n",
       "          0,   0,   0,   0,   0,   0,   0,   0,   0,   0,   0,   0,   0,\n",
       "          0,   0],\n",
       "       [  0,   0,   0,   0,   0,   0,   0,   0,   0,   0,   0,   0,   0,\n",
       "          0,   0,   0,   0,   0,   0,   0,   0,   0,   0,   0,   0,   0,\n",
       "          0,   0],\n",
       "       [  0,   0,   0,   0,   0,   0,   0,   0,   0,   0,   0,   0,   0,\n",
       "          0,   0,   0,   0,   0,   0,   0,   0,   0,   0,   0,   0,   0,\n",
       "          0,   0],\n",
       "       [  0,   0,   0,   0,   0,   0,   0,   0,   0,   0,   0,   0,   0,\n",
       "          0,   0,   0,   0,   0,   0,   0,   0,   0,   0,   0,   0,   0,\n",
       "          0,   0],\n",
       "       [  0,   0,   0,   0,   0,   0,   0,   0,   0,   0,   0,   0,   3,\n",
       "         18,  18,  18, 126, 136, 175,  26, 166, 255, 247, 127,   0,   0,\n",
       "          0,   0],\n",
       "       [  0,   0,   0,   0,   0,   0,   0,   0,  30,  36,  94, 154, 170,\n",
       "        253, 253, 253, 253, 253, 225, 172, 253, 242, 195,  64,   0,   0,\n",
       "          0,   0],\n",
       "       [  0,   0,   0,   0,   0,   0,   0,  49, 238, 253, 253, 253, 253,\n",
       "        253, 253, 253, 253, 251,  93,  82,  82,  56,  39,   0,   0,   0,\n",
       "          0,   0],\n",
       "       [  0,   0,   0,   0,   0,   0,   0,  18, 219, 253, 253, 253, 253,\n",
       "        253, 198, 182, 247, 241,   0,   0,   0,   0,   0,   0,   0,   0,\n",
       "          0,   0],\n",
       "       [  0,   0,   0,   0,   0,   0,   0,   0,  80, 156, 107, 253, 253,\n",
       "        205,  11,   0,  43, 154,   0,   0,   0,   0,   0,   0,   0,   0,\n",
       "          0,   0],\n",
       "       [  0,   0,   0,   0,   0,   0,   0,   0,   0,  14,   1, 154, 253,\n",
       "         90,   0,   0,   0,   0,   0,   0,   0,   0,   0,   0,   0,   0,\n",
       "          0,   0],\n",
       "       [  0,   0,   0,   0,   0,   0,   0,   0,   0,   0,   0, 139, 253,\n",
       "        190,   2,   0,   0,   0,   0,   0,   0,   0,   0,   0,   0,   0,\n",
       "          0,   0],\n",
       "       [  0,   0,   0,   0,   0,   0,   0,   0,   0,   0,   0,  11, 190,\n",
       "        253,  70,   0,   0,   0,   0,   0,   0,   0,   0,   0,   0,   0,\n",
       "          0,   0],\n",
       "       [  0,   0,   0,   0,   0,   0,   0,   0,   0,   0,   0,   0,  35,\n",
       "        241, 225, 160, 108,   1,   0,   0,   0,   0,   0,   0,   0,   0,\n",
       "          0,   0],\n",
       "       [  0,   0,   0,   0,   0,   0,   0,   0,   0,   0,   0,   0,   0,\n",
       "         81, 240, 253, 253, 119,  25,   0,   0,   0,   0,   0,   0,   0,\n",
       "          0,   0],\n",
       "       [  0,   0,   0,   0,   0,   0,   0,   0,   0,   0,   0,   0,   0,\n",
       "          0,  45, 186, 253, 253, 150,  27,   0,   0,   0,   0,   0,   0,\n",
       "          0,   0],\n",
       "       [  0,   0,   0,   0,   0,   0,   0,   0,   0,   0,   0,   0,   0,\n",
       "          0,   0,  16,  93, 252, 253, 187,   0,   0,   0,   0,   0,   0,\n",
       "          0,   0],\n",
       "       [  0,   0,   0,   0,   0,   0,   0,   0,   0,   0,   0,   0,   0,\n",
       "          0,   0,   0,   0, 249, 253, 249,  64,   0,   0,   0,   0,   0,\n",
       "          0,   0],\n",
       "       [  0,   0,   0,   0,   0,   0,   0,   0,   0,   0,   0,   0,   0,\n",
       "          0,  46, 130, 183, 253, 253, 207,   2,   0,   0,   0,   0,   0,\n",
       "          0,   0],\n",
       "       [  0,   0,   0,   0,   0,   0,   0,   0,   0,   0,   0,   0,  39,\n",
       "        148, 229, 253, 253, 253, 250, 182,   0,   0,   0,   0,   0,   0,\n",
       "          0,   0],\n",
       "       [  0,   0,   0,   0,   0,   0,   0,   0,   0,   0,  24, 114, 221,\n",
       "        253, 253, 253, 253, 201,  78,   0,   0,   0,   0,   0,   0,   0,\n",
       "          0,   0],\n",
       "       [  0,   0,   0,   0,   0,   0,   0,   0,  23,  66, 213, 253, 253,\n",
       "        253, 253, 198,  81,   2,   0,   0,   0,   0,   0,   0,   0,   0,\n",
       "          0,   0],\n",
       "       [  0,   0,   0,   0,   0,   0,  18, 171, 219, 253, 253, 253, 253,\n",
       "        195,  80,   9,   0,   0,   0,   0,   0,   0,   0,   0,   0,   0,\n",
       "          0,   0],\n",
       "       [  0,   0,   0,   0,  55, 172, 226, 253, 253, 253, 253, 244, 133,\n",
       "         11,   0,   0,   0,   0,   0,   0,   0,   0,   0,   0,   0,   0,\n",
       "          0,   0],\n",
       "       [  0,   0,   0,   0, 136, 253, 253, 253, 212, 135, 132,  16,   0,\n",
       "          0,   0,   0,   0,   0,   0,   0,   0,   0,   0,   0,   0,   0,\n",
       "          0,   0],\n",
       "       [  0,   0,   0,   0,   0,   0,   0,   0,   0,   0,   0,   0,   0,\n",
       "          0,   0,   0,   0,   0,   0,   0,   0,   0,   0,   0,   0,   0,\n",
       "          0,   0],\n",
       "       [  0,   0,   0,   0,   0,   0,   0,   0,   0,   0,   0,   0,   0,\n",
       "          0,   0,   0,   0,   0,   0,   0,   0,   0,   0,   0,   0,   0,\n",
       "          0,   0],\n",
       "       [  0,   0,   0,   0,   0,   0,   0,   0,   0,   0,   0,   0,   0,\n",
       "          0,   0,   0,   0,   0,   0,   0,   0,   0,   0,   0,   0,   0,\n",
       "          0,   0]], dtype=uint8)"
      ]
     },
     "execution_count": 15,
     "metadata": {},
     "output_type": "execute_result"
    }
   ],
   "source": [
    "#查看图片取值\n",
    "train_images[0]"
   ]
  },
  {
   "cell_type": "code",
   "execution_count": 16,
   "id": "8b0b6040",
   "metadata": {},
   "outputs": [
    {
     "name": "stdout",
     "output_type": "stream",
     "text": [
      "max: 255\n",
      "min: 0\n"
     ]
    }
   ],
   "source": [
    "#查看取值范围\n",
    "print(\"max:\",np.max(train_images))\n",
    "print(\"min:\",np.min(train_images))"
   ]
  },
  {
   "cell_type": "code",
   "execution_count": 17,
   "id": "006e38fb",
   "metadata": {},
   "outputs": [
    {
     "data": {
      "text/plain": [
       "((60000, 28, 28, 1), (10000, 28, 28, 1), (60000,), (10000,))"
      ]
     },
     "execution_count": 17,
     "metadata": {},
     "output_type": "execute_result"
    }
   ],
   "source": [
    "#（2）数据预处理\n",
    "\n",
    "#调整数据格式，将每个图像矩阵扁平化成一个向量\n",
    "train_images = train_images.reshape((60000, 28, 28, 1))\n",
    "test_images = test_images.reshape((10000, 28, 28, 1))\n",
    "train_images.shape,test_images.shape,train_labels.shape,test_labels.shape"
   ]
  },
  {
   "cell_type": "code",
   "execution_count": 18,
   "id": "1eb3d824",
   "metadata": {},
   "outputs": [],
   "source": [
    "#将像素的值[0,255]归一化为[0,1]的区间\n",
    "train_images, test_images = train_images / 255.0, test_images / 255.0"
   ]
  },
  {
   "cell_type": "code",
   "execution_count": 19,
   "id": "eaf3ff85",
   "metadata": {},
   "outputs": [
    {
     "data": {
      "image/png": "[encoded data removed]",
      "text/plain": [
       "<Figure size 2000x1000 with 20 Axes>"
      ]
     },
     "metadata": {},
     "output_type": "display_data"
    }
   ],
   "source": [
    "#数据可视化\n",
    "plt.figure(figsize=(20,10))\n",
    "for i in range(20):\n",
    "    plt.subplot(5,10,i+1)\n",
    "    plt.xticks([])\n",
    "    plt.yticks([])\n",
    "    plt.grid(False)\n",
    "    plt.imshow(train_images[i], cmap=plt.cm.binary)\n",
    "    plt.xlabel(train_labels[i])\n",
    "plt.show()"
   ]
  },
  {
   "cell_type": "code",
   "execution_count": 20,
   "id": "3852eaff",
   "metadata": {},
   "outputs": [
    {
     "name": "stdout",
     "output_type": "stream",
     "text": [
      "Model: \"sequential\"\n",
      "_________________________________________________________________\n",
      "Layer (type)                 Output Shape              Param #   \n",
      "=================================================================\n",
      "conv2d (Conv2D)              (None, 26, 26, 32)        320       \n",
      "_________________________________________________________________\n",
      "max_pooling2d (MaxPooling2D) (None, 13, 13, 32)        0         \n",
      "_________________________________________________________________\n",
      "conv2d_1 (Conv2D)            (None, 11, 11, 64)        18496     \n",
      "_________________________________________________________________\n",
      "max_pooling2d_1 (MaxPooling2 (None, 5, 5, 64)          0         \n",
      "_________________________________________________________________\n",
      "flatten (Flatten)            (None, 1600)              0         \n",
      "_________________________________________________________________\n",
      "dense (Dense)                (None, 64)                102464    \n",
      "_________________________________________________________________\n",
      "dense_1 (Dense)              (None, 10)                650       \n",
      "=================================================================\n",
      "Total params: 121,930\n",
      "Trainable params: 121,930\n",
      "Non-trainable params: 0\n",
      "_________________________________________________________________\n"
     ]
    }
   ],
   "source": [
    "#（3）构建CNN神经网络模型\n",
    "model = models.Sequential([\n",
    "    layers.Conv2D(32, (3, 3), activation='relu', input_shape=(28, 28, 1)),#卷积层1，卷积核3*3\n",
    "    layers.MaxPooling2D((2, 2)),                   #池化层1，2*2采样\n",
    "    layers.Conv2D(64, (3, 3), activation='relu'),  #卷积层2，卷积核3*3\n",
    "    layers.MaxPooling2D((2, 2)),                   #池化层2，2*2采样\n",
    "    \n",
    "    layers.Flatten(),                              #Flatten层，连接卷积层与全连接层\n",
    "    layers.Dense(64, activation='relu'),\t\t   #全连接层，特征进一步提取\n",
    "    layers.Dense(10)                               #输出层，输出预期结果\n",
    "])\n",
    "model.summary() # 打印网络结构模型"
   ]
  },
  {
   "cell_type": "code",
   "execution_count": 21,
   "id": "2c97f5dd",
   "metadata": {},
   "outputs": [],
   "source": [
    "#（4）设置学习目标\n",
    "model.compile(optimizer='adam', #optimizer：指定优化算法\n",
    "              loss=tf.keras.losses.SparseCategoricalCrossentropy(from_logits=True), #loss：定义损失函数\n",
    "              metrics=['accuracy']) #metrics：评价指标\n"
   ]
  },
  {
   "cell_type": "code",
   "execution_count": 22,
   "id": "b4f7b4f3",
   "metadata": {},
   "outputs": [
    {
     "name": "stdout",
     "output_type": "stream",
     "text": [
      "Epoch 1/10\n",
      "1875/1875 [==============================] - 41s 21ms/step - loss: 0.1372 - accuracy: 0.9587 - val_loss: 0.0514 - val_accuracy: 0.9837\n",
      "Epoch 2/10\n",
      "1875/1875 [==============================] - 39s 21ms/step - loss: 0.0464 - accuracy: 0.9852 - val_loss: 0.0432 - val_accuracy: 0.9850\n",
      "Epoch 3/10\n",
      "1875/1875 [==============================] - 40s 21ms/step - loss: 0.0335 - accuracy: 0.9891 - val_loss: 0.0328 - val_accuracy: 0.9882\n",
      "Epoch 4/10\n",
      "1875/1875 [==============================] - 38s 20ms/step - loss: 0.0240 - accuracy: 0.9925 - val_loss: 0.0296 - val_accuracy: 0.9900\n",
      "Epoch 5/10\n",
      "1875/1875 [==============================] - 38s 20ms/step - loss: 0.0182 - accuracy: 0.9940 - val_loss: 0.0288 - val_accuracy: 0.9897\n",
      "Epoch 6/10\n",
      "1875/1875 [==============================] - 37s 20ms/step - loss: 0.0141 - accuracy: 0.9955 - val_loss: 0.0351 - val_accuracy: 0.9892\n",
      "Epoch 7/10\n",
      "1875/1875 [==============================] - 38s 20ms/step - loss: 0.0115 - accuracy: 0.9962 - val_loss: 0.0378 - val_accuracy: 0.9904\n",
      "Epoch 8/10\n",
      "1875/1875 [==============================] - 40s 21ms/step - loss: 0.0101 - accuracy: 0.9968 - val_loss: 0.0489 - val_accuracy: 0.9867\n",
      "Epoch 9/10\n",
      "1875/1875 [==============================] - 38s 20ms/step - loss: 0.0082 - accuracy: 0.9973 - val_loss: 0.0344 - val_accuracy: 0.9911\n",
      "Epoch 10/10\n",
      "1875/1875 [==============================] - 38s 20ms/step - loss: 0.0077 - accuracy: 0.9972 - val_loss: 0.0348 - val_accuracy: 0.9911\n"
     ]
    }
   ],
   "source": [
    "#（5）训练模型\n",
    "\n",
    "history = model.fit(train_images, train_labels, epochs=10, \n",
    "                    validation_data=(test_images, test_labels))\n",
    "#训练数据集（图片及标签）、验证数据集（图片及标签）以及迭代次数epochs"
   ]
  },
  {
   "cell_type": "code",
   "execution_count": 23,
   "id": "4ac92103",
   "metadata": {},
   "outputs": [
    {
     "name": "stdout",
     "output_type": "stream",
     "text": [
      "313/313 [==============================] - 2s 7ms/step - loss: 0.0348 - accuracy: 0.9911\n",
      "Test loss: 0.03476965054869652\n",
      "Test accuracy: 0.991100013256073\n"
     ]
    }
   ],
   "source": [
    "#（6）评估模型\n",
    "score= model.evaluate(test_images,test_labels)\n",
    "print(\"Test loss:\",score[0]) #模型的损失值\n",
    "print(\"Test accuracy:\",score[1]) #模型评估的精度"
   ]
  },
  {
   "cell_type": "code",
   "execution_count": 24,
   "id": "f7057969",
   "metadata": {},
   "outputs": [
    {
     "data": {
      "text/plain": [
       "array([  5.765004  ,  -0.05935497,  22.087845  , -16.180822  ,\n",
       "       -13.422332  , -34.739143  ,  -2.411435  , -14.812837  ,\n",
       "        -1.4224633 , -18.437164  ], dtype=float32)"
      ]
     },
     "execution_count": 24,
     "metadata": {},
     "output_type": "execute_result"
    },
    {
     "data": {
      "image/png": "[encoded data removed]",
      "text/plain": [
       "<Figure size 640x480 with 1 Axes>"
      ]
     },
     "metadata": {},
     "output_type": "display_data"
    }
   ],
   "source": [
    "#（7）测试模型\n",
    "plt.imshow(test_images[1])\n",
    "pre = model.predict(test_images) # 对所有测试图片进行预测\n",
    "pre[1] # 输出第一张图片的预测结果：可以看到在第三个位置的值最大，所以预测结果是2"
   ]
  },
  {
   "cell_type": "code",
   "execution_count": 25,
   "id": "58a6483b",
   "metadata": {},
   "outputs": [
    {
     "data": {
      "text/plain": [
       "2"
      ]
     },
     "execution_count": 25,
     "metadata": {},
     "output_type": "execute_result"
    }
   ],
   "source": [
    "#查看预测结果\n",
    "np.argmax([pre[1]])"
   ]
  },
  {
   "cell_type": "code",
   "execution_count": 26,
   "id": "b162bada",
   "metadata": {},
   "outputs": [
    {
     "data": {
      "text/plain": [
       "2"
      ]
     },
     "execution_count": 26,
     "metadata": {},
     "output_type": "execute_result"
    }
   ],
   "source": [
    "#查看标签\n",
    "test_labels[1]"
   ]
  },
  {
   "cell_type": "code",
   "execution_count": null,
   "id": "2538b0d4",
   "metadata": {},
   "outputs": [],
   "source": [
    "#结果为2"
   ]
  }
 ],
 "metadata": {
  "kernelspec": {
   "display_name": "Python 3 (ipykernel)",
   "language": "python",
   "name": "python3"
  },
  "language_info": {
   "codemirror_mode": {
    "name": "ipython",
    "version": 3
   },
   "file_extension": ".py",
   "mimetype": "text/x-python",
   "name": "python",
   "nbconvert_exporter": "python",
   "pygments_lexer": "ipython3",
   "version": "3.9.13"
  }
 },
 "nbformat": 4,
 "nbformat_minor": 5
}
